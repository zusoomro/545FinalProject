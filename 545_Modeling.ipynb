{
  "nbformat": 4,
  "nbformat_minor": 0,
  "metadata": {
    "colab": {
      "name": "545-Modeling.ipynb",
      "provenance": [],
      "collapsed_sections": [],
      "machine_shape": "hm",
      "authorship_tag": "ABX9TyOfpP9Pm0/iTwv7BxOoFHrL",
      "include_colab_link": true
    },
    "kernelspec": {
      "name": "python3",
      "display_name": "Python 3"
    }
  },
  "cells": [
    {
      "cell_type": "markdown",
      "metadata": {
        "id": "view-in-github",
        "colab_type": "text"
      },
      "source": [
        "<a href=\"https://colab.research.google.com/github/zusoomro/545FinalProject/blob/master/545_Modeling.ipynb\" target=\"_parent\"><img src=\"https://colab.research.google.com/assets/colab-badge.svg\" alt=\"Open In Colab\"/></a>"
      ]
    },
    {
      "cell_type": "markdown",
      "metadata": {
        "id": "Q5gi9eU8Dd9-",
        "colab_type": "text"
      },
      "source": [
        "# Modeling - PCA and Regression\n"
      ]
    },
    {
      "cell_type": "markdown",
      "metadata": {
        "id": "Xt-ks1G7Dm8u",
        "colab_type": "text"
      },
      "source": [
        "## Setup"
      ]
    },
    {
      "cell_type": "code",
      "metadata": {
        "id": "8eiPSaeVDhoU",
        "colab_type": "code",
        "colab": {}
      },
      "source": [
        "import numpy as np\n",
        "import pandas as pd\n",
        "import matplotlib\n",
        "\n",
        "import gc\n",
        "import time\n",
        "import warnings\n",
        "\n",
        "import nltk\n",
        "\n",
        "from wordcloud import WordCloud\n",
        "import matplotlib.pyplot as plt\n",
        "\n",
        "from collections import Counter\n",
        "\n",
        "import scipy"
      ],
      "execution_count": 0,
      "outputs": []
    },
    {
      "cell_type": "code",
      "metadata": {
        "id": "DQmuqQbmK88L",
        "colab_type": "code",
        "colab": {
          "base_uri": "https://localhost:8080/",
          "height": 34
        },
        "outputId": "fd649481-0486-48c0-bc8f-74125c93524c"
      },
      "source": [
        "from google.colab import drive\n",
        "drive.mount('/content/drive')\n",
        "\n",
        "drive_data_path = \"/content/drive/My Drive/CIS 545/Final Project/X.npz\"\n",
        "\n",
        "with open(drive_data_path, 'r') as f:\n",
        "  X = scipy.sparse.load_npz(drive_data_path)"
      ],
      "execution_count": 3,
      "outputs": [
        {
          "output_type": "stream",
          "text": [
            "Drive already mounted at /content/drive; to attempt to forcibly remount, call drive.mount(\"/content/drive\", force_remount=True).\n"
          ],
          "name": "stdout"
        }
      ]
    },
    {
      "cell_type": "code",
      "metadata": {
        "id": "lGKuZwsuSvUP",
        "colab_type": "code",
        "colab": {
          "base_uri": "https://localhost:8080/",
          "height": 51
        },
        "outputId": "3ff8184e-5bf9-4e68-ab8b-ebc7fce123d3"
      },
      "source": [
        "X"
      ],
      "execution_count": 4,
      "outputs": [
        {
          "output_type": "execute_result",
          "data": {
            "text/plain": [
              "<2188680x908 sparse matrix of type '<class 'numpy.float64'>'\n",
              "\twith 33005494 stored elements in COOrdinate format>"
            ]
          },
          "metadata": {
            "tags": []
          },
          "execution_count": 4
        }
      ]
    },
    {
      "cell_type": "code",
      "metadata": {
        "id": "NmiZCVL4Qp45",
        "colab_type": "code",
        "colab": {}
      },
      "source": [
        "y_path = \"/content/drive/My Drive/CIS 545/Final Project/y\"\n",
        "\n",
        "with open(y_path, 'rb') as f:\n",
        "  y = pd.read_pickle(f)"
      ],
      "execution_count": 0,
      "outputs": []
    },
    {
      "cell_type": "markdown",
      "metadata": {
        "id": "PpuOYNvZEAcY",
        "colab_type": "text"
      },
      "source": [
        "## PCA"
      ]
    },
    {
      "cell_type": "code",
      "metadata": {
        "id": "msLjwzFJLoy2",
        "colab_type": "code",
        "colab": {}
      },
      "source": [
        "from sklearn.preprocessing import StandardScaler\n",
        "\n",
        "# Standardizing the features based on unit variance\n",
        "X = StandardScaler(with_mean=False).fit_transform(X)"
      ],
      "execution_count": 0,
      "outputs": []
    },
    {
      "cell_type": "code",
      "metadata": {
        "id": "e4SwIeIkP5Ti",
        "colab_type": "code",
        "colab": {
          "base_uri": "https://localhost:8080/",
          "height": 51
        },
        "outputId": "7e6fcf54-8a17-4b72-8117-a8f6c3f60f43"
      },
      "source": [
        "# Get the shape of the data\n",
        "X"
      ],
      "execution_count": 7,
      "outputs": [
        {
          "output_type": "execute_result",
          "data": {
            "text/plain": [
              "<2188680x908 sparse matrix of type '<class 'numpy.float64'>'\n",
              "\twith 33005494 stored elements in Compressed Sparse Row format>"
            ]
          },
          "metadata": {
            "tags": []
          },
          "execution_count": 7
        }
      ]
    },
    {
      "cell_type": "markdown",
      "metadata": {
        "id": "MbGQ3Qd6x6em",
        "colab_type": "text"
      },
      "source": [
        "IncrementalPCA is a scikit learn module which works incrementally, allowing the dataset to be processed in Colab. Because I'd rather keep the data sparse instead of blowing it up to a dense representation, I'll use IncrementalPCA here instead of PCA (as it accepts sparse input)"
      ]
    },
    {
      "cell_type": "code",
      "metadata": {
        "id": "tZJldV9SPxWi",
        "colab_type": "code",
        "colab": {}
      },
      "source": [
        "# from sklearn.decomposition import TruncatedSVD\n",
        "\n",
        "# pca = TruncatedSVD(n_components=400)\n",
        "# X2 = pca.fit_transform(X)"
      ],
      "execution_count": 0,
      "outputs": []
    },
    {
      "cell_type": "code",
      "metadata": {
        "id": "0A5wZuEl21T0",
        "colab_type": "code",
        "colab": {}
      },
      "source": [
        "from sklearn.decomposition import IncrementalPCA\n",
        "\n",
        "pca = IncrementalPCA(n_components=600, batch_size=10000)"
      ],
      "execution_count": 0,
      "outputs": []
    },
    {
      "cell_type": "code",
      "metadata": {
        "id": "jpzFxZsQsexL",
        "colab_type": "code",
        "colab": {
          "base_uri": "https://localhost:8080/",
          "height": 34
        },
        "outputId": "baef0c32-f6fa-4e0f-eb20-b28dce743f92"
      },
      "source": [
        "pca.fit(X)"
      ],
      "execution_count": 11,
      "outputs": [
        {
          "output_type": "execute_result",
          "data": {
            "text/plain": [
              "IncrementalPCA(batch_size=10000, copy=True, n_components=600, whiten=False)"
            ]
          },
          "metadata": {
            "tags": []
          },
          "execution_count": 11
        }
      ]
    },
    {
      "cell_type": "code",
      "metadata": {
        "id": "-vnm0WWWsggW",
        "colab_type": "code",
        "colab": {}
      },
      "source": [
        "X2 = pca.transform(X)"
      ],
      "execution_count": 0,
      "outputs": []
    },
    {
      "cell_type": "code",
      "metadata": {
        "id": "UHamMlcNySCa",
        "colab_type": "code",
        "colab": {
          "base_uri": "https://localhost:8080/",
          "height": 282
        },
        "outputId": "2edd696e-3454-44a6-fbf5-d8c82313c194"
      },
      "source": [
        "# See how much is contributed by the first few terms\n",
        "pc_vs_variance = np.cumsum(pca.explained_variance_ratio_)\n",
        "\n",
        "pc_vs_variance\n",
        "plt.plot(pc_vs_variance)"
      ],
      "execution_count": 13,
      "outputs": [
        {
          "output_type": "execute_result",
          "data": {
            "text/plain": [
              "[<matplotlib.lines.Line2D at 0x7fccea006f98>]"
            ]
          },
          "metadata": {
            "tags": []
          },
          "execution_count": 13
        },
        {
          "output_type": "display_data",
          "data": {
            "image/png": "[encoded data removed]",
            "text/plain": [
              "<Figure size 432x288 with 1 Axes>"
            ]
          },
          "metadata": {
            "tags": [],
            "needs_background": "light"
          }
        }
      ]
    },
    {
      "cell_type": "markdown",
      "metadata": {
        "id": "XIKO8nZ-uAsf",
        "colab_type": "text"
      },
      "source": [
        "Looks like most of the variance is explained by the 600'th component, so we will choose to use that many."
      ]
    },
    {
      "cell_type": "code",
      "metadata": {
        "id": "GUZ3OFg-uGz1",
        "colab_type": "code",
        "colab": {}
      },
      "source": [
        ""
      ],
      "execution_count": 0,
      "outputs": []
    }
  ]
}