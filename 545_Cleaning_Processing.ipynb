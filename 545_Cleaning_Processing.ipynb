{
  "nbformat": 4,
  "nbformat_minor": 0,
  "metadata": {
    "colab": {
      "name": "545-Cleaning-Processing.ipynb",
      "provenance": [],
      "collapsed_sections": [],
      "toc_visible": true,
      "machine_shape": "hm",
      "authorship_tag": "ABX9TyNO0OshMpv0jAdjFlrThjZZ",
      "include_colab_link": true
    },
    "kernelspec": {
      "name": "python3",
      "display_name": "Python 3"
    }
  },
  "cells": [
    {
      "cell_type": "markdown",
      "metadata": {
        "id": "view-in-github",
        "colab_type": "text"
      },
      "source": [
        "<a href=\"https://colab.research.google.com/github/zusoomro/545FinalProject/blob/master/545_Cleaning_Processing.ipynb\" target=\"_parent\"><img src=\"https://colab.research.google.com/assets/colab-badge.svg\" alt=\"Open In Colab\"/></a>"
      ]
    },
    {
      "cell_type": "markdown",
      "metadata": {
        "id": "d6XkCU_ca40n",
        "colab_type": "text"
      },
      "source": [
        "# Cleaning and Preprocessing the Accident Dataset"
      ]
    },
    {
      "cell_type": "markdown",
      "metadata": {
        "id": "ijj4nhysewRb",
        "colab_type": "text"
      },
      "source": [
        "## Setting up"
      ]
    },
    {
      "cell_type": "markdown",
      "metadata": {
        "id": "n01IShevfNBA",
        "colab_type": "text"
      },
      "source": [
        "### Loading in the necessary modules"
      ]
    },
    {
      "cell_type": "code",
      "metadata": {
        "id": "WNPBvL2veygG",
        "colab_type": "code",
        "outputId": "4d0df61b-d88a-48a8-e8c9-c58eea07cd08",
        "colab": {
          "base_uri": "https://localhost:8080/",
          "height": 51
        }
      },
      "source": [
        "import numpy as np\n",
        "import pandas as pd\n",
        "import matplotlib\n",
        "\n",
        "import gc\n",
        "import time\n",
        "import warnings\n",
        "\n",
        "import nltk\n",
        "nltk.download('punkt')\n",
        "\n",
        "from wordcloud import WordCloud\n",
        "import matplotlib.pyplot as plt\n",
        "\n",
        "from collections import Counter\n",
        "\n",
        "import scipy"
      ],
      "execution_count": 1,
      "outputs": [
        {
          "output_type": "stream",
          "text": [
            "[nltk_data] Downloading package punkt to /root/nltk_data...\n",
            "[nltk_data]   Unzipping tokenizers/punkt.zip.\n"
          ],
          "name": "stdout"
        }
      ]
    },
    {
      "cell_type": "markdown",
      "metadata": {
        "id": "KNeDvP9Yc-aT",
        "colab_type": "text"
      },
      "source": [
        "\n",
        "## Loading in the data"
      ]
    },
    {
      "cell_type": "code",
      "metadata": {
        "id": "J2RU1zVLhwVt",
        "colab_type": "code",
        "outputId": "f2d117b9-b8ef-45a1-ef3a-2166a9c940f5",
        "colab": {
          "base_uri": "https://localhost:8080/",
          "height": 122
        }
      },
      "source": [
        "from google.colab import drive\n",
        "drive.mount('/content/drive')\n",
        "\n",
        "drive_data_path = \"/content/drive/My Drive/CIS 545/Final Project/US_Accidents_Dec19.csv\"\n",
        "\n",
        "with open(drive_data_path, 'r') as f:\n",
        "  data = pd.read_csv(f)"
      ],
      "execution_count": 2,
      "outputs": [
        {
          "output_type": "stream",
          "text": [
            "Go to this URL in a browser: https://accounts.google.com/o/oauth2/auth?client_id=947318989803-6bn6qk8qdgf4n4g3pfee6491hc0brc4i.apps.googleusercontent.com&redirect_uri=urn%3aietf%3awg%3aoauth%3a2.0%3aoob&response_type=code&scope=email%20https%3a%2f%2fwww.googleapis.com%2fauth%2fdocs.test%20https%3a%2f%2fwww.googleapis.com%2fauth%2fdrive%20https%3a%2f%2fwww.googleapis.com%2fauth%2fdrive.photos.readonly%20https%3a%2f%2fwww.googleapis.com%2fauth%2fpeopleapi.readonly\n",
            "\n",
            "Enter your authorization code:\n",
            "··········\n",
            "Mounted at /content/drive\n"
          ],
          "name": "stdout"
        }
      ]
    },
    {
      "cell_type": "code",
      "metadata": {
        "id": "fwwm8Wx9_ONR",
        "colab_type": "code",
        "colab": {
          "base_uri": "https://localhost:8080/",
          "height": 34
        },
        "outputId": "2dd5c1ae-661d-4d19-bb96-68c403b6454c"
      },
      "source": [
        "data.shape"
      ],
      "execution_count": 3,
      "outputs": [
        {
          "output_type": "execute_result",
          "data": {
            "text/plain": [
              "(2974335, 49)"
            ]
          },
          "metadata": {
            "tags": []
          },
          "execution_count": 3
        }
      ]
    },
    {
      "cell_type": "markdown",
      "metadata": {
        "id": "5lua7Zvc8T7p",
        "colab_type": "text"
      },
      "source": [
        "## Part One: Easier said than done"
      ]
    },
    {
      "cell_type": "markdown",
      "metadata": {
        "id": "IlxQMvzR8sy-",
        "colab_type": "text"
      },
      "source": [
        "This part of the data processing is going to be focused on cleaning the data and retrieving initial features."
      ]
    },
    {
      "cell_type": "markdown",
      "metadata": {
        "id": "hL3db4-s82nq",
        "colab_type": "text"
      },
      "source": [
        "### Cleaning out irrelevant and invalid data"
      ]
    },
    {
      "cell_type": "markdown",
      "metadata": {
        "id": "Uu-4-sKB9SFS",
        "colab_type": "text"
      },
      "source": [
        "First, we're going to remove columns that aren't helpful to the task at hand: predicting severity. For example, we aren't going to be doing any sort of prediction using the location of the accident, so columns involving location can be dropped. "
      ]
    },
    {
      "cell_type": "code",
      "metadata": {
        "id": "By0_QoQj9wsi",
        "colab_type": "code",
        "colab": {}
      },
      "source": [
        "processed_data = data.drop(['Start_Lat', 'End_Lat', 'Start_Lng', 'End_Lng', \n",
        "                            'Number', 'Street', 'City', 'County', 'State', \n",
        "                            'Zipcode', 'Country', 'Timezone', 'Airport_Code'], \n",
        "                           axis=1)"
      ],
      "execution_count": 0,
      "outputs": []
    },
    {
      "cell_type": "code",
      "metadata": {
        "id": "7_JmiktyDMDA",
        "colab_type": "code",
        "colab": {
          "base_uri": "https://localhost:8080/",
          "height": 34
        },
        "outputId": "0c833a07-7a2e-4328-944a-ab7fdfd4e958"
      },
      "source": [
        "processed_data.shape"
      ],
      "execution_count": 5,
      "outputs": [
        {
          "output_type": "execute_result",
          "data": {
            "text/plain": [
              "(2974335, 36)"
            ]
          },
          "metadata": {
            "tags": []
          },
          "execution_count": 5
        }
      ]
    },
    {
      "cell_type": "markdown",
      "metadata": {
        "id": "gkPOGU7pE7kk",
        "colab_type": "text"
      },
      "source": [
        "I'm also going to drop many of the weather columns - from the EDA most of them have very low correlation with severity, and in doing so I hope to reduce the number of rows overall that need to be dropped because of null values. I'm going to keep around Weather Condiiton, Visibility, Precipitation, and Temperature as general indicators of the weather at the accident. Later in the analysis, if it seems that these are extremely important factors in predicting severity, I'll revisit this decision and perhaps keep more of the weather columns in at the expense of dropping more columns in general."
      ]
    },
    {
      "cell_type": "code",
      "metadata": {
        "id": "YybPJuLiFeuu",
        "colab_type": "code",
        "colab": {}
      },
      "source": [
        "processed_data = processed_data.drop(['Weather_Timestamp', 'Wind_Chill(F)', \n",
        "                                      'Humidity(%)', 'Pressure(in)', \n",
        "                                      'Wind_Direction', 'Wind_Speed(mph)'], axis=1)"
      ],
      "execution_count": 0,
      "outputs": []
    },
    {
      "cell_type": "markdown",
      "metadata": {
        "id": "i29OCA3dfLX5",
        "colab_type": "text"
      },
      "source": [
        "Additionally, the ID column is not useful to us since pandas maintains its own separate id system."
      ]
    },
    {
      "cell_type": "code",
      "metadata": {
        "id": "Nn9tyJ8zfUro",
        "colab_type": "code",
        "colab": {}
      },
      "source": [
        "processed_data = processed_data.drop(['ID'], axis=1)"
      ],
      "execution_count": 0,
      "outputs": []
    },
    {
      "cell_type": "markdown",
      "metadata": {
        "id": "EfWxdOpO-z5P",
        "colab_type": "text"
      },
      "source": [
        "Next, we're going to take a look at the number of rows and columns containing NaN's and consider dropping them."
      ]
    },
    {
      "cell_type": "code",
      "metadata": {
        "id": "GTNslCNg-5cm",
        "colab_type": "code",
        "colab": {
          "base_uri": "https://localhost:8080/",
          "height": 34
        },
        "outputId": "e17adf32-ca86-4d3c-efcd-e3e442486eaa"
      },
      "source": [
        "processed_data.isnull().any(axis=1).sum()  "
      ],
      "execution_count": 8,
      "outputs": [
        {
          "output_type": "execute_result",
          "data": {
            "text/plain": [
              "2271132"
            ]
          },
          "metadata": {
            "tags": []
          },
          "execution_count": 8
        }
      ]
    },
    {
      "cell_type": "code",
      "metadata": {
        "id": "1AarD5D9B4Ja",
        "colab_type": "code",
        "colab": {
          "base_uri": "https://localhost:8080/",
          "height": 527
        },
        "outputId": "fe20c873-0d8a-48f2-fbda-3cf1585685d8"
      },
      "source": [
        "processed_data.isnull().sum(axis=0)"
      ],
      "execution_count": 9,
      "outputs": [
        {
          "output_type": "execute_result",
          "data": {
            "text/plain": [
              "Source                         0\n",
              "TMC                       728071\n",
              "Severity                       0\n",
              "Start_Time                     0\n",
              "End_Time                       0\n",
              "Distance(mi)                   0\n",
              "Description                    1\n",
              "Side                           0\n",
              "Temperature(F)             56063\n",
              "Visibility(mi)             65691\n",
              "Precipitation(in)        1998358\n",
              "Weather_Condition          65932\n",
              "Amenity                        0\n",
              "Bump                           0\n",
              "Crossing                       0\n",
              "Give_Way                       0\n",
              "Junction                       0\n",
              "No_Exit                        0\n",
              "Railway                        0\n",
              "Roundabout                     0\n",
              "Station                        0\n",
              "Stop                           0\n",
              "Traffic_Calming                0\n",
              "Traffic_Signal                 0\n",
              "Turning_Loop                   0\n",
              "Sunrise_Sunset                93\n",
              "Civil_Twilight                93\n",
              "Nautical_Twilight             93\n",
              "Astronomical_Twilight         93\n",
              "dtype: int64"
            ]
          },
          "metadata": {
            "tags": []
          },
          "execution_count": 9
        }
      ]
    },
    {
      "cell_type": "markdown",
      "metadata": {
        "id": "pBuiZiioDYTQ",
        "colab_type": "text"
      },
      "source": [
        "It looks like Precipitation has over 1.9 million null values, so I'm going to drop it in an effort to reduce the total number of rows that we need to drop. Because the rest of the null values are below 100k, I'm going to drop the individual rows there instead of the columns."
      ]
    },
    {
      "cell_type": "code",
      "metadata": {
        "id": "D8NHM2f9DyQo",
        "colab_type": "code",
        "colab": {}
      },
      "source": [
        "processed_data = processed_data.drop(['Precipitation(in)'], axis=1)"
      ],
      "execution_count": 0,
      "outputs": []
    },
    {
      "cell_type": "code",
      "metadata": {
        "id": "gHPjFpjKEaPY",
        "colab_type": "code",
        "colab": {
          "base_uri": "https://localhost:8080/",
          "height": 34
        },
        "outputId": "afa4eedb-fb22-4376-d441-da2cb79f3344"
      },
      "source": [
        "processed_data.shape"
      ],
      "execution_count": 11,
      "outputs": [
        {
          "output_type": "execute_result",
          "data": {
            "text/plain": [
              "(2974335, 28)"
            ]
          },
          "metadata": {
            "tags": []
          },
          "execution_count": 11
        }
      ]
    },
    {
      "cell_type": "markdown",
      "metadata": {
        "id": "DvzuLUbREegL",
        "colab_type": "text"
      },
      "source": [
        "And taking a look at the nulls on the rows again..."
      ]
    },
    {
      "cell_type": "code",
      "metadata": {
        "id": "IaFI5Z0eEg1z",
        "colab_type": "code",
        "colab": {
          "base_uri": "https://localhost:8080/",
          "height": 34
        },
        "outputId": "96d3d23b-cee7-4f5b-bf66-bb75671ca6c4"
      },
      "source": [
        "processed_data.isnull().any(axis=1).sum()  "
      ],
      "execution_count": 12,
      "outputs": [
        {
          "output_type": "execute_result",
          "data": {
            "text/plain": [
              "785655"
            ]
          },
          "metadata": {
            "tags": []
          },
          "execution_count": 12
        }
      ]
    },
    {
      "cell_type": "code",
      "metadata": {
        "id": "r7Qg1pl5Ixvm",
        "colab_type": "code",
        "colab": {
          "base_uri": "https://localhost:8080/",
          "height": 510
        },
        "outputId": "f464e6dc-4234-4250-b125-0b53c8fd6357"
      },
      "source": [
        "processed_data.isnull().sum(axis=0)"
      ],
      "execution_count": 13,
      "outputs": [
        {
          "output_type": "execute_result",
          "data": {
            "text/plain": [
              "Source                        0\n",
              "TMC                      728071\n",
              "Severity                      0\n",
              "Start_Time                    0\n",
              "End_Time                      0\n",
              "Distance(mi)                  0\n",
              "Description                   1\n",
              "Side                          0\n",
              "Temperature(F)            56063\n",
              "Visibility(mi)            65691\n",
              "Weather_Condition         65932\n",
              "Amenity                       0\n",
              "Bump                          0\n",
              "Crossing                      0\n",
              "Give_Way                      0\n",
              "Junction                      0\n",
              "No_Exit                       0\n",
              "Railway                       0\n",
              "Roundabout                    0\n",
              "Station                       0\n",
              "Stop                          0\n",
              "Traffic_Calming               0\n",
              "Traffic_Signal                0\n",
              "Turning_Loop                  0\n",
              "Sunrise_Sunset               93\n",
              "Civil_Twilight               93\n",
              "Nautical_Twilight            93\n",
              "Astronomical_Twilight        93\n",
              "dtype: int64"
            ]
          },
          "metadata": {
            "tags": []
          },
          "execution_count": 13
        }
      ]
    },
    {
      "cell_type": "markdown",
      "metadata": {
        "id": "UkQPzTGCcijY",
        "colab_type": "text"
      },
      "source": [
        "TMC is an important part of the analysis for this problem, so although there are ~700k null values there, I'm going to move forward and drop rows with null values. If this causes a problem in further analysis, I'll revisit."
      ]
    },
    {
      "cell_type": "code",
      "metadata": {
        "id": "JICNorDOc9s5",
        "colab_type": "code",
        "colab": {}
      },
      "source": [
        "processed_data = processed_data.dropna()"
      ],
      "execution_count": 0,
      "outputs": []
    },
    {
      "cell_type": "code",
      "metadata": {
        "id": "nEMLZ5GAdQfH",
        "colab_type": "code",
        "colab": {
          "base_uri": "https://localhost:8080/",
          "height": 34
        },
        "outputId": "ffa6a611-1e71-4405-ba1a-e8f0522cadd0"
      },
      "source": [
        "processed_data.shape"
      ],
      "execution_count": 15,
      "outputs": [
        {
          "output_type": "execute_result",
          "data": {
            "text/plain": [
              "(2188680, 28)"
            ]
          },
          "metadata": {
            "tags": []
          },
          "execution_count": 15
        }
      ]
    },
    {
      "cell_type": "markdown",
      "metadata": {
        "id": "zVJwKipsd0RG",
        "colab_type": "text"
      },
      "source": [
        "### Processing the dates into an accident duration"
      ]
    },
    {
      "cell_type": "markdown",
      "metadata": {
        "id": "fi9vrCzoer96",
        "colab_type": "text"
      },
      "source": [
        "The current state of the data has start and end time as datetime objects. This won't be helpful for modeling, so I'm going to process these columns into an \"Accident_Duration\" column, which represents start time minus finish time in seconds."
      ]
    },
    {
      "cell_type": "code",
      "metadata": {
        "id": "cHssuE9peCDC",
        "colab_type": "code",
        "colab": {
          "base_uri": "https://localhost:8080/",
          "height": 68
        },
        "outputId": "34ca1222-3893-4fe1-cbdc-3df571e4b94c"
      },
      "source": [
        "processed_data[['Start_Time', 'End_Time']].dtypes"
      ],
      "execution_count": 16,
      "outputs": [
        {
          "output_type": "execute_result",
          "data": {
            "text/plain": [
              "Start_Time    object\n",
              "End_Time      object\n",
              "dtype: object"
            ]
          },
          "metadata": {
            "tags": []
          },
          "execution_count": 16
        }
      ]
    },
    {
      "cell_type": "markdown",
      "metadata": {
        "id": "xt1n8UUZfhVl",
        "colab_type": "text"
      },
      "source": [
        "Looks like theyre objects, we're going to have to process them into datetime objects first."
      ]
    },
    {
      "cell_type": "code",
      "metadata": {
        "id": "nKfr-Fzfg0d-",
        "colab_type": "code",
        "colab": {
          "base_uri": "https://localhost:8080/",
          "height": 204
        },
        "outputId": "f0812ec6-67cd-469d-c0d9-cc0d37768132"
      },
      "source": [
        "processed_data[['Start_Time', 'End_Time']].head()"
      ],
      "execution_count": 17,
      "outputs": [
        {
          "output_type": "execute_result",
          "data": {
            "text/html": [
              "<div>\n",
              "<style scoped>\n",
              "    .dataframe tbody tr th:only-of-type {\n",
              "        vertical-align: middle;\n",
              "    }\n",
              "\n",
              "    .dataframe tbody tr th {\n",
              "        vertical-align: top;\n",
              "    }\n",
              "\n",
              "    .dataframe thead th {\n",
              "        text-align: right;\n",
              "    }\n",
              "</style>\n",
              "<table border=\"1\" class=\"dataframe\">\n",
              "  <thead>\n",
              "    <tr style=\"text-align: right;\">\n",
              "      <th></th>\n",
              "      <th>Start_Time</th>\n",
              "      <th>End_Time</th>\n",
              "    </tr>\n",
              "  </thead>\n",
              "  <tbody>\n",
              "    <tr>\n",
              "      <th>0</th>\n",
              "      <td>2016-02-08 05:46:00</td>\n",
              "      <td>2016-02-08 11:00:00</td>\n",
              "    </tr>\n",
              "    <tr>\n",
              "      <th>1</th>\n",
              "      <td>2016-02-08 06:07:59</td>\n",
              "      <td>2016-02-08 06:37:59</td>\n",
              "    </tr>\n",
              "    <tr>\n",
              "      <th>2</th>\n",
              "      <td>2016-02-08 06:49:27</td>\n",
              "      <td>2016-02-08 07:19:27</td>\n",
              "    </tr>\n",
              "    <tr>\n",
              "      <th>3</th>\n",
              "      <td>2016-02-08 07:23:34</td>\n",
              "      <td>2016-02-08 07:53:34</td>\n",
              "    </tr>\n",
              "    <tr>\n",
              "      <th>4</th>\n",
              "      <td>2016-02-08 07:39:07</td>\n",
              "      <td>2016-02-08 08:09:07</td>\n",
              "    </tr>\n",
              "  </tbody>\n",
              "</table>\n",
              "</div>"
            ],
            "text/plain": [
              "            Start_Time             End_Time\n",
              "0  2016-02-08 05:46:00  2016-02-08 11:00:00\n",
              "1  2016-02-08 06:07:59  2016-02-08 06:37:59\n",
              "2  2016-02-08 06:49:27  2016-02-08 07:19:27\n",
              "3  2016-02-08 07:23:34  2016-02-08 07:53:34\n",
              "4  2016-02-08 07:39:07  2016-02-08 08:09:07"
            ]
          },
          "metadata": {
            "tags": []
          },
          "execution_count": 17
        }
      ]
    },
    {
      "cell_type": "code",
      "metadata": {
        "id": "AN6AIAfvhEVP",
        "colab_type": "code",
        "colab": {}
      },
      "source": [
        "processed_data['Start_Time'] = pd.to_datetime(processed_data['Start_Time'])\n",
        "processed_data['End_Time'] = pd.to_datetime(processed_data['End_Time'])"
      ],
      "execution_count": 0,
      "outputs": []
    },
    {
      "cell_type": "code",
      "metadata": {
        "id": "tBjgqkxmhSjj",
        "colab_type": "code",
        "colab": {
          "base_uri": "https://localhost:8080/",
          "height": 204
        },
        "outputId": "6531788f-fd1a-462e-bf56-040f0509e281"
      },
      "source": [
        "processed_data[['Start_Time', 'End_Time']].head()"
      ],
      "execution_count": 19,
      "outputs": [
        {
          "output_type": "execute_result",
          "data": {
            "text/html": [
              "<div>\n",
              "<style scoped>\n",
              "    .dataframe tbody tr th:only-of-type {\n",
              "        vertical-align: middle;\n",
              "    }\n",
              "\n",
              "    .dataframe tbody tr th {\n",
              "        vertical-align: top;\n",
              "    }\n",
              "\n",
              "    .dataframe thead th {\n",
              "        text-align: right;\n",
              "    }\n",
              "</style>\n",
              "<table border=\"1\" class=\"dataframe\">\n",
              "  <thead>\n",
              "    <tr style=\"text-align: right;\">\n",
              "      <th></th>\n",
              "      <th>Start_Time</th>\n",
              "      <th>End_Time</th>\n",
              "    </tr>\n",
              "  </thead>\n",
              "  <tbody>\n",
              "    <tr>\n",
              "      <th>0</th>\n",
              "      <td>2016-02-08 05:46:00</td>\n",
              "      <td>2016-02-08 11:00:00</td>\n",
              "    </tr>\n",
              "    <tr>\n",
              "      <th>1</th>\n",
              "      <td>2016-02-08 06:07:59</td>\n",
              "      <td>2016-02-08 06:37:59</td>\n",
              "    </tr>\n",
              "    <tr>\n",
              "      <th>2</th>\n",
              "      <td>2016-02-08 06:49:27</td>\n",
              "      <td>2016-02-08 07:19:27</td>\n",
              "    </tr>\n",
              "    <tr>\n",
              "      <th>3</th>\n",
              "      <td>2016-02-08 07:23:34</td>\n",
              "      <td>2016-02-08 07:53:34</td>\n",
              "    </tr>\n",
              "    <tr>\n",
              "      <th>4</th>\n",
              "      <td>2016-02-08 07:39:07</td>\n",
              "      <td>2016-02-08 08:09:07</td>\n",
              "    </tr>\n",
              "  </tbody>\n",
              "</table>\n",
              "</div>"
            ],
            "text/plain": [
              "           Start_Time            End_Time\n",
              "0 2016-02-08 05:46:00 2016-02-08 11:00:00\n",
              "1 2016-02-08 06:07:59 2016-02-08 06:37:59\n",
              "2 2016-02-08 06:49:27 2016-02-08 07:19:27\n",
              "3 2016-02-08 07:23:34 2016-02-08 07:53:34\n",
              "4 2016-02-08 07:39:07 2016-02-08 08:09:07"
            ]
          },
          "metadata": {
            "tags": []
          },
          "execution_count": 19
        }
      ]
    },
    {
      "cell_type": "code",
      "metadata": {
        "id": "981QMAyHhVbL",
        "colab_type": "code",
        "colab": {
          "base_uri": "https://localhost:8080/",
          "height": 68
        },
        "outputId": "2cc25166-e625-4e09-9ae4-fc092330a051"
      },
      "source": [
        "processed_data[['Start_Time', 'End_Time']].dtypes"
      ],
      "execution_count": 20,
      "outputs": [
        {
          "output_type": "execute_result",
          "data": {
            "text/plain": [
              "Start_Time    datetime64[ns]\n",
              "End_Time      datetime64[ns]\n",
              "dtype: object"
            ]
          },
          "metadata": {
            "tags": []
          },
          "execution_count": 20
        }
      ]
    },
    {
      "cell_type": "markdown",
      "metadata": {
        "id": "fQ5mhSXEhj-n",
        "colab_type": "text"
      },
      "source": [
        "Now, to convert them to a duration."
      ]
    },
    {
      "cell_type": "code",
      "metadata": {
        "id": "evNXk5cBhlm4",
        "colab_type": "code",
        "colab": {}
      },
      "source": [
        "processed_data['Duration(s)'] = processed_data['Start_Time'] - processed_data['End_Time']\n",
        "processed_data['Duration(s)'] = processed_data['Duration(s)'].dt.seconds"
      ],
      "execution_count": 0,
      "outputs": []
    },
    {
      "cell_type": "code",
      "metadata": {
        "id": "ugP9XqWUieaP",
        "colab_type": "code",
        "colab": {
          "base_uri": "https://localhost:8080/",
          "height": 221
        },
        "outputId": "82e90884-e6a0-4cc1-bdb0-68819e171f58"
      },
      "source": [
        "processed_data['Duration(s)']"
      ],
      "execution_count": 22,
      "outputs": [
        {
          "output_type": "execute_result",
          "data": {
            "text/plain": [
              "0          67560\n",
              "1          84600\n",
              "2          84600\n",
              "3          84600\n",
              "4          84600\n",
              "           ...  \n",
              "2246259    84623\n",
              "2246260    84665\n",
              "2246261    84701\n",
              "2246262    84661\n",
              "2246263    84600\n",
              "Name: Duration(s), Length: 2188680, dtype: int64"
            ]
          },
          "metadata": {
            "tags": []
          },
          "execution_count": 22
        }
      ]
    },
    {
      "cell_type": "code",
      "metadata": {
        "id": "uhq1jQomipv-",
        "colab_type": "code",
        "colab": {
          "base_uri": "https://localhost:8080/",
          "height": 170
        },
        "outputId": "3092b591-5de0-4e1e-e1b8-32f3134a96f3"
      },
      "source": [
        "processed_data['Duration(s)'].describe()"
      ],
      "execution_count": 23,
      "outputs": [
        {
          "output_type": "execute_result",
          "data": {
            "text/plain": [
              "count    2.188680e+06\n",
              "mean     8.352427e+04\n",
              "std      1.993337e+03\n",
              "min      0.000000e+00\n",
              "25%      8.283300e+04\n",
              "50%      8.385100e+04\n",
              "75%      8.461900e+04\n",
              "max      8.632700e+04\n",
              "Name: Duration(s), dtype: float64"
            ]
          },
          "metadata": {
            "tags": []
          },
          "execution_count": 23
        }
      ]
    },
    {
      "cell_type": "code",
      "metadata": {
        "id": "RtpeEr2ajjmi",
        "colab_type": "code",
        "colab": {}
      },
      "source": [
        "processed_data = processed_data.drop(['Start_Time', 'End_Time'], axis=1)"
      ],
      "execution_count": 0,
      "outputs": []
    },
    {
      "cell_type": "code",
      "metadata": {
        "id": "8h8niAXpjFXh",
        "colab_type": "code",
        "colab": {
          "base_uri": "https://localhost:8080/",
          "height": 493
        },
        "outputId": "8fd1eed4-2296-4763-ee0e-1eaf1e3f847f"
      },
      "source": [
        "processed_data.dtypes"
      ],
      "execution_count": 25,
      "outputs": [
        {
          "output_type": "execute_result",
          "data": {
            "text/plain": [
              "Source                    object\n",
              "TMC                      float64\n",
              "Severity                   int64\n",
              "Distance(mi)             float64\n",
              "Description               object\n",
              "Side                      object\n",
              "Temperature(F)           float64\n",
              "Visibility(mi)           float64\n",
              "Weather_Condition         object\n",
              "Amenity                     bool\n",
              "Bump                        bool\n",
              "Crossing                    bool\n",
              "Give_Way                    bool\n",
              "Junction                    bool\n",
              "No_Exit                     bool\n",
              "Railway                     bool\n",
              "Roundabout                  bool\n",
              "Station                     bool\n",
              "Stop                        bool\n",
              "Traffic_Calming             bool\n",
              "Traffic_Signal              bool\n",
              "Turning_Loop                bool\n",
              "Sunrise_Sunset            object\n",
              "Civil_Twilight            object\n",
              "Nautical_Twilight         object\n",
              "Astronomical_Twilight     object\n",
              "Duration(s)                int64\n",
              "dtype: object"
            ]
          },
          "metadata": {
            "tags": []
          },
          "execution_count": 25
        }
      ]
    },
    {
      "cell_type": "markdown",
      "metadata": {
        "id": "03Nms3LQjT_s",
        "colab_type": "text"
      },
      "source": [
        "I'm going to want to convert the Source, side, and weather conditions to a one-hot encoding."
      ]
    },
    {
      "cell_type": "markdown",
      "metadata": {
        "id": "Wz833qmUkAF8",
        "colab_type": "text"
      },
      "source": [
        "### One-hot encodings"
      ]
    },
    {
      "cell_type": "markdown",
      "metadata": {
        "id": "FptspdfvkB8U",
        "colab_type": "text"
      },
      "source": [
        "There's a lot of categorical information in this data which might be helpful for modeling severity. I'm going to convert them to one-hot encodings."
      ]
    },
    {
      "cell_type": "code",
      "metadata": {
        "id": "b-eDCFgkkBPl",
        "colab_type": "code",
        "colab": {
          "base_uri": "https://localhost:8080/",
          "height": 34
        },
        "outputId": "9d7f9596-75e2-4cac-fc6e-d2b51396bff5"
      },
      "source": [
        "processed_data = \\\n",
        "  pd.concat([processed_data.drop(['Source'], axis=1), \n",
        "             pd.get_dummies(processed_data['Source'], \n",
        "             sparse=True)], axis=1);\n",
        "processed_data.shape"
      ],
      "execution_count": 26,
      "outputs": [
        {
          "output_type": "execute_result",
          "data": {
            "text/plain": [
              "(2188680, 28)"
            ]
          },
          "metadata": {
            "tags": []
          },
          "execution_count": 26
        }
      ]
    },
    {
      "cell_type": "code",
      "metadata": {
        "id": "k1a54LaLkWmB",
        "colab_type": "code",
        "colab": {
          "base_uri": "https://localhost:8080/",
          "height": 34
        },
        "outputId": "04a91384-fcec-4ec5-e4d0-30e615ac7f02"
      },
      "source": [
        "processed_data = \\\n",
        "  pd.concat([processed_data.drop(['Side'], axis=1), \n",
        "             pd.get_dummies(processed_data['Side'],\n",
        "             sparse=True)], axis=1);\n",
        "processed_data.shape"
      ],
      "execution_count": 27,
      "outputs": [
        {
          "output_type": "execute_result",
          "data": {
            "text/plain": [
              "(2188680, 30)"
            ]
          },
          "metadata": {
            "tags": []
          },
          "execution_count": 27
        }
      ]
    },
    {
      "cell_type": "code",
      "metadata": {
        "id": "lNiSTQmEkht7",
        "colab_type": "code",
        "colab": {
          "base_uri": "https://localhost:8080/",
          "height": 34
        },
        "outputId": "8e9905ed-0531-456d-92d2-8fc81a2e3e13"
      },
      "source": [
        "processed_data = \\\n",
        "  pd.concat([processed_data.drop(['Weather_Condition'], axis=1),\n",
        "             pd.get_dummies(processed_data['Weather_Condition'], \n",
        "             sparse=True)], axis=1);\n",
        "processed_data.shape"
      ],
      "execution_count": 28,
      "outputs": [
        {
          "output_type": "execute_result",
          "data": {
            "text/plain": [
              "(2188680, 145)"
            ]
          },
          "metadata": {
            "tags": []
          },
          "execution_count": 28
        }
      ]
    },
    {
      "cell_type": "markdown",
      "metadata": {
        "id": "bSichHszk67F",
        "colab_type": "text"
      },
      "source": [
        "There's a lot of columns there. If this blows up the feature space too much, and performing operations ends up taking too long, I'll consider dropping this information.\n",
        "EDIT: Using pandas sparse matrices and eventually scipy sparse matrices to reduce features size and computation time"
      ]
    },
    {
      "cell_type": "code",
      "metadata": {
        "id": "3PbvtXX6lEIM",
        "colab_type": "code",
        "colab": {
          "base_uri": "https://localhost:8080/",
          "height": 34
        },
        "outputId": "00366055-46b4-4003-ea60-d1f09187a295"
      },
      "source": [
        "processed_data = \\\n",
        "  pd.concat([processed_data.drop(['Sunrise_Sunset'], axis=1),\n",
        "             pd.get_dummies(processed_data['Sunrise_Sunset'], \n",
        "             sparse=True)], axis=1);\n",
        "processed_data.shape"
      ],
      "execution_count": 29,
      "outputs": [
        {
          "output_type": "execute_result",
          "data": {
            "text/plain": [
              "(2188680, 146)"
            ]
          },
          "metadata": {
            "tags": []
          },
          "execution_count": 29
        }
      ]
    },
    {
      "cell_type": "code",
      "metadata": {
        "id": "iG1Bbqf5nq0S",
        "colab_type": "code",
        "colab": {
          "base_uri": "https://localhost:8080/",
          "height": 34
        },
        "outputId": "09959307-ac29-46f1-bde9-33e216c48356"
      },
      "source": [
        "processed_data = \\\n",
        "  pd.concat([processed_data.drop(['TMC'], axis=1),\n",
        "             pd.get_dummies(processed_data['TMC'], \n",
        "             sparse=True)], axis=1);\n",
        "processed_data.shape"
      ],
      "execution_count": 30,
      "outputs": [
        {
          "output_type": "execute_result",
          "data": {
            "text/plain": [
              "(2188680, 166)"
            ]
          },
          "metadata": {
            "tags": []
          },
          "execution_count": 30
        }
      ]
    },
    {
      "cell_type": "markdown",
      "metadata": {
        "id": "LGRx6NphnJUn",
        "colab_type": "text"
      },
      "source": [
        "And now dropping the other Sunrise/Sunset columns since they convey nearly identical information."
      ]
    },
    {
      "cell_type": "code",
      "metadata": {
        "id": "4GMZp4l6nIe0",
        "colab_type": "code",
        "colab": {}
      },
      "source": [
        "processed_data = processed_data.drop(['Civil_Twilight',\n",
        "                                      'Nautical_Twilight',\n",
        "                                      'Astronomical_Twilight',\n",
        "                                      ], axis=1)"
      ],
      "execution_count": 0,
      "outputs": []
    },
    {
      "cell_type": "code",
      "metadata": {
        "id": "GNzfZDNwnhYF",
        "colab_type": "code",
        "colab": {
          "base_uri": "https://localhost:8080/",
          "height": 34
        },
        "outputId": "d6861c1a-e28a-4aee-a7f0-839e9a99710b"
      },
      "source": [
        "processed_data.shape"
      ],
      "execution_count": 32,
      "outputs": [
        {
          "output_type": "execute_result",
          "data": {
            "text/plain": [
              "(2188680, 163)"
            ]
          },
          "metadata": {
            "tags": []
          },
          "execution_count": 32
        }
      ]
    },
    {
      "cell_type": "markdown",
      "metadata": {
        "id": "o_K3DZpkqlpX",
        "colab_type": "text"
      },
      "source": [
        "### Bools to ints"
      ]
    },
    {
      "cell_type": "markdown",
      "metadata": {
        "id": "ihpl10REqn1C",
        "colab_type": "text"
      },
      "source": [
        "Converting the location booleans to integer fields."
      ]
    },
    {
      "cell_type": "code",
      "metadata": {
        "id": "hFrOnM90qnL5",
        "colab_type": "code",
        "colab": {
          "base_uri": "https://localhost:8080/",
          "height": 629
        },
        "outputId": "d82da308-212a-4d22-d057-be8a741da2a3"
      },
      "source": [
        "processed_data.dtypes[0:35]"
      ],
      "execution_count": 33,
      "outputs": [
        {
          "output_type": "execute_result",
          "data": {
            "text/plain": [
              "Severity                           int64\n",
              "Distance(mi)                     float64\n",
              "Description                       object\n",
              "Temperature(F)                   float64\n",
              "Visibility(mi)                   float64\n",
              "Amenity                             bool\n",
              "Bump                                bool\n",
              "Crossing                            bool\n",
              "Give_Way                            bool\n",
              "Junction                            bool\n",
              "No_Exit                             bool\n",
              "Railway                             bool\n",
              "Roundabout                          bool\n",
              "Station                             bool\n",
              "Stop                                bool\n",
              "Traffic_Calming                     bool\n",
              "Traffic_Signal                      bool\n",
              "Turning_Loop                        bool\n",
              "Duration(s)                        int64\n",
              "MapQuest                Sparse[uint8, 0]\n",
              "MapQuest-Bing           Sparse[uint8, 0]\n",
              "                        Sparse[uint8, 0]\n",
              "L                       Sparse[uint8, 0]\n",
              "R                       Sparse[uint8, 0]\n",
              "Blowing Dust            Sparse[uint8, 0]\n",
              "Blowing Dust / Windy    Sparse[uint8, 0]\n",
              "Blowing Sand            Sparse[uint8, 0]\n",
              "Blowing Snow            Sparse[uint8, 0]\n",
              "Blowing Snow / Windy    Sparse[uint8, 0]\n",
              "Clear                   Sparse[uint8, 0]\n",
              "Cloudy                  Sparse[uint8, 0]\n",
              "Cloudy / Windy          Sparse[uint8, 0]\n",
              "Drizzle                 Sparse[uint8, 0]\n",
              "Drizzle / Windy         Sparse[uint8, 0]\n",
              "Drizzle and Fog         Sparse[uint8, 0]\n",
              "dtype: object"
            ]
          },
          "metadata": {
            "tags": []
          },
          "execution_count": 33
        }
      ]
    },
    {
      "cell_type": "code",
      "metadata": {
        "id": "kqCNqP68q7pe",
        "colab_type": "code",
        "colab": {}
      },
      "source": [
        "processed_data[\"Amenity\"] = processed_data[\"Amenity\"].astype(int)\n",
        "processed_data[\"Bump\"] = processed_data[\"Bump\"].astype(int)\n",
        "processed_data[\"Crossing\"] = processed_data[\"Crossing\"].astype(int)\n",
        "processed_data[\"Give_Way\"] = processed_data[\"Give_Way\"].astype(int)\n",
        "processed_data[\"Junction\"] = processed_data[\"Junction\"].astype(int)\n",
        "processed_data[\"No_Exit\"] = processed_data[\"No_Exit\"].astype(int)\n",
        "processed_data[\"Railway\"] = processed_data[\"Railway\"].astype(int)\n",
        "processed_data[\"Roundabout\"] = processed_data[\"Roundabout\"].astype(int)\n",
        "processed_data[\"Station\"] = processed_data[\"Station\"].astype(int)\n",
        "processed_data[\"Stop\"] = processed_data[\"Stop\"].astype(int)\n",
        "processed_data[\"Traffic_Calming\"] = processed_data[\"Traffic_Calming\"].astype(int)\n",
        "processed_data[\"Traffic_Signal\"] = processed_data[\"Traffic_Signal\"].astype(int)\n",
        "processed_data[\"Turning_Loop\"] = processed_data[\"Turning_Loop\"].astype(int)"
      ],
      "execution_count": 0,
      "outputs": []
    },
    {
      "cell_type": "code",
      "metadata": {
        "id": "0DafEhnsrt3v",
        "colab_type": "code",
        "colab": {
          "base_uri": "https://localhost:8080/",
          "height": 629
        },
        "outputId": "adb98143-2d23-4a3a-c9b2-6cb90a14f941"
      },
      "source": [
        "processed_data.dtypes[0:35]"
      ],
      "execution_count": 35,
      "outputs": [
        {
          "output_type": "execute_result",
          "data": {
            "text/plain": [
              "Severity                           int64\n",
              "Distance(mi)                     float64\n",
              "Description                       object\n",
              "Temperature(F)                   float64\n",
              "Visibility(mi)                   float64\n",
              "Amenity                            int64\n",
              "Bump                               int64\n",
              "Crossing                           int64\n",
              "Give_Way                           int64\n",
              "Junction                           int64\n",
              "No_Exit                            int64\n",
              "Railway                            int64\n",
              "Roundabout                         int64\n",
              "Station                            int64\n",
              "Stop                               int64\n",
              "Traffic_Calming                    int64\n",
              "Traffic_Signal                     int64\n",
              "Turning_Loop                       int64\n",
              "Duration(s)                        int64\n",
              "MapQuest                Sparse[uint8, 0]\n",
              "MapQuest-Bing           Sparse[uint8, 0]\n",
              "                        Sparse[uint8, 0]\n",
              "L                       Sparse[uint8, 0]\n",
              "R                       Sparse[uint8, 0]\n",
              "Blowing Dust            Sparse[uint8, 0]\n",
              "Blowing Dust / Windy    Sparse[uint8, 0]\n",
              "Blowing Sand            Sparse[uint8, 0]\n",
              "Blowing Snow            Sparse[uint8, 0]\n",
              "Blowing Snow / Windy    Sparse[uint8, 0]\n",
              "Clear                   Sparse[uint8, 0]\n",
              "Cloudy                  Sparse[uint8, 0]\n",
              "Cloudy / Windy          Sparse[uint8, 0]\n",
              "Drizzle                 Sparse[uint8, 0]\n",
              "Drizzle / Windy         Sparse[uint8, 0]\n",
              "Drizzle and Fog         Sparse[uint8, 0]\n",
              "dtype: object"
            ]
          },
          "metadata": {
            "tags": []
          },
          "execution_count": 35
        }
      ]
    },
    {
      "cell_type": "markdown",
      "metadata": {
        "id": "RzeYnrDaaWP6",
        "colab_type": "text"
      },
      "source": [
        "Description is the only field here which is still an object - I'm going to convert them to tf-idf rankings in the next block."
      ]
    },
    {
      "cell_type": "code",
      "metadata": {
        "id": "YeWV5Pg9sve7",
        "colab_type": "code",
        "colab": {
          "base_uri": "https://localhost:8080/",
          "height": 204
        },
        "outputId": "14e97832-bde7-450b-84b4-6303d4542eb1"
      },
      "source": [
        "processed_data.select_dtypes(include=['object']).head()"
      ],
      "execution_count": 36,
      "outputs": [
        {
          "output_type": "execute_result",
          "data": {
            "text/html": [
              "<div>\n",
              "<style scoped>\n",
              "    .dataframe tbody tr th:only-of-type {\n",
              "        vertical-align: middle;\n",
              "    }\n",
              "\n",
              "    .dataframe tbody tr th {\n",
              "        vertical-align: top;\n",
              "    }\n",
              "\n",
              "    .dataframe thead th {\n",
              "        text-align: right;\n",
              "    }\n",
              "</style>\n",
              "<table border=\"1\" class=\"dataframe\">\n",
              "  <thead>\n",
              "    <tr style=\"text-align: right;\">\n",
              "      <th></th>\n",
              "      <th>Description</th>\n",
              "    </tr>\n",
              "  </thead>\n",
              "  <tbody>\n",
              "    <tr>\n",
              "      <th>0</th>\n",
              "      <td>Right lane blocked due to accident on I-70 Eas...</td>\n",
              "    </tr>\n",
              "    <tr>\n",
              "      <th>1</th>\n",
              "      <td>Accident on Brice Rd at Tussing Rd. Expect del...</td>\n",
              "    </tr>\n",
              "    <tr>\n",
              "      <th>2</th>\n",
              "      <td>Accident on OH-32 State Route 32 Westbound at ...</td>\n",
              "    </tr>\n",
              "    <tr>\n",
              "      <th>3</th>\n",
              "      <td>Accident on I-75 Southbound at Exits 52 52B US...</td>\n",
              "    </tr>\n",
              "    <tr>\n",
              "      <th>4</th>\n",
              "      <td>Accident on McEwen Rd at OH-725 Miamisburg Cen...</td>\n",
              "    </tr>\n",
              "  </tbody>\n",
              "</table>\n",
              "</div>"
            ],
            "text/plain": [
              "                                         Description\n",
              "0  Right lane blocked due to accident on I-70 Eas...\n",
              "1  Accident on Brice Rd at Tussing Rd. Expect del...\n",
              "2  Accident on OH-32 State Route 32 Westbound at ...\n",
              "3  Accident on I-75 Southbound at Exits 52 52B US...\n",
              "4  Accident on McEwen Rd at OH-725 Miamisburg Cen..."
            ]
          },
          "metadata": {
            "tags": []
          },
          "execution_count": 36
        }
      ]
    },
    {
      "cell_type": "code",
      "metadata": {
        "id": "4E9P0_LMu62W",
        "colab_type": "code",
        "colab": {
          "base_uri": "https://localhost:8080/",
          "height": 34
        },
        "outputId": "090fbe31-4ee1-4079-fc29-128586e3cfe8"
      },
      "source": [
        "processed_data.memory_usage().sum()"
      ],
      "execution_count": 37,
      "outputs": [
        {
          "output_type": "execute_result",
          "data": {
            "text/plain": [
              "404905800"
            ]
          },
          "metadata": {
            "tags": []
          },
          "execution_count": 37
        }
      ]
    },
    {
      "cell_type": "markdown",
      "metadata": {
        "id": "4ibMY-BPx3Vz",
        "colab_type": "text"
      },
      "source": [
        "Under half a gig. Not bad. Gonna save the data here for future processing.\n",
        "\n",
        "\n",
        "\n"
      ]
    },
    {
      "cell_type": "code",
      "metadata": {
        "id": "Ub_d3f0Xz-Lx",
        "colab_type": "code",
        "colab": {}
      },
      "source": [
        "pickle = processed_data.to_pickle('/content/drive/My Drive/CIS 545/Final Project/processed_data_1')"
      ],
      "execution_count": 0,
      "outputs": []
    },
    {
      "cell_type": "markdown",
      "metadata": {
        "id": "K3xvtwfMyOhf",
        "colab_type": "text"
      },
      "source": [
        "## Part Two: Text processing\n",
        "\n",
        "I'm going to process the descriptions first by standardizing and cleaning the text, then by converting the text into TF-IDF rankings to get a better sense of the importance of words and their relative rarity.\n",
        "\n",
        "Here are some preprocessing steps I'm going to take:\n",
        "- Clean out punctuation\n",
        "- Take out stop words\n",
        "- Convert all abbreviations\n",
        "- Lowercase the entire text\n",
        "- Stemming the words through lemmization"
      ]
    },
    {
      "cell_type": "code",
      "metadata": {
        "id": "l8S8pnzaaf4U",
        "colab_type": "code",
        "colab": {
          "base_uri": "https://localhost:8080/",
          "height": 54
        },
        "outputId": "4d35bbb1-dc4c-4ca2-da69-f3a0c359cc8d"
      },
      "source": [
        "# Read in the previously stored pickle\n",
        "\n",
        "from google.colab import drive\n",
        "drive.mount('/content/drive')\n",
        "\n",
        "processed_data_1_path = \\\n",
        "  '/content/drive/My Drive/CIS 545/Final Project/processed_data_1'\n",
        "\n",
        "with open(processed_data_1_path, 'rb') as f:\n",
        "  processed_data_2 = pd.read_pickle(f)"
      ],
      "execution_count": 39,
      "outputs": [
        {
          "output_type": "stream",
          "text": [
            "Drive already mounted at /content/drive; to attempt to forcibly remount, call drive.mount(\"/content/drive\", force_remount=True).\n"
          ],
          "name": "stdout"
        }
      ]
    },
    {
      "cell_type": "code",
      "metadata": {
        "id": "QoJ4l6Pae-1W",
        "colab_type": "code",
        "colab": {}
      },
      "source": [
        "# Convert to lowercase\n",
        "\n",
        "processed_data_2['Description'] = (processed_data_2['Description']\n",
        "                                   .apply(lambda x: x.lower()))"
      ],
      "execution_count": 0,
      "outputs": []
    },
    {
      "cell_type": "code",
      "metadata": {
        "id": "EjICDxU7f8vM",
        "colab_type": "code",
        "colab": {
          "base_uri": "https://localhost:8080/",
          "height": 221
        },
        "outputId": "775a8a4d-d6f8-4f33-b42e-93492b39461e"
      },
      "source": [
        "processed_data_2['Description']"
      ],
      "execution_count": 41,
      "outputs": [
        {
          "output_type": "execute_result",
          "data": {
            "text/plain": [
              "0          right lane blocked due to accident on i-70 eas...\n",
              "1          accident on brice rd at tussing rd. expect del...\n",
              "2          accident on oh-32 state route 32 westbound at ...\n",
              "3          accident on i-75 southbound at exits 52 52b us...\n",
              "4          accident on mcewen rd at oh-725 miamisburg cen...\n",
              "                                 ...                        \n",
              "2246259    accident on i-5 southbound at forest rte-7n09 ...\n",
              "2246260    left lane closed due to accident on i-10 at na...\n",
              "2246261        accident on olive ave at ca-66 foothill blvd.\n",
              "2246262    #1 lane blocked due to accident on i-605 north...\n",
              "2246263    accident on temescal canyon rd eastbound in la...\n",
              "Name: Description, Length: 2188680, dtype: object"
            ]
          },
          "metadata": {
            "tags": []
          },
          "execution_count": 41
        }
      ]
    },
    {
      "cell_type": "code",
      "metadata": {
        "id": "dg3I3fGdqwT7",
        "colab_type": "code",
        "colab": {
          "base_uri": "https://localhost:8080/",
          "height": 119
        },
        "outputId": "53557791-25d2-4701-aa43-1905aa4e3f0d"
      },
      "source": [
        "# Remove punctuation\n",
        "\n",
        "def remove_punctuation(string):\n",
        "  # Dashes in Interstate names were causing them to be removed, so I'm replacing\n",
        "  # them with spaces.\n",
        "  string = string.replace('-', ' ')\n",
        "  words = nltk.word_tokenize(string)\n",
        "  new_words = [word for word in words if word.isalnum()]\n",
        "  return \" \".join(new_words)\n",
        "\n",
        "processed_data_2['Description'] = (processed_data_2['Description']\n",
        "                                   .apply(lambda x: remove_punctuation(x)))\n",
        "\n",
        "processed_data_2['Description'].head()"
      ],
      "execution_count": 42,
      "outputs": [
        {
          "output_type": "execute_result",
          "data": {
            "text/plain": [
              "0    right lane blocked due to accident on i 70 eas...\n",
              "1     accident on brice rd at tussing rd expect delays\n",
              "2    accident on oh 32 state route 32 westbound at ...\n",
              "3    accident on i 75 southbound at exits 52 52b us...\n",
              "4    accident on mcewen rd at oh 725 miamisburg cen...\n",
              "Name: Description, dtype: object"
            ]
          },
          "metadata": {
            "tags": []
          },
          "execution_count": 42
        }
      ]
    },
    {
      "cell_type": "code",
      "metadata": {
        "id": "lMEBwEcggD3r",
        "colab_type": "code",
        "colab": {
          "base_uri": "https://localhost:8080/",
          "height": 408
        },
        "outputId": "6dc816df-6ff0-4a8e-9cdf-10082c1d0572"
      },
      "source": [
        "# Take out stop words\n",
        "\n",
        "nltk.download('stopwords')\n",
        "from nltk.corpus import stopwords\n",
        "stop = set(stopwords.words('english'))\n",
        "\n",
        "def remove_stop_words(string):\n",
        "  # We want to maintain interstate information, so I'm keeping the I\n",
        "  words = nltk.word_tokenize(string)\n",
        "  new_words = [word for word in words if (word not in stop or word is \"i\") ]\n",
        "  return \" \".join(new_words)\n",
        "\n",
        "processed_data_2['Description'] = (processed_data_2['Description']\n",
        "                                   .apply(lambda x: remove_stop_words(x)))\n",
        "\n",
        "processed_data_2['Description'].head(20)"
      ],
      "execution_count": 43,
      "outputs": [
        {
          "output_type": "stream",
          "text": [
            "[nltk_data] Downloading package stopwords to /root/nltk_data...\n",
            "[nltk_data]   Unzipping corpora/stopwords.zip.\n"
          ],
          "name": "stdout"
        },
        {
          "output_type": "execute_result",
          "data": {
            "text/plain": [
              "0     right lane blocked due accident i 70 eastbound...\n",
              "1            accident brice rd tussing rd expect delays\n",
              "2     accident oh 32 state route 32 westbound dela p...\n",
              "3     accident i 75 southbound exits 52 52b us expec...\n",
              "4     accident mcewen rd oh 725 miamisburg centervil...\n",
              "5     accident i 270 outerbelt northbound near exit ...\n",
              "6           accident oakridge dr woodward expect delays\n",
              "7     accident i 75 southbound exit 54b grand expect...\n",
              "8          accident notre dame ave warner expect delays\n",
              "9     right hand shoulder blocked due accident i 270...\n",
              "10    accident i 270 outerbelt northbound exits 7 7a...\n",
              "11    one lane blocked due accident i 70 westbound e...\n",
              "12         accident revere ave watervliet expect delays\n",
              "13    accident salem ave hillcrest ave kensington ex...\n",
              "14       accident oh 16 broad st james rd expect delays\n",
              "15             accident wayne ave glencoe expect delays\n",
              "16         accident james h mcgee blvd us expect delays\n",
              "17          accident delphos ave brooklyn expect delays\n",
              "18       accident stewart st near rubicon expect delays\n",
              "19      accident hillcrest ave piccadilly expect delays\n",
              "Name: Description, dtype: object"
            ]
          },
          "metadata": {
            "tags": []
          },
          "execution_count": 43
        }
      ]
    },
    {
      "cell_type": "code",
      "metadata": {
        "id": "KNSnW2oI08Tq",
        "colab_type": "code",
        "colab": {
          "base_uri": "https://localhost:8080/",
          "height": 119
        },
        "outputId": "42320581-b917-415a-dcbc-8b9db16bc347"
      },
      "source": [
        "# Stemming verbs\n",
        "\n",
        "from nltk.stem.snowball import SnowballStemmer\n",
        "stemmer = SnowballStemmer(\"english\")\n",
        "\n",
        "def stem(string):\n",
        "  words = nltk.word_tokenize(string)\n",
        "  new_words = [stemmer.stem(word) for word in words]\n",
        "  return \" \".join(new_words)\n",
        "\n",
        "processed_data_2['Description'] = (processed_data_2['Description']\n",
        "                                   .apply(lambda x: stem(x)))\n",
        "\n",
        "processed_data_2['Description'].head()"
      ],
      "execution_count": 44,
      "outputs": [
        {
          "output_type": "execute_result",
          "data": {
            "text/plain": [
              "0    right lane block due accid i 70 eastbound exit...\n",
              "1                  accid brice rd tuss rd expect delay\n",
              "2    accid oh 32 state rout 32 westbound dela palma...\n",
              "3    accid i 75 southbound exit 52 52b us expect delay\n",
              "4    accid mcewen rd oh 725 miamisburg centervill r...\n",
              "Name: Description, dtype: object"
            ]
          },
          "metadata": {
            "tags": []
          },
          "execution_count": 44
        }
      ]
    },
    {
      "cell_type": "code",
      "metadata": {
        "id": "Aej7bdFO71cQ",
        "colab_type": "code",
        "colab": {
          "base_uri": "https://localhost:8080/",
          "height": 374
        },
        "outputId": "1e5eced5-27f2-482a-8a54-29a200bfbfd7"
      },
      "source": [
        "processed_data_2['Description'].head(20)"
      ],
      "execution_count": 45,
      "outputs": [
        {
          "output_type": "execute_result",
          "data": {
            "text/plain": [
              "0     right lane block due accid i 70 eastbound exit...\n",
              "1                   accid brice rd tuss rd expect delay\n",
              "2     accid oh 32 state rout 32 westbound dela palma...\n",
              "3     accid i 75 southbound exit 52 52b us expect delay\n",
              "4     accid mcewen rd oh 725 miamisburg centervill r...\n",
              "5     accid i 270 outerbelt northbound near exit 29 ...\n",
              "6                accid oakridg dr woodward expect delay\n",
              "7     accid i 75 southbound exit 54b grand expect delay\n",
              "8               accid notr dame ave warner expect delay\n",
              "9     right hand shoulder block due accid i 270 oute...\n",
              "10    accid i 270 outerbelt northbound exit 7 7a 7b ...\n",
              "11    one lane block due accid i 70 westbound exit 1...\n",
              "12              accid rever ave watervliet expect delay\n",
              "13    accid salem ave hillcrest ave kensington expec...\n",
              "14            accid oh 16 broad st jame rd expect delay\n",
              "15                   accid wayn ave glenco expect delay\n",
              "16              accid jame h mcgee blvd us expect delay\n",
              "17               accid delpho ave brooklyn expect delay\n",
              "18           accid stewart st near rubicon expect delay\n",
              "19          accid hillcrest ave piccadilli expect delay\n",
              "Name: Description, dtype: object"
            ]
          },
          "metadata": {
            "tags": []
          },
          "execution_count": 45
        }
      ]
    },
    {
      "cell_type": "markdown",
      "metadata": {
        "id": "iXCEhczZ8p5W",
        "colab_type": "text"
      },
      "source": [
        "This is a good point to stop, so I'm going to save the data again."
      ]
    },
    {
      "cell_type": "code",
      "metadata": {
        "id": "mGKvobKC80jZ",
        "colab_type": "code",
        "colab": {}
      },
      "source": [
        "pickle = processed_data_2.to_pickle('/content/drive/My Drive/CIS 545/Final Project/processed_data_2')"
      ],
      "execution_count": 0,
      "outputs": []
    },
    {
      "cell_type": "markdown",
      "metadata": {
        "id": "BTTM417V8-VF",
        "colab_type": "text"
      },
      "source": [
        "## Part Three: TF-IDF"
      ]
    },
    {
      "cell_type": "code",
      "metadata": {
        "id": "4HZjUAFB9BvQ",
        "colab_type": "code",
        "outputId": "5e6bfc80-6066-42c4-f600-8158cbca1d1e",
        "colab": {
          "base_uri": "https://localhost:8080/",
          "height": 54
        }
      },
      "source": [
        "# Read in the previously stored pickle\n",
        "\n",
        "from google.colab import drive\n",
        "drive.mount('/content/drive')\n",
        "\n",
        "processed_data_2_path = \\\n",
        "  '/content/drive/My Drive/CIS 545/Final Project/processed_data_2'\n",
        "\n",
        "with open(processed_data_2_path, 'rb') as f:\n",
        "  processed_data_3 = pd.read_pickle(f)"
      ],
      "execution_count": 47,
      "outputs": [
        {
          "output_type": "stream",
          "text": [
            "Drive already mounted at /content/drive; to attempt to forcibly remount, call drive.mount(\"/content/drive\", force_remount=True).\n"
          ],
          "name": "stdout"
        }
      ]
    },
    {
      "cell_type": "code",
      "metadata": {
        "id": "UdIr1Wgi9FHg",
        "colab_type": "code",
        "outputId": "490a315d-8913-45d2-93fc-5a9230f068af",
        "colab": {
          "base_uri": "https://localhost:8080/",
          "height": 969
        }
      },
      "source": [
        "processed_data_3.head(10)"
      ],
      "execution_count": 48,
      "outputs": [
        {
          "output_type": "execute_result",
          "data": {
            "text/html": [
              "<div>\n",
              "<style scoped>\n",
              "    .dataframe tbody tr th:only-of-type {\n",
              "        vertical-align: middle;\n",
              "    }\n",
              "\n",
              "    .dataframe tbody tr th {\n",
              "        vertical-align: top;\n",
              "    }\n",
              "\n",
              "    .dataframe thead th {\n",
              "        text-align: right;\n",
              "    }\n",
              "</style>\n",
              "<table border=\"1\" class=\"dataframe\">\n",
              "  <thead>\n",
              "    <tr style=\"text-align: right;\">\n",
              "      <th></th>\n",
              "      <th>Severity</th>\n",
              "      <th>Distance(mi)</th>\n",
              "      <th>Description</th>\n",
              "      <th>Temperature(F)</th>\n",
              "      <th>Visibility(mi)</th>\n",
              "      <th>Amenity</th>\n",
              "      <th>Bump</th>\n",
              "      <th>Crossing</th>\n",
              "      <th>Give_Way</th>\n",
              "      <th>Junction</th>\n",
              "      <th>No_Exit</th>\n",
              "      <th>Railway</th>\n",
              "      <th>Roundabout</th>\n",
              "      <th>Station</th>\n",
              "      <th>Stop</th>\n",
              "      <th>Traffic_Calming</th>\n",
              "      <th>Traffic_Signal</th>\n",
              "      <th>Turning_Loop</th>\n",
              "      <th>Duration(s)</th>\n",
              "      <th>MapQuest</th>\n",
              "      <th>MapQuest-Bing</th>\n",
              "      <th></th>\n",
              "      <th>L</th>\n",
              "      <th>R</th>\n",
              "      <th>Blowing Dust</th>\n",
              "      <th>Blowing Dust / Windy</th>\n",
              "      <th>Blowing Sand</th>\n",
              "      <th>Blowing Snow</th>\n",
              "      <th>Blowing Snow / Windy</th>\n",
              "      <th>Clear</th>\n",
              "      <th>Cloudy</th>\n",
              "      <th>Cloudy / Windy</th>\n",
              "      <th>Drizzle</th>\n",
              "      <th>Drizzle / Windy</th>\n",
              "      <th>Drizzle and Fog</th>\n",
              "      <th>Fair</th>\n",
              "      <th>Fair / Windy</th>\n",
              "      <th>Fog</th>\n",
              "      <th>Fog / Windy</th>\n",
              "      <th>Freezing Rain</th>\n",
              "      <th>...</th>\n",
              "      <th>Squalls</th>\n",
              "      <th>Squalls / Windy</th>\n",
              "      <th>T-Storm</th>\n",
              "      <th>T-Storm / Windy</th>\n",
              "      <th>Thunder</th>\n",
              "      <th>Thunder / Windy</th>\n",
              "      <th>Thunder / Wintry Mix / Windy</th>\n",
              "      <th>Thunder in the Vicinity</th>\n",
              "      <th>Thunderstorm</th>\n",
              "      <th>Thunderstorms and Rain</th>\n",
              "      <th>Thunderstorms and Snow</th>\n",
              "      <th>Tornado</th>\n",
              "      <th>Volcanic Ash</th>\n",
              "      <th>Widespread Dust</th>\n",
              "      <th>Widespread Dust / Windy</th>\n",
              "      <th>Wintry Mix</th>\n",
              "      <th>Wintry Mix / Windy</th>\n",
              "      <th>Day</th>\n",
              "      <th>Night</th>\n",
              "      <th>200.0</th>\n",
              "      <th>201.0</th>\n",
              "      <th>202.0</th>\n",
              "      <th>203.0</th>\n",
              "      <th>206.0</th>\n",
              "      <th>222.0</th>\n",
              "      <th>229.0</th>\n",
              "      <th>236.0</th>\n",
              "      <th>239.0</th>\n",
              "      <th>241.0</th>\n",
              "      <th>244.0</th>\n",
              "      <th>245.0</th>\n",
              "      <th>246.0</th>\n",
              "      <th>247.0</th>\n",
              "      <th>248.0</th>\n",
              "      <th>336.0</th>\n",
              "      <th>339.0</th>\n",
              "      <th>341.0</th>\n",
              "      <th>343.0</th>\n",
              "      <th>351.0</th>\n",
              "      <th>406.0</th>\n",
              "    </tr>\n",
              "  </thead>\n",
              "  <tbody>\n",
              "    <tr>\n",
              "      <th>0</th>\n",
              "      <td>3</td>\n",
              "      <td>0.01</td>\n",
              "      <td>right lane block due accid i 70 eastbound exit...</td>\n",
              "      <td>36.9</td>\n",
              "      <td>10.0</td>\n",
              "      <td>0</td>\n",
              "      <td>0</td>\n",
              "      <td>0</td>\n",
              "      <td>0</td>\n",
              "      <td>0</td>\n",
              "      <td>0</td>\n",
              "      <td>0</td>\n",
              "      <td>0</td>\n",
              "      <td>0</td>\n",
              "      <td>0</td>\n",
              "      <td>0</td>\n",
              "      <td>0</td>\n",
              "      <td>0</td>\n",
              "      <td>67560</td>\n",
              "      <td>1</td>\n",
              "      <td>0</td>\n",
              "      <td>0</td>\n",
              "      <td>0</td>\n",
              "      <td>1</td>\n",
              "      <td>0</td>\n",
              "      <td>0</td>\n",
              "      <td>0</td>\n",
              "      <td>0</td>\n",
              "      <td>0</td>\n",
              "      <td>0</td>\n",
              "      <td>0</td>\n",
              "      <td>0</td>\n",
              "      <td>0</td>\n",
              "      <td>0</td>\n",
              "      <td>0</td>\n",
              "      <td>0</td>\n",
              "      <td>0</td>\n",
              "      <td>0</td>\n",
              "      <td>0</td>\n",
              "      <td>0</td>\n",
              "      <td>...</td>\n",
              "      <td>0</td>\n",
              "      <td>0</td>\n",
              "      <td>0</td>\n",
              "      <td>0</td>\n",
              "      <td>0</td>\n",
              "      <td>0</td>\n",
              "      <td>0</td>\n",
              "      <td>0</td>\n",
              "      <td>0</td>\n",
              "      <td>0</td>\n",
              "      <td>0</td>\n",
              "      <td>0</td>\n",
              "      <td>0</td>\n",
              "      <td>0</td>\n",
              "      <td>0</td>\n",
              "      <td>0</td>\n",
              "      <td>0</td>\n",
              "      <td>0</td>\n",
              "      <td>1</td>\n",
              "      <td>0</td>\n",
              "      <td>1</td>\n",
              "      <td>0</td>\n",
              "      <td>0</td>\n",
              "      <td>0</td>\n",
              "      <td>0</td>\n",
              "      <td>0</td>\n",
              "      <td>0</td>\n",
              "      <td>0</td>\n",
              "      <td>0</td>\n",
              "      <td>0</td>\n",
              "      <td>0</td>\n",
              "      <td>0</td>\n",
              "      <td>0</td>\n",
              "      <td>0</td>\n",
              "      <td>0</td>\n",
              "      <td>0</td>\n",
              "      <td>0</td>\n",
              "      <td>0</td>\n",
              "      <td>0</td>\n",
              "      <td>0</td>\n",
              "    </tr>\n",
              "    <tr>\n",
              "      <th>1</th>\n",
              "      <td>2</td>\n",
              "      <td>0.01</td>\n",
              "      <td>accid brice rd tuss rd expect delay</td>\n",
              "      <td>37.9</td>\n",
              "      <td>10.0</td>\n",
              "      <td>0</td>\n",
              "      <td>0</td>\n",
              "      <td>0</td>\n",
              "      <td>0</td>\n",
              "      <td>0</td>\n",
              "      <td>0</td>\n",
              "      <td>0</td>\n",
              "      <td>0</td>\n",
              "      <td>0</td>\n",
              "      <td>0</td>\n",
              "      <td>0</td>\n",
              "      <td>0</td>\n",
              "      <td>0</td>\n",
              "      <td>84600</td>\n",
              "      <td>1</td>\n",
              "      <td>0</td>\n",
              "      <td>0</td>\n",
              "      <td>1</td>\n",
              "      <td>0</td>\n",
              "      <td>0</td>\n",
              "      <td>0</td>\n",
              "      <td>0</td>\n",
              "      <td>0</td>\n",
              "      <td>0</td>\n",
              "      <td>0</td>\n",
              "      <td>0</td>\n",
              "      <td>0</td>\n",
              "      <td>0</td>\n",
              "      <td>0</td>\n",
              "      <td>0</td>\n",
              "      <td>0</td>\n",
              "      <td>0</td>\n",
              "      <td>0</td>\n",
              "      <td>0</td>\n",
              "      <td>0</td>\n",
              "      <td>...</td>\n",
              "      <td>0</td>\n",
              "      <td>0</td>\n",
              "      <td>0</td>\n",
              "      <td>0</td>\n",
              "      <td>0</td>\n",
              "      <td>0</td>\n",
              "      <td>0</td>\n",
              "      <td>0</td>\n",
              "      <td>0</td>\n",
              "      <td>0</td>\n",
              "      <td>0</td>\n",
              "      <td>0</td>\n",
              "      <td>0</td>\n",
              "      <td>0</td>\n",
              "      <td>0</td>\n",
              "      <td>0</td>\n",
              "      <td>0</td>\n",
              "      <td>0</td>\n",
              "      <td>1</td>\n",
              "      <td>0</td>\n",
              "      <td>1</td>\n",
              "      <td>0</td>\n",
              "      <td>0</td>\n",
              "      <td>0</td>\n",
              "      <td>0</td>\n",
              "      <td>0</td>\n",
              "      <td>0</td>\n",
              "      <td>0</td>\n",
              "      <td>0</td>\n",
              "      <td>0</td>\n",
              "      <td>0</td>\n",
              "      <td>0</td>\n",
              "      <td>0</td>\n",
              "      <td>0</td>\n",
              "      <td>0</td>\n",
              "      <td>0</td>\n",
              "      <td>0</td>\n",
              "      <td>0</td>\n",
              "      <td>0</td>\n",
              "      <td>0</td>\n",
              "    </tr>\n",
              "    <tr>\n",
              "      <th>2</th>\n",
              "      <td>2</td>\n",
              "      <td>0.01</td>\n",
              "      <td>accid oh 32 state rout 32 westbound dela palma...</td>\n",
              "      <td>36.0</td>\n",
              "      <td>10.0</td>\n",
              "      <td>0</td>\n",
              "      <td>0</td>\n",
              "      <td>0</td>\n",
              "      <td>0</td>\n",
              "      <td>0</td>\n",
              "      <td>0</td>\n",
              "      <td>0</td>\n",
              "      <td>0</td>\n",
              "      <td>0</td>\n",
              "      <td>0</td>\n",
              "      <td>0</td>\n",
              "      <td>1</td>\n",
              "      <td>0</td>\n",
              "      <td>84600</td>\n",
              "      <td>1</td>\n",
              "      <td>0</td>\n",
              "      <td>0</td>\n",
              "      <td>0</td>\n",
              "      <td>1</td>\n",
              "      <td>0</td>\n",
              "      <td>0</td>\n",
              "      <td>0</td>\n",
              "      <td>0</td>\n",
              "      <td>0</td>\n",
              "      <td>0</td>\n",
              "      <td>0</td>\n",
              "      <td>0</td>\n",
              "      <td>0</td>\n",
              "      <td>0</td>\n",
              "      <td>0</td>\n",
              "      <td>0</td>\n",
              "      <td>0</td>\n",
              "      <td>0</td>\n",
              "      <td>0</td>\n",
              "      <td>0</td>\n",
              "      <td>...</td>\n",
              "      <td>0</td>\n",
              "      <td>0</td>\n",
              "      <td>0</td>\n",
              "      <td>0</td>\n",
              "      <td>0</td>\n",
              "      <td>0</td>\n",
              "      <td>0</td>\n",
              "      <td>0</td>\n",
              "      <td>0</td>\n",
              "      <td>0</td>\n",
              "      <td>0</td>\n",
              "      <td>0</td>\n",
              "      <td>0</td>\n",
              "      <td>0</td>\n",
              "      <td>0</td>\n",
              "      <td>0</td>\n",
              "      <td>0</td>\n",
              "      <td>0</td>\n",
              "      <td>1</td>\n",
              "      <td>0</td>\n",
              "      <td>1</td>\n",
              "      <td>0</td>\n",
              "      <td>0</td>\n",
              "      <td>0</td>\n",
              "      <td>0</td>\n",
              "      <td>0</td>\n",
              "      <td>0</td>\n",
              "      <td>0</td>\n",
              "      <td>0</td>\n",
              "      <td>0</td>\n",
              "      <td>0</td>\n",
              "      <td>0</td>\n",
              "      <td>0</td>\n",
              "      <td>0</td>\n",
              "      <td>0</td>\n",
              "      <td>0</td>\n",
              "      <td>0</td>\n",
              "      <td>0</td>\n",
              "      <td>0</td>\n",
              "      <td>0</td>\n",
              "    </tr>\n",
              "    <tr>\n",
              "      <th>3</th>\n",
              "      <td>3</td>\n",
              "      <td>0.01</td>\n",
              "      <td>accid i 75 southbound exit 52 52b us expect delay</td>\n",
              "      <td>35.1</td>\n",
              "      <td>9.0</td>\n",
              "      <td>0</td>\n",
              "      <td>0</td>\n",
              "      <td>0</td>\n",
              "      <td>0</td>\n",
              "      <td>0</td>\n",
              "      <td>0</td>\n",
              "      <td>0</td>\n",
              "      <td>0</td>\n",
              "      <td>0</td>\n",
              "      <td>0</td>\n",
              "      <td>0</td>\n",
              "      <td>0</td>\n",
              "      <td>0</td>\n",
              "      <td>84600</td>\n",
              "      <td>1</td>\n",
              "      <td>0</td>\n",
              "      <td>0</td>\n",
              "      <td>0</td>\n",
              "      <td>1</td>\n",
              "      <td>0</td>\n",
              "      <td>0</td>\n",
              "      <td>0</td>\n",
              "      <td>0</td>\n",
              "      <td>0</td>\n",
              "      <td>0</td>\n",
              "      <td>0</td>\n",
              "      <td>0</td>\n",
              "      <td>0</td>\n",
              "      <td>0</td>\n",
              "      <td>0</td>\n",
              "      <td>0</td>\n",
              "      <td>0</td>\n",
              "      <td>0</td>\n",
              "      <td>0</td>\n",
              "      <td>0</td>\n",
              "      <td>...</td>\n",
              "      <td>0</td>\n",
              "      <td>0</td>\n",
              "      <td>0</td>\n",
              "      <td>0</td>\n",
              "      <td>0</td>\n",
              "      <td>0</td>\n",
              "      <td>0</td>\n",
              "      <td>0</td>\n",
              "      <td>0</td>\n",
              "      <td>0</td>\n",
              "      <td>0</td>\n",
              "      <td>0</td>\n",
              "      <td>0</td>\n",
              "      <td>0</td>\n",
              "      <td>0</td>\n",
              "      <td>0</td>\n",
              "      <td>0</td>\n",
              "      <td>0</td>\n",
              "      <td>1</td>\n",
              "      <td>0</td>\n",
              "      <td>1</td>\n",
              "      <td>0</td>\n",
              "      <td>0</td>\n",
              "      <td>0</td>\n",
              "      <td>0</td>\n",
              "      <td>0</td>\n",
              "      <td>0</td>\n",
              "      <td>0</td>\n",
              "      <td>0</td>\n",
              "      <td>0</td>\n",
              "      <td>0</td>\n",
              "      <td>0</td>\n",
              "      <td>0</td>\n",
              "      <td>0</td>\n",
              "      <td>0</td>\n",
              "      <td>0</td>\n",
              "      <td>0</td>\n",
              "      <td>0</td>\n",
              "      <td>0</td>\n",
              "      <td>0</td>\n",
              "    </tr>\n",
              "    <tr>\n",
              "      <th>4</th>\n",
              "      <td>2</td>\n",
              "      <td>0.01</td>\n",
              "      <td>accid mcewen rd oh 725 miamisburg centervill r...</td>\n",
              "      <td>36.0</td>\n",
              "      <td>6.0</td>\n",
              "      <td>0</td>\n",
              "      <td>0</td>\n",
              "      <td>0</td>\n",
              "      <td>0</td>\n",
              "      <td>0</td>\n",
              "      <td>0</td>\n",
              "      <td>0</td>\n",
              "      <td>0</td>\n",
              "      <td>0</td>\n",
              "      <td>0</td>\n",
              "      <td>0</td>\n",
              "      <td>1</td>\n",
              "      <td>0</td>\n",
              "      <td>84600</td>\n",
              "      <td>1</td>\n",
              "      <td>0</td>\n",
              "      <td>0</td>\n",
              "      <td>0</td>\n",
              "      <td>1</td>\n",
              "      <td>0</td>\n",
              "      <td>0</td>\n",
              "      <td>0</td>\n",
              "      <td>0</td>\n",
              "      <td>0</td>\n",
              "      <td>0</td>\n",
              "      <td>0</td>\n",
              "      <td>0</td>\n",
              "      <td>0</td>\n",
              "      <td>0</td>\n",
              "      <td>0</td>\n",
              "      <td>0</td>\n",
              "      <td>0</td>\n",
              "      <td>0</td>\n",
              "      <td>0</td>\n",
              "      <td>0</td>\n",
              "      <td>...</td>\n",
              "      <td>0</td>\n",
              "      <td>0</td>\n",
              "      <td>0</td>\n",
              "      <td>0</td>\n",
              "      <td>0</td>\n",
              "      <td>0</td>\n",
              "      <td>0</td>\n",
              "      <td>0</td>\n",
              "      <td>0</td>\n",
              "      <td>0</td>\n",
              "      <td>0</td>\n",
              "      <td>0</td>\n",
              "      <td>0</td>\n",
              "      <td>0</td>\n",
              "      <td>0</td>\n",
              "      <td>0</td>\n",
              "      <td>0</td>\n",
              "      <td>1</td>\n",
              "      <td>0</td>\n",
              "      <td>0</td>\n",
              "      <td>1</td>\n",
              "      <td>0</td>\n",
              "      <td>0</td>\n",
              "      <td>0</td>\n",
              "      <td>0</td>\n",
              "      <td>0</td>\n",
              "      <td>0</td>\n",
              "      <td>0</td>\n",
              "      <td>0</td>\n",
              "      <td>0</td>\n",
              "      <td>0</td>\n",
              "      <td>0</td>\n",
              "      <td>0</td>\n",
              "      <td>0</td>\n",
              "      <td>0</td>\n",
              "      <td>0</td>\n",
              "      <td>0</td>\n",
              "      <td>0</td>\n",
              "      <td>0</td>\n",
              "      <td>0</td>\n",
              "    </tr>\n",
              "    <tr>\n",
              "      <th>5</th>\n",
              "      <td>3</td>\n",
              "      <td>0.01</td>\n",
              "      <td>accid i 270 outerbelt northbound near exit 29 ...</td>\n",
              "      <td>37.9</td>\n",
              "      <td>7.0</td>\n",
              "      <td>0</td>\n",
              "      <td>0</td>\n",
              "      <td>0</td>\n",
              "      <td>0</td>\n",
              "      <td>0</td>\n",
              "      <td>0</td>\n",
              "      <td>0</td>\n",
              "      <td>0</td>\n",
              "      <td>0</td>\n",
              "      <td>0</td>\n",
              "      <td>0</td>\n",
              "      <td>0</td>\n",
              "      <td>0</td>\n",
              "      <td>84600</td>\n",
              "      <td>1</td>\n",
              "      <td>0</td>\n",
              "      <td>0</td>\n",
              "      <td>0</td>\n",
              "      <td>1</td>\n",
              "      <td>0</td>\n",
              "      <td>0</td>\n",
              "      <td>0</td>\n",
              "      <td>0</td>\n",
              "      <td>0</td>\n",
              "      <td>0</td>\n",
              "      <td>0</td>\n",
              "      <td>0</td>\n",
              "      <td>0</td>\n",
              "      <td>0</td>\n",
              "      <td>0</td>\n",
              "      <td>0</td>\n",
              "      <td>0</td>\n",
              "      <td>0</td>\n",
              "      <td>0</td>\n",
              "      <td>0</td>\n",
              "      <td>...</td>\n",
              "      <td>0</td>\n",
              "      <td>0</td>\n",
              "      <td>0</td>\n",
              "      <td>0</td>\n",
              "      <td>0</td>\n",
              "      <td>0</td>\n",
              "      <td>0</td>\n",
              "      <td>0</td>\n",
              "      <td>0</td>\n",
              "      <td>0</td>\n",
              "      <td>0</td>\n",
              "      <td>0</td>\n",
              "      <td>0</td>\n",
              "      <td>0</td>\n",
              "      <td>0</td>\n",
              "      <td>0</td>\n",
              "      <td>0</td>\n",
              "      <td>1</td>\n",
              "      <td>0</td>\n",
              "      <td>0</td>\n",
              "      <td>1</td>\n",
              "      <td>0</td>\n",
              "      <td>0</td>\n",
              "      <td>0</td>\n",
              "      <td>0</td>\n",
              "      <td>0</td>\n",
              "      <td>0</td>\n",
              "      <td>0</td>\n",
              "      <td>0</td>\n",
              "      <td>0</td>\n",
              "      <td>0</td>\n",
              "      <td>0</td>\n",
              "      <td>0</td>\n",
              "      <td>0</td>\n",
              "      <td>0</td>\n",
              "      <td>0</td>\n",
              "      <td>0</td>\n",
              "      <td>0</td>\n",
              "      <td>0</td>\n",
              "      <td>0</td>\n",
              "    </tr>\n",
              "    <tr>\n",
              "      <th>6</th>\n",
              "      <td>2</td>\n",
              "      <td>0.00</td>\n",
              "      <td>accid oakridg dr woodward expect delay</td>\n",
              "      <td>34.0</td>\n",
              "      <td>7.0</td>\n",
              "      <td>0</td>\n",
              "      <td>0</td>\n",
              "      <td>0</td>\n",
              "      <td>0</td>\n",
              "      <td>0</td>\n",
              "      <td>0</td>\n",
              "      <td>0</td>\n",
              "      <td>0</td>\n",
              "      <td>0</td>\n",
              "      <td>0</td>\n",
              "      <td>0</td>\n",
              "      <td>0</td>\n",
              "      <td>0</td>\n",
              "      <td>84600</td>\n",
              "      <td>1</td>\n",
              "      <td>0</td>\n",
              "      <td>0</td>\n",
              "      <td>0</td>\n",
              "      <td>1</td>\n",
              "      <td>0</td>\n",
              "      <td>0</td>\n",
              "      <td>0</td>\n",
              "      <td>0</td>\n",
              "      <td>0</td>\n",
              "      <td>0</td>\n",
              "      <td>0</td>\n",
              "      <td>0</td>\n",
              "      <td>0</td>\n",
              "      <td>0</td>\n",
              "      <td>0</td>\n",
              "      <td>0</td>\n",
              "      <td>0</td>\n",
              "      <td>0</td>\n",
              "      <td>0</td>\n",
              "      <td>0</td>\n",
              "      <td>...</td>\n",
              "      <td>0</td>\n",
              "      <td>0</td>\n",
              "      <td>0</td>\n",
              "      <td>0</td>\n",
              "      <td>0</td>\n",
              "      <td>0</td>\n",
              "      <td>0</td>\n",
              "      <td>0</td>\n",
              "      <td>0</td>\n",
              "      <td>0</td>\n",
              "      <td>0</td>\n",
              "      <td>0</td>\n",
              "      <td>0</td>\n",
              "      <td>0</td>\n",
              "      <td>0</td>\n",
              "      <td>0</td>\n",
              "      <td>0</td>\n",
              "      <td>1</td>\n",
              "      <td>0</td>\n",
              "      <td>0</td>\n",
              "      <td>1</td>\n",
              "      <td>0</td>\n",
              "      <td>0</td>\n",
              "      <td>0</td>\n",
              "      <td>0</td>\n",
              "      <td>0</td>\n",
              "      <td>0</td>\n",
              "      <td>0</td>\n",
              "      <td>0</td>\n",
              "      <td>0</td>\n",
              "      <td>0</td>\n",
              "      <td>0</td>\n",
              "      <td>0</td>\n",
              "      <td>0</td>\n",
              "      <td>0</td>\n",
              "      <td>0</td>\n",
              "      <td>0</td>\n",
              "      <td>0</td>\n",
              "      <td>0</td>\n",
              "      <td>0</td>\n",
              "    </tr>\n",
              "    <tr>\n",
              "      <th>7</th>\n",
              "      <td>3</td>\n",
              "      <td>0.01</td>\n",
              "      <td>accid i 75 southbound exit 54b grand expect delay</td>\n",
              "      <td>34.0</td>\n",
              "      <td>7.0</td>\n",
              "      <td>0</td>\n",
              "      <td>0</td>\n",
              "      <td>0</td>\n",
              "      <td>0</td>\n",
              "      <td>0</td>\n",
              "      <td>0</td>\n",
              "      <td>0</td>\n",
              "      <td>0</td>\n",
              "      <td>0</td>\n",
              "      <td>0</td>\n",
              "      <td>0</td>\n",
              "      <td>0</td>\n",
              "      <td>0</td>\n",
              "      <td>84600</td>\n",
              "      <td>1</td>\n",
              "      <td>0</td>\n",
              "      <td>0</td>\n",
              "      <td>0</td>\n",
              "      <td>1</td>\n",
              "      <td>0</td>\n",
              "      <td>0</td>\n",
              "      <td>0</td>\n",
              "      <td>0</td>\n",
              "      <td>0</td>\n",
              "      <td>0</td>\n",
              "      <td>0</td>\n",
              "      <td>0</td>\n",
              "      <td>0</td>\n",
              "      <td>0</td>\n",
              "      <td>0</td>\n",
              "      <td>0</td>\n",
              "      <td>0</td>\n",
              "      <td>0</td>\n",
              "      <td>0</td>\n",
              "      <td>0</td>\n",
              "      <td>...</td>\n",
              "      <td>0</td>\n",
              "      <td>0</td>\n",
              "      <td>0</td>\n",
              "      <td>0</td>\n",
              "      <td>0</td>\n",
              "      <td>0</td>\n",
              "      <td>0</td>\n",
              "      <td>0</td>\n",
              "      <td>0</td>\n",
              "      <td>0</td>\n",
              "      <td>0</td>\n",
              "      <td>0</td>\n",
              "      <td>0</td>\n",
              "      <td>0</td>\n",
              "      <td>0</td>\n",
              "      <td>0</td>\n",
              "      <td>0</td>\n",
              "      <td>1</td>\n",
              "      <td>0</td>\n",
              "      <td>0</td>\n",
              "      <td>1</td>\n",
              "      <td>0</td>\n",
              "      <td>0</td>\n",
              "      <td>0</td>\n",
              "      <td>0</td>\n",
              "      <td>0</td>\n",
              "      <td>0</td>\n",
              "      <td>0</td>\n",
              "      <td>0</td>\n",
              "      <td>0</td>\n",
              "      <td>0</td>\n",
              "      <td>0</td>\n",
              "      <td>0</td>\n",
              "      <td>0</td>\n",
              "      <td>0</td>\n",
              "      <td>0</td>\n",
              "      <td>0</td>\n",
              "      <td>0</td>\n",
              "      <td>0</td>\n",
              "      <td>0</td>\n",
              "    </tr>\n",
              "    <tr>\n",
              "      <th>8</th>\n",
              "      <td>2</td>\n",
              "      <td>0.00</td>\n",
              "      <td>accid notr dame ave warner expect delay</td>\n",
              "      <td>33.3</td>\n",
              "      <td>5.0</td>\n",
              "      <td>0</td>\n",
              "      <td>0</td>\n",
              "      <td>0</td>\n",
              "      <td>0</td>\n",
              "      <td>0</td>\n",
              "      <td>0</td>\n",
              "      <td>0</td>\n",
              "      <td>0</td>\n",
              "      <td>0</td>\n",
              "      <td>0</td>\n",
              "      <td>0</td>\n",
              "      <td>0</td>\n",
              "      <td>0</td>\n",
              "      <td>84600</td>\n",
              "      <td>1</td>\n",
              "      <td>0</td>\n",
              "      <td>0</td>\n",
              "      <td>1</td>\n",
              "      <td>0</td>\n",
              "      <td>0</td>\n",
              "      <td>0</td>\n",
              "      <td>0</td>\n",
              "      <td>0</td>\n",
              "      <td>0</td>\n",
              "      <td>0</td>\n",
              "      <td>0</td>\n",
              "      <td>0</td>\n",
              "      <td>0</td>\n",
              "      <td>0</td>\n",
              "      <td>0</td>\n",
              "      <td>0</td>\n",
              "      <td>0</td>\n",
              "      <td>0</td>\n",
              "      <td>0</td>\n",
              "      <td>0</td>\n",
              "      <td>...</td>\n",
              "      <td>0</td>\n",
              "      <td>0</td>\n",
              "      <td>0</td>\n",
              "      <td>0</td>\n",
              "      <td>0</td>\n",
              "      <td>0</td>\n",
              "      <td>0</td>\n",
              "      <td>0</td>\n",
              "      <td>0</td>\n",
              "      <td>0</td>\n",
              "      <td>0</td>\n",
              "      <td>0</td>\n",
              "      <td>0</td>\n",
              "      <td>0</td>\n",
              "      <td>0</td>\n",
              "      <td>0</td>\n",
              "      <td>0</td>\n",
              "      <td>1</td>\n",
              "      <td>0</td>\n",
              "      <td>0</td>\n",
              "      <td>1</td>\n",
              "      <td>0</td>\n",
              "      <td>0</td>\n",
              "      <td>0</td>\n",
              "      <td>0</td>\n",
              "      <td>0</td>\n",
              "      <td>0</td>\n",
              "      <td>0</td>\n",
              "      <td>0</td>\n",
              "      <td>0</td>\n",
              "      <td>0</td>\n",
              "      <td>0</td>\n",
              "      <td>0</td>\n",
              "      <td>0</td>\n",
              "      <td>0</td>\n",
              "      <td>0</td>\n",
              "      <td>0</td>\n",
              "      <td>0</td>\n",
              "      <td>0</td>\n",
              "      <td>0</td>\n",
              "    </tr>\n",
              "    <tr>\n",
              "      <th>9</th>\n",
              "      <td>3</td>\n",
              "      <td>0.01</td>\n",
              "      <td>right hand shoulder block due accid i 270 oute...</td>\n",
              "      <td>37.4</td>\n",
              "      <td>3.0</td>\n",
              "      <td>0</td>\n",
              "      <td>0</td>\n",
              "      <td>0</td>\n",
              "      <td>0</td>\n",
              "      <td>0</td>\n",
              "      <td>0</td>\n",
              "      <td>0</td>\n",
              "      <td>0</td>\n",
              "      <td>0</td>\n",
              "      <td>0</td>\n",
              "      <td>0</td>\n",
              "      <td>0</td>\n",
              "      <td>0</td>\n",
              "      <td>84600</td>\n",
              "      <td>1</td>\n",
              "      <td>0</td>\n",
              "      <td>0</td>\n",
              "      <td>0</td>\n",
              "      <td>1</td>\n",
              "      <td>0</td>\n",
              "      <td>0</td>\n",
              "      <td>0</td>\n",
              "      <td>0</td>\n",
              "      <td>0</td>\n",
              "      <td>0</td>\n",
              "      <td>0</td>\n",
              "      <td>0</td>\n",
              "      <td>0</td>\n",
              "      <td>0</td>\n",
              "      <td>0</td>\n",
              "      <td>0</td>\n",
              "      <td>0</td>\n",
              "      <td>0</td>\n",
              "      <td>0</td>\n",
              "      <td>0</td>\n",
              "      <td>...</td>\n",
              "      <td>0</td>\n",
              "      <td>0</td>\n",
              "      <td>0</td>\n",
              "      <td>0</td>\n",
              "      <td>0</td>\n",
              "      <td>0</td>\n",
              "      <td>0</td>\n",
              "      <td>0</td>\n",
              "      <td>0</td>\n",
              "      <td>0</td>\n",
              "      <td>0</td>\n",
              "      <td>0</td>\n",
              "      <td>0</td>\n",
              "      <td>0</td>\n",
              "      <td>0</td>\n",
              "      <td>0</td>\n",
              "      <td>0</td>\n",
              "      <td>1</td>\n",
              "      <td>0</td>\n",
              "      <td>0</td>\n",
              "      <td>1</td>\n",
              "      <td>0</td>\n",
              "      <td>0</td>\n",
              "      <td>0</td>\n",
              "      <td>0</td>\n",
              "      <td>0</td>\n",
              "      <td>0</td>\n",
              "      <td>0</td>\n",
              "      <td>0</td>\n",
              "      <td>0</td>\n",
              "      <td>0</td>\n",
              "      <td>0</td>\n",
              "      <td>0</td>\n",
              "      <td>0</td>\n",
              "      <td>0</td>\n",
              "      <td>0</td>\n",
              "      <td>0</td>\n",
              "      <td>0</td>\n",
              "      <td>0</td>\n",
              "      <td>0</td>\n",
              "    </tr>\n",
              "  </tbody>\n",
              "</table>\n",
              "<p>10 rows × 163 columns</p>\n",
              "</div>"
            ],
            "text/plain": [
              "   Severity  Distance(mi)  ... 351.0  406.0\n",
              "0         3          0.01  ...     0      0\n",
              "1         2          0.01  ...     0      0\n",
              "2         2          0.01  ...     0      0\n",
              "3         3          0.01  ...     0      0\n",
              "4         2          0.01  ...     0      0\n",
              "5         3          0.01  ...     0      0\n",
              "6         2          0.00  ...     0      0\n",
              "7         3          0.01  ...     0      0\n",
              "8         2          0.00  ...     0      0\n",
              "9         3          0.01  ...     0      0\n",
              "\n",
              "[10 rows x 163 columns]"
            ]
          },
          "metadata": {
            "tags": []
          },
          "execution_count": 48
        }
      ]
    },
    {
      "cell_type": "code",
      "metadata": {
        "id": "bek8Nmyo9S8q",
        "colab_type": "code",
        "outputId": "3f5b5abf-725b-4fe0-c0e0-9ed5f0ddfaaf",
        "colab": {
          "base_uri": "https://localhost:8080/",
          "height": 34
        }
      },
      "source": [
        "processed_data_3.shape"
      ],
      "execution_count": 49,
      "outputs": [
        {
          "output_type": "execute_result",
          "data": {
            "text/plain": [
              "(2188680, 163)"
            ]
          },
          "metadata": {
            "tags": []
          },
          "execution_count": 49
        }
      ]
    },
    {
      "cell_type": "markdown",
      "metadata": {
        "id": "UB7XZcfbz8RE",
        "colab_type": "text"
      },
      "source": [
        "I'm going to compute TF-IDF and vary the hyperparamters to result in a vocabulary that is appropriately sized. The hyperparameters to consider here are:\n",
        "- min_df: the number (if an int is passed in) or percentage of documents a term must appear in to be placed in the vocabulary\n",
        "- max_df: the number (if an int is passed in) or percentage of documents a term must not appear in to be placed in the vocabulary\n",
        "  - This is to take out terms like \"the\", which might be so common that they do not give us any information on the document\n",
        "- ngram_range: the range of words that are allowed in one term in the vocab\n",
        "  - For example, \"the quick\" with an ngram_range of (1, 2) would return \"the\", \"quick\", \"the quick\""
      ]
    },
    {
      "cell_type": "code",
      "metadata": {
        "id": "vfz1o14GzWx7",
        "colab_type": "code",
        "colab": {}
      },
      "source": [
        "from sklearn.feature_extraction.text import TfidfVectorizer\n",
        "\n",
        "tvec = TfidfVectorizer(min_df=.0025, max_df=.1, ngram_range=(1, 4))\n",
        "tvec.fit(processed_data_3['Description'])\n",
        "tvec_weights = tvec.transform(processed_data_3['Description'])"
      ],
      "execution_count": 0,
      "outputs": []
    },
    {
      "cell_type": "code",
      "metadata": {
        "id": "USDm1D-C1gl2",
        "colab_type": "code",
        "outputId": "2d99ed57-c990-4de3-e24c-d4e42f8f7f65",
        "colab": {
          "base_uri": "https://localhost:8080/",
          "height": 34
        }
      },
      "source": [
        "type(tvec_weights)"
      ],
      "execution_count": 51,
      "outputs": [
        {
          "output_type": "execute_result",
          "data": {
            "text/plain": [
              "scipy.sparse.csr.csr_matrix"
            ]
          },
          "metadata": {
            "tags": []
          },
          "execution_count": 51
        }
      ]
    },
    {
      "cell_type": "code",
      "metadata": {
        "id": "Je-lQB7s1iNN",
        "colab_type": "code",
        "outputId": "d776b6e2-f102-447c-af99-c3c1bb5b41df",
        "colab": {
          "base_uri": "https://localhost:8080/",
          "height": 669
        }
      },
      "source": [
        "weights = np.asarray(tvec_weights.mean(axis=0)).ravel().tolist()\n",
        "weights_df = pd.DataFrame({'term': tvec.get_feature_names(), 'weight': weights})\n",
        "weights_df.sort_values(by='weight', ascending=False).head(20)"
      ],
      "execution_count": 52,
      "outputs": [
        {
          "output_type": "execute_result",
          "data": {
            "text/html": [
              "<div>\n",
              "<style scoped>\n",
              "    .dataframe tbody tr th:only-of-type {\n",
              "        vertical-align: middle;\n",
              "    }\n",
              "\n",
              "    .dataframe tbody tr th {\n",
              "        vertical-align: top;\n",
              "    }\n",
              "\n",
              "    .dataframe thead th {\n",
              "        text-align: right;\n",
              "    }\n",
              "</style>\n",
              "<table border=\"1\" class=\"dataframe\">\n",
              "  <thead>\n",
              "    <tr style=\"text-align: right;\">\n",
              "      <th></th>\n",
              "      <th>term</th>\n",
              "      <th>weight</th>\n",
              "    </tr>\n",
              "  </thead>\n",
              "  <tbody>\n",
              "    <tr>\n",
              "      <th>300</th>\n",
              "      <td>accid us</td>\n",
              "      <td>0.030109</td>\n",
              "    </tr>\n",
              "    <tr>\n",
              "      <th>589</th>\n",
              "      <td>near</td>\n",
              "      <td>0.021935</td>\n",
              "    </tr>\n",
              "    <tr>\n",
              "      <th>594</th>\n",
              "      <td>northbound exit</td>\n",
              "      <td>0.020724</td>\n",
              "    </tr>\n",
              "    <tr>\n",
              "      <th>369</th>\n",
              "      <td>ca</td>\n",
              "      <td>0.020478</td>\n",
              "    </tr>\n",
              "    <tr>\n",
              "      <th>680</th>\n",
              "      <td>southbound exit</td>\n",
              "      <td>0.020264</td>\n",
              "    </tr>\n",
              "    <tr>\n",
              "      <th>523</th>\n",
              "      <td>hwi</td>\n",
              "      <td>0.020054</td>\n",
              "    </tr>\n",
              "    <tr>\n",
              "      <th>560</th>\n",
              "      <td>ln</td>\n",
              "      <td>0.019162</td>\n",
              "    </tr>\n",
              "    <tr>\n",
              "      <th>665</th>\n",
              "      <td>shoulder block due</td>\n",
              "      <td>0.017517</td>\n",
              "    </tr>\n",
              "    <tr>\n",
              "      <th>666</th>\n",
              "      <td>shoulder block due accid</td>\n",
              "      <td>0.017346</td>\n",
              "    </tr>\n",
              "    <tr>\n",
              "      <th>611</th>\n",
              "      <td>pkwi</td>\n",
              "      <td>0.017096</td>\n",
              "    </tr>\n",
              "    <tr>\n",
              "      <th>507</th>\n",
              "      <td>hand</td>\n",
              "      <td>0.017062</td>\n",
              "    </tr>\n",
              "    <tr>\n",
              "      <th>508</th>\n",
              "      <td>hand shoulder</td>\n",
              "      <td>0.017047</td>\n",
              "    </tr>\n",
              "    <tr>\n",
              "      <th>738</th>\n",
              "      <td>way</td>\n",
              "      <td>0.016795</td>\n",
              "    </tr>\n",
              "    <tr>\n",
              "      <th>509</th>\n",
              "      <td>hand shoulder block</td>\n",
              "      <td>0.016592</td>\n",
              "    </tr>\n",
              "    <tr>\n",
              "      <th>456</th>\n",
              "      <td>eastbound exit</td>\n",
              "      <td>0.016195</td>\n",
              "    </tr>\n",
              "    <tr>\n",
              "      <th>740</th>\n",
              "      <td>westbound exit</td>\n",
              "      <td>0.016148</td>\n",
              "    </tr>\n",
              "    <tr>\n",
              "      <th>546</th>\n",
              "      <td>left</td>\n",
              "      <td>0.016057</td>\n",
              "    </tr>\n",
              "    <tr>\n",
              "      <th>510</th>\n",
              "      <td>hand shoulder block due</td>\n",
              "      <td>0.015811</td>\n",
              "    </tr>\n",
              "    <tr>\n",
              "      <th>264</th>\n",
              "      <td>accid ca</td>\n",
              "      <td>0.014930</td>\n",
              "    </tr>\n",
              "    <tr>\n",
              "      <th>641</th>\n",
              "      <td>right hand</td>\n",
              "      <td>0.014473</td>\n",
              "    </tr>\n",
              "  </tbody>\n",
              "</table>\n",
              "</div>"
            ],
            "text/plain": [
              "                         term    weight\n",
              "300                  accid us  0.030109\n",
              "589                      near  0.021935\n",
              "594           northbound exit  0.020724\n",
              "369                        ca  0.020478\n",
              "680           southbound exit  0.020264\n",
              "523                       hwi  0.020054\n",
              "560                        ln  0.019162\n",
              "665        shoulder block due  0.017517\n",
              "666  shoulder block due accid  0.017346\n",
              "611                      pkwi  0.017096\n",
              "507                      hand  0.017062\n",
              "508             hand shoulder  0.017047\n",
              "738                       way  0.016795\n",
              "509       hand shoulder block  0.016592\n",
              "456            eastbound exit  0.016195\n",
              "740            westbound exit  0.016148\n",
              "546                      left  0.016057\n",
              "510   hand shoulder block due  0.015811\n",
              "264                  accid ca  0.014930\n",
              "641                right hand  0.014473"
            ]
          },
          "metadata": {
            "tags": []
          },
          "execution_count": 52
        }
      ]
    },
    {
      "cell_type": "code",
      "metadata": {
        "id": "1X_hFRyH2Ego",
        "colab_type": "code",
        "outputId": "45ee9c87-8e80-4e3e-d68f-9cf7a794bfe9",
        "colab": {
          "base_uri": "https://localhost:8080/",
          "height": 34
        }
      },
      "source": [
        "len(tvec.vocabulary_)"
      ],
      "execution_count": 53,
      "outputs": [
        {
          "output_type": "execute_result",
          "data": {
            "text/plain": [
              "747"
            ]
          },
          "metadata": {
            "tags": []
          },
          "execution_count": 53
        }
      ]
    },
    {
      "cell_type": "markdown",
      "metadata": {
        "id": "PswJ6Ced7lfC",
        "colab_type": "text"
      },
      "source": [
        "Now that we have the TF-IDF representation, I'm going to convert the entire dataframe to a sparse scipy matrix and concatenate the TF-IDF features. This is because while the pandas sparse representation does a good job of compressing the data, sklearn actually blows it back up into a dense representation when training models, which is inefficient. Thus, we convert to scipy."
      ]
    },
    {
      "cell_type": "code",
      "metadata": {
        "id": "EUyuZ2xH78L0",
        "colab_type": "code",
        "outputId": "893078d3-06d8-4efa-a852-b4933372f43f",
        "colab": {
          "base_uri": "https://localhost:8080/",
          "height": 34
        }
      },
      "source": [
        "type(tvec_weights)"
      ],
      "execution_count": 54,
      "outputs": [
        {
          "output_type": "execute_result",
          "data": {
            "text/plain": [
              "scipy.sparse.csr.csr_matrix"
            ]
          },
          "metadata": {
            "tags": []
          },
          "execution_count": 54
        }
      ]
    },
    {
      "cell_type": "code",
      "metadata": {
        "id": "sVT_iJzc860p",
        "colab_type": "code",
        "outputId": "d93bbb09-1447-4b19-89e2-52db6d1e8724",
        "colab": {
          "base_uri": "https://localhost:8080/",
          "height": 34
        }
      },
      "source": [
        "tvec_weights.shape"
      ],
      "execution_count": 55,
      "outputs": [
        {
          "output_type": "execute_result",
          "data": {
            "text/plain": [
              "(2188680, 747)"
            ]
          },
          "metadata": {
            "tags": []
          },
          "execution_count": 55
        }
      ]
    },
    {
      "cell_type": "code",
      "metadata": {
        "id": "UBYXh47G9CxA",
        "colab_type": "code",
        "outputId": "50b5f4bf-a383-4fb1-910a-95f86ea50a4b",
        "colab": {
          "base_uri": "https://localhost:8080/",
          "height": 51
        }
      },
      "source": [
        "tvec_weights[0]"
      ],
      "execution_count": 56,
      "outputs": [
        {
          "output_type": "execute_result",
          "data": {
            "text/plain": [
              "<1x747 sparse matrix of type '<class 'numpy.float64'>'\n",
              "\twith 11 stored elements in Compressed Sparse Row format>"
            ]
          },
          "metadata": {
            "tags": []
          },
          "execution_count": 56
        }
      ]
    },
    {
      "cell_type": "markdown",
      "metadata": {
        "id": "XsFLsOGh_rdf",
        "colab_type": "text"
      },
      "source": [
        "Now that we have all the information that we need from the description, we can drop the column so that we can convert the dataframe into a numerical matrix"
      ]
    },
    {
      "cell_type": "code",
      "metadata": {
        "id": "v6p2cigQ_qLo",
        "colab_type": "code",
        "colab": {}
      },
      "source": [
        "procesed_data_3 = processed_data_3.drop(['Description'], axis=1, inplace=True)\n"
      ],
      "execution_count": 0,
      "outputs": []
    },
    {
      "cell_type": "code",
      "metadata": {
        "id": "45tYTh1SCaUK",
        "colab_type": "code",
        "outputId": "a5fea12a-3147-427d-b2d0-69f0579b4231",
        "colab": {
          "base_uri": "https://localhost:8080/",
          "height": 324
        }
      },
      "source": [
        "procesed_data_3 = processed_data_3.drop(\n",
        "    ['Start_Time', 'End_Time'], axis=1, inplace=True)"
      ],
      "execution_count": 58,
      "outputs": [
        {
          "output_type": "error",
          "ename": "KeyError",
          "evalue": "ignored",
          "traceback": [
            "\u001b[0;31m---------------------------------------------------------------------------\u001b[0m",
            "\u001b[0;31mKeyError\u001b[0m                                  Traceback (most recent call last)",
            "\u001b[0;32m<ipython-input-58-471ea00eec41>\u001b[0m in \u001b[0;36m<module>\u001b[0;34m()\u001b[0m\n\u001b[1;32m      1\u001b[0m procesed_data_3 = processed_data_3.drop(\n\u001b[0;32m----> 2\u001b[0;31m     ['Start_Time', 'End_Time'], axis=1, inplace=True)\n\u001b[0m",
            "\u001b[0;32m/usr/local/lib/python3.6/dist-packages/pandas/core/frame.py\u001b[0m in \u001b[0;36mdrop\u001b[0;34m(self, labels, axis, index, columns, level, inplace, errors)\u001b[0m\n\u001b[1;32m   3995\u001b[0m             \u001b[0mlevel\u001b[0m\u001b[0;34m=\u001b[0m\u001b[0mlevel\u001b[0m\u001b[0;34m,\u001b[0m\u001b[0;34m\u001b[0m\u001b[0;34m\u001b[0m\u001b[0m\n\u001b[1;32m   3996\u001b[0m             \u001b[0minplace\u001b[0m\u001b[0;34m=\u001b[0m\u001b[0minplace\u001b[0m\u001b[0;34m,\u001b[0m\u001b[0;34m\u001b[0m\u001b[0;34m\u001b[0m\u001b[0m\n\u001b[0;32m-> 3997\u001b[0;31m             \u001b[0merrors\u001b[0m\u001b[0;34m=\u001b[0m\u001b[0merrors\u001b[0m\u001b[0;34m,\u001b[0m\u001b[0;34m\u001b[0m\u001b[0;34m\u001b[0m\u001b[0m\n\u001b[0m\u001b[1;32m   3998\u001b[0m         )\n\u001b[1;32m   3999\u001b[0m \u001b[0;34m\u001b[0m\u001b[0m\n",
            "\u001b[0;32m/usr/local/lib/python3.6/dist-packages/pandas/core/generic.py\u001b[0m in \u001b[0;36mdrop\u001b[0;34m(self, labels, axis, index, columns, level, inplace, errors)\u001b[0m\n\u001b[1;32m   3934\u001b[0m         \u001b[0;32mfor\u001b[0m \u001b[0maxis\u001b[0m\u001b[0;34m,\u001b[0m \u001b[0mlabels\u001b[0m \u001b[0;32min\u001b[0m \u001b[0maxes\u001b[0m\u001b[0;34m.\u001b[0m\u001b[0mitems\u001b[0m\u001b[0;34m(\u001b[0m\u001b[0;34m)\u001b[0m\u001b[0;34m:\u001b[0m\u001b[0;34m\u001b[0m\u001b[0;34m\u001b[0m\u001b[0m\n\u001b[1;32m   3935\u001b[0m             \u001b[0;32mif\u001b[0m \u001b[0mlabels\u001b[0m \u001b[0;32mis\u001b[0m \u001b[0;32mnot\u001b[0m \u001b[0;32mNone\u001b[0m\u001b[0;34m:\u001b[0m\u001b[0;34m\u001b[0m\u001b[0;34m\u001b[0m\u001b[0m\n\u001b[0;32m-> 3936\u001b[0;31m                 \u001b[0mobj\u001b[0m \u001b[0;34m=\u001b[0m \u001b[0mobj\u001b[0m\u001b[0;34m.\u001b[0m\u001b[0m_drop_axis\u001b[0m\u001b[0;34m(\u001b[0m\u001b[0mlabels\u001b[0m\u001b[0;34m,\u001b[0m \u001b[0maxis\u001b[0m\u001b[0;34m,\u001b[0m \u001b[0mlevel\u001b[0m\u001b[0;34m=\u001b[0m\u001b[0mlevel\u001b[0m\u001b[0;34m,\u001b[0m \u001b[0merrors\u001b[0m\u001b[0;34m=\u001b[0m\u001b[0merrors\u001b[0m\u001b[0;34m)\u001b[0m\u001b[0;34m\u001b[0m\u001b[0;34m\u001b[0m\u001b[0m\n\u001b[0m\u001b[1;32m   3937\u001b[0m \u001b[0;34m\u001b[0m\u001b[0m\n\u001b[1;32m   3938\u001b[0m         \u001b[0;32mif\u001b[0m \u001b[0minplace\u001b[0m\u001b[0;34m:\u001b[0m\u001b[0;34m\u001b[0m\u001b[0;34m\u001b[0m\u001b[0m\n",
            "\u001b[0;32m/usr/local/lib/python3.6/dist-packages/pandas/core/generic.py\u001b[0m in \u001b[0;36m_drop_axis\u001b[0;34m(self, labels, axis, level, errors)\u001b[0m\n\u001b[1;32m   3968\u001b[0m                 \u001b[0mnew_axis\u001b[0m \u001b[0;34m=\u001b[0m \u001b[0maxis\u001b[0m\u001b[0;34m.\u001b[0m\u001b[0mdrop\u001b[0m\u001b[0;34m(\u001b[0m\u001b[0mlabels\u001b[0m\u001b[0;34m,\u001b[0m \u001b[0mlevel\u001b[0m\u001b[0;34m=\u001b[0m\u001b[0mlevel\u001b[0m\u001b[0;34m,\u001b[0m \u001b[0merrors\u001b[0m\u001b[0;34m=\u001b[0m\u001b[0merrors\u001b[0m\u001b[0;34m)\u001b[0m\u001b[0;34m\u001b[0m\u001b[0;34m\u001b[0m\u001b[0m\n\u001b[1;32m   3969\u001b[0m             \u001b[0;32melse\u001b[0m\u001b[0;34m:\u001b[0m\u001b[0;34m\u001b[0m\u001b[0;34m\u001b[0m\u001b[0m\n\u001b[0;32m-> 3970\u001b[0;31m                 \u001b[0mnew_axis\u001b[0m \u001b[0;34m=\u001b[0m \u001b[0maxis\u001b[0m\u001b[0;34m.\u001b[0m\u001b[0mdrop\u001b[0m\u001b[0;34m(\u001b[0m\u001b[0mlabels\u001b[0m\u001b[0;34m,\u001b[0m \u001b[0merrors\u001b[0m\u001b[0;34m=\u001b[0m\u001b[0merrors\u001b[0m\u001b[0;34m)\u001b[0m\u001b[0;34m\u001b[0m\u001b[0;34m\u001b[0m\u001b[0m\n\u001b[0m\u001b[1;32m   3971\u001b[0m             \u001b[0mresult\u001b[0m \u001b[0;34m=\u001b[0m \u001b[0mself\u001b[0m\u001b[0;34m.\u001b[0m\u001b[0mreindex\u001b[0m\u001b[0;34m(\u001b[0m\u001b[0;34m**\u001b[0m\u001b[0;34m{\u001b[0m\u001b[0maxis_name\u001b[0m\u001b[0;34m:\u001b[0m \u001b[0mnew_axis\u001b[0m\u001b[0;34m}\u001b[0m\u001b[0;34m)\u001b[0m\u001b[0;34m\u001b[0m\u001b[0;34m\u001b[0m\u001b[0m\n\u001b[1;32m   3972\u001b[0m \u001b[0;34m\u001b[0m\u001b[0m\n",
            "\u001b[0;32m/usr/local/lib/python3.6/dist-packages/pandas/core/indexes/base.py\u001b[0m in \u001b[0;36mdrop\u001b[0;34m(self, labels, errors)\u001b[0m\n\u001b[1;32m   5015\u001b[0m         \u001b[0;32mif\u001b[0m \u001b[0mmask\u001b[0m\u001b[0;34m.\u001b[0m\u001b[0many\u001b[0m\u001b[0;34m(\u001b[0m\u001b[0;34m)\u001b[0m\u001b[0;34m:\u001b[0m\u001b[0;34m\u001b[0m\u001b[0;34m\u001b[0m\u001b[0m\n\u001b[1;32m   5016\u001b[0m             \u001b[0;32mif\u001b[0m \u001b[0merrors\u001b[0m \u001b[0;34m!=\u001b[0m \u001b[0;34m\"ignore\"\u001b[0m\u001b[0;34m:\u001b[0m\u001b[0;34m\u001b[0m\u001b[0;34m\u001b[0m\u001b[0m\n\u001b[0;32m-> 5017\u001b[0;31m                 \u001b[0;32mraise\u001b[0m \u001b[0mKeyError\u001b[0m\u001b[0;34m(\u001b[0m\u001b[0;34mf\"{labels[mask]} not found in axis\"\u001b[0m\u001b[0;34m)\u001b[0m\u001b[0;34m\u001b[0m\u001b[0;34m\u001b[0m\u001b[0m\n\u001b[0m\u001b[1;32m   5018\u001b[0m             \u001b[0mindexer\u001b[0m \u001b[0;34m=\u001b[0m \u001b[0mindexer\u001b[0m\u001b[0;34m[\u001b[0m\u001b[0;34m~\u001b[0m\u001b[0mmask\u001b[0m\u001b[0;34m]\u001b[0m\u001b[0;34m\u001b[0m\u001b[0;34m\u001b[0m\u001b[0m\n\u001b[1;32m   5019\u001b[0m         \u001b[0;32mreturn\u001b[0m \u001b[0mself\u001b[0m\u001b[0;34m.\u001b[0m\u001b[0mdelete\u001b[0m\u001b[0;34m(\u001b[0m\u001b[0mindexer\u001b[0m\u001b[0;34m)\u001b[0m\u001b[0;34m\u001b[0m\u001b[0;34m\u001b[0m\u001b[0m\n",
            "\u001b[0;31mKeyError\u001b[0m: \"['Start_Time' 'End_Time'] not found in axis\""
          ]
        }
      ]
    },
    {
      "cell_type": "code",
      "metadata": {
        "id": "mFvHrYAi9du4",
        "colab_type": "code",
        "colab": {}
      },
      "source": [
        "sparse_processed = scipy.sparse.csr_matrix(processed_data_3.values.astype(np.float))"
      ],
      "execution_count": 0,
      "outputs": []
    },
    {
      "cell_type": "code",
      "metadata": {
        "id": "esQsQZ4VCsvY",
        "colab_type": "code",
        "colab": {}
      },
      "source": [
        "final_processed = scipy.sparse.hstack([sparse_processed, tvec_weights])"
      ],
      "execution_count": 0,
      "outputs": []
    },
    {
      "cell_type": "code",
      "metadata": {
        "id": "IJ6GaUqjDBRA",
        "colab_type": "code",
        "colab": {}
      },
      "source": [
        "final_processed"
      ],
      "execution_count": 0,
      "outputs": []
    },
    {
      "cell_type": "markdown",
      "metadata": {
        "id": "anSTj34pD58E",
        "colab_type": "text"
      },
      "source": [
        "Now saving this as a sparse scipy matrix."
      ]
    },
    {
      "cell_type": "code",
      "metadata": {
        "id": "Gr_O-JF5Dr-8",
        "colab_type": "code",
        "colab": {}
      },
      "source": [
        "scipy.sparse.save_npz(\n",
        "    \"/content/drive/My Drive/CIS 545/Final Project/final_processed.npz\",\n",
        "     final_processed)"
      ],
      "execution_count": 0,
      "outputs": []
    }
  ]
}