{
  "nbformat": 4,
  "nbformat_minor": 0,
  "metadata": {
    "colab": {
      "name": "545-Final-Notebook",
      "provenance": [],
      "collapsed_sections": [],
      "toc_visible": true,
      "authorship_tag": "ABX9TyMmUWWu2vkyD2ioL2pWDXam",
      "include_colab_link": true
    },
    "kernelspec": {
      "name": "python3",
      "display_name": "Python 3"
    }
  },
  "cells": [
    {
      "cell_type": "markdown",
      "metadata": {
        "id": "view-in-github",
        "colab_type": "text"
      },
      "source": [
        "<a href=\"https://colab.research.google.com/github/zusoomro/545FinalProject/blob/master/545_Final_Notebook.ipynb\" target=\"_parent\"><img src=\"https://colab.research.google.com/assets/colab-badge.svg\" alt=\"Open In Colab\"/></a>"
      ]
    },
    {
      "cell_type": "markdown",
      "metadata": {
        "id": "kPRqCwc1RK3z",
        "colab_type": "text"
      },
      "source": [
        "# Introduction\n",
        "\n",
        "In this project, I will be using a [dataset](https://www.kaggle.com/sobhanmoosavi/us-accidents/data) on 3 million accidents in the US that occured between Feb 2016 and Dec 2019. I am going to use information from the dataset to predict a given accident's impact on traffic. An example use case here is using the analysis and models to provide accurate traffic slowdown predictions for accidents based on public information about the accident. This would aid in conservatively estimating travel times for navigation applications for example. \n",
        "\n",
        "Some features which I am going to use in the model are:\n",
        "\n",
        "- Local road features near the accident\n",
        "- The weather conditions at the time of the accident\n",
        "- A natural language description of the accident\n",
        "- The [TMC code](https://wiki.openstreetmap.org/wiki/TMC/Event_Code_List) of the accident\n",
        "\n",
        "Thanks for taking a look!"
      ]
    },
    {
      "cell_type": "markdown",
      "metadata": {
        "id": "MWuSaahCSs_0",
        "colab_type": "text"
      },
      "source": [
        "# Setup"
      ]
    },
    {
      "cell_type": "code",
      "metadata": {
        "id": "sK96JlneSuhr",
        "colab_type": "code",
        "colab": {
          "base_uri": "https://localhost:8080/",
          "height": 51
        },
        "outputId": "0466bb6f-bd27-4d08-82ae-c420e03c5978"
      },
      "source": [
        "# Loading in modules\n",
        "\n",
        "import numpy as np\n",
        "import pandas as pd\n",
        "import matplotlib\n",
        "\n",
        "import gc\n",
        "import time\n",
        "import warnings\n",
        "\n",
        "import nltk\n",
        "nltk.download('punkt')\n",
        "\n",
        "import matplotlib.pyplot as plt\n",
        "import seaborn as sns\n",
        "\n",
        "import scipy\n",
        "from sklearn.decomposition import IncrementalPCA\n",
        "from sklearn import tree\n",
        "from sklearn import ensemble\n",
        "import sklearn\n",
        "\n",
        "from google.colab import drive\n",
        "\n",
        "pd.set_option('display.max_colwidth', None)  "
      ],
      "execution_count": 59,
      "outputs": [
        {
          "output_type": "stream",
          "text": [
            "[nltk_data] Downloading package punkt to /root/nltk_data...\n",
            "[nltk_data]   Package punkt is already up-to-date!\n"
          ],
          "name": "stdout"
        }
      ]
    },
    {
      "cell_type": "code",
      "metadata": {
        "id": "sgIHH24JTJSw",
        "colab_type": "code",
        "colab": {
          "base_uri": "https://localhost:8080/",
          "height": 34
        },
        "outputId": "227b826e-e99a-4163-dbfa-8b86c82f7058"
      },
      "source": [
        "# Mounting my Google Drive and loading the dataset from my local machine\n",
        "\n",
        "drive.mount('/content/drive')\n",
        "\n",
        "drive_data_path = (\n",
        "  \"/content/drive/My Drive/CIS 545/Final Project/US_Accidents_Dec19.csv\")\n",
        "\n",
        "with open(drive_data_path, 'r') as f:\n",
        "  data = pd.read_csv(f)"
      ],
      "execution_count": 60,
      "outputs": [
        {
          "output_type": "stream",
          "text": [
            "Drive already mounted at /content/drive; to attempt to forcibly remount, call drive.mount(\"/content/drive\", force_remount=True).\n"
          ],
          "name": "stdout"
        }
      ]
    },
    {
      "cell_type": "markdown",
      "metadata": {
        "id": "PkyEEyejTrKm",
        "colab_type": "text"
      },
      "source": [
        "# Data exploration"
      ]
    },
    {
      "cell_type": "code",
      "metadata": {
        "id": "UTXfV11qTt-j",
        "colab_type": "code",
        "colab": {
          "base_uri": "https://localhost:8080/",
          "height": 649
        },
        "outputId": "dc4004f6-9a9f-4ec0-c10d-81852e059416"
      },
      "source": [
        "# Let's take a look at a sample of the data\n",
        "\n",
        "data.head()"
      ],
      "execution_count": 61,
      "outputs": [
        {
          "output_type": "execute_result",
          "data": {
            "text/html": [
              "<div>\n",
              "<style scoped>\n",
              "    .dataframe tbody tr th:only-of-type {\n",
              "        vertical-align: middle;\n",
              "    }\n",
              "\n",
              "    .dataframe tbody tr th {\n",
              "        vertical-align: top;\n",
              "    }\n",
              "\n",
              "    .dataframe thead th {\n",
              "        text-align: right;\n",
              "    }\n",
              "</style>\n",
              "<table border=\"1\" class=\"dataframe\">\n",
              "  <thead>\n",
              "    <tr style=\"text-align: right;\">\n",
              "      <th></th>\n",
              "      <th>ID</th>\n",
              "      <th>Source</th>\n",
              "      <th>TMC</th>\n",
              "      <th>Severity</th>\n",
              "      <th>Start_Time</th>\n",
              "      <th>End_Time</th>\n",
              "      <th>Start_Lat</th>\n",
              "      <th>Start_Lng</th>\n",
              "      <th>End_Lat</th>\n",
              "      <th>End_Lng</th>\n",
              "      <th>Distance(mi)</th>\n",
              "      <th>Description</th>\n",
              "      <th>Number</th>\n",
              "      <th>Street</th>\n",
              "      <th>Side</th>\n",
              "      <th>City</th>\n",
              "      <th>County</th>\n",
              "      <th>State</th>\n",
              "      <th>Zipcode</th>\n",
              "      <th>Country</th>\n",
              "      <th>Timezone</th>\n",
              "      <th>Airport_Code</th>\n",
              "      <th>Weather_Timestamp</th>\n",
              "      <th>Temperature(F)</th>\n",
              "      <th>Wind_Chill(F)</th>\n",
              "      <th>Humidity(%)</th>\n",
              "      <th>Pressure(in)</th>\n",
              "      <th>Visibility(mi)</th>\n",
              "      <th>Wind_Direction</th>\n",
              "      <th>Wind_Speed(mph)</th>\n",
              "      <th>Precipitation(in)</th>\n",
              "      <th>Weather_Condition</th>\n",
              "      <th>Amenity</th>\n",
              "      <th>Bump</th>\n",
              "      <th>Crossing</th>\n",
              "      <th>Give_Way</th>\n",
              "      <th>Junction</th>\n",
              "      <th>No_Exit</th>\n",
              "      <th>Railway</th>\n",
              "      <th>Roundabout</th>\n",
              "      <th>Station</th>\n",
              "      <th>Stop</th>\n",
              "      <th>Traffic_Calming</th>\n",
              "      <th>Traffic_Signal</th>\n",
              "      <th>Turning_Loop</th>\n",
              "      <th>Sunrise_Sunset</th>\n",
              "      <th>Civil_Twilight</th>\n",
              "      <th>Nautical_Twilight</th>\n",
              "      <th>Astronomical_Twilight</th>\n",
              "    </tr>\n",
              "  </thead>\n",
              "  <tbody>\n",
              "    <tr>\n",
              "      <th>0</th>\n",
              "      <td>A-1</td>\n",
              "      <td>MapQuest</td>\n",
              "      <td>201.0</td>\n",
              "      <td>3</td>\n",
              "      <td>2016-02-08 05:46:00</td>\n",
              "      <td>2016-02-08 11:00:00</td>\n",
              "      <td>39.865147</td>\n",
              "      <td>-84.058723</td>\n",
              "      <td>NaN</td>\n",
              "      <td>NaN</td>\n",
              "      <td>0.01</td>\n",
              "      <td>Right lane blocked due to accident on I-70 Eastbound at Exit 41 OH-235 State Route 4.</td>\n",
              "      <td>NaN</td>\n",
              "      <td>I-70 E</td>\n",
              "      <td>R</td>\n",
              "      <td>Dayton</td>\n",
              "      <td>Montgomery</td>\n",
              "      <td>OH</td>\n",
              "      <td>45424</td>\n",
              "      <td>US</td>\n",
              "      <td>US/Eastern</td>\n",
              "      <td>KFFO</td>\n",
              "      <td>2016-02-08 05:58:00</td>\n",
              "      <td>36.9</td>\n",
              "      <td>NaN</td>\n",
              "      <td>91.0</td>\n",
              "      <td>29.68</td>\n",
              "      <td>10.0</td>\n",
              "      <td>Calm</td>\n",
              "      <td>NaN</td>\n",
              "      <td>0.02</td>\n",
              "      <td>Light Rain</td>\n",
              "      <td>False</td>\n",
              "      <td>False</td>\n",
              "      <td>False</td>\n",
              "      <td>False</td>\n",
              "      <td>False</td>\n",
              "      <td>False</td>\n",
              "      <td>False</td>\n",
              "      <td>False</td>\n",
              "      <td>False</td>\n",
              "      <td>False</td>\n",
              "      <td>False</td>\n",
              "      <td>False</td>\n",
              "      <td>False</td>\n",
              "      <td>Night</td>\n",
              "      <td>Night</td>\n",
              "      <td>Night</td>\n",
              "      <td>Night</td>\n",
              "    </tr>\n",
              "    <tr>\n",
              "      <th>1</th>\n",
              "      <td>A-2</td>\n",
              "      <td>MapQuest</td>\n",
              "      <td>201.0</td>\n",
              "      <td>2</td>\n",
              "      <td>2016-02-08 06:07:59</td>\n",
              "      <td>2016-02-08 06:37:59</td>\n",
              "      <td>39.928059</td>\n",
              "      <td>-82.831184</td>\n",
              "      <td>NaN</td>\n",
              "      <td>NaN</td>\n",
              "      <td>0.01</td>\n",
              "      <td>Accident on Brice Rd at Tussing Rd. Expect delays.</td>\n",
              "      <td>2584.0</td>\n",
              "      <td>Brice Rd</td>\n",
              "      <td>L</td>\n",
              "      <td>Reynoldsburg</td>\n",
              "      <td>Franklin</td>\n",
              "      <td>OH</td>\n",
              "      <td>43068-3402</td>\n",
              "      <td>US</td>\n",
              "      <td>US/Eastern</td>\n",
              "      <td>KCMH</td>\n",
              "      <td>2016-02-08 05:51:00</td>\n",
              "      <td>37.9</td>\n",
              "      <td>NaN</td>\n",
              "      <td>100.0</td>\n",
              "      <td>29.65</td>\n",
              "      <td>10.0</td>\n",
              "      <td>Calm</td>\n",
              "      <td>NaN</td>\n",
              "      <td>0.00</td>\n",
              "      <td>Light Rain</td>\n",
              "      <td>False</td>\n",
              "      <td>False</td>\n",
              "      <td>False</td>\n",
              "      <td>False</td>\n",
              "      <td>False</td>\n",
              "      <td>False</td>\n",
              "      <td>False</td>\n",
              "      <td>False</td>\n",
              "      <td>False</td>\n",
              "      <td>False</td>\n",
              "      <td>False</td>\n",
              "      <td>False</td>\n",
              "      <td>False</td>\n",
              "      <td>Night</td>\n",
              "      <td>Night</td>\n",
              "      <td>Night</td>\n",
              "      <td>Day</td>\n",
              "    </tr>\n",
              "    <tr>\n",
              "      <th>2</th>\n",
              "      <td>A-3</td>\n",
              "      <td>MapQuest</td>\n",
              "      <td>201.0</td>\n",
              "      <td>2</td>\n",
              "      <td>2016-02-08 06:49:27</td>\n",
              "      <td>2016-02-08 07:19:27</td>\n",
              "      <td>39.063148</td>\n",
              "      <td>-84.032608</td>\n",
              "      <td>NaN</td>\n",
              "      <td>NaN</td>\n",
              "      <td>0.01</td>\n",
              "      <td>Accident on OH-32 State Route 32 Westbound at Dela Palma Rd. Expect delays.</td>\n",
              "      <td>NaN</td>\n",
              "      <td>State Route 32</td>\n",
              "      <td>R</td>\n",
              "      <td>Williamsburg</td>\n",
              "      <td>Clermont</td>\n",
              "      <td>OH</td>\n",
              "      <td>45176</td>\n",
              "      <td>US</td>\n",
              "      <td>US/Eastern</td>\n",
              "      <td>KI69</td>\n",
              "      <td>2016-02-08 06:56:00</td>\n",
              "      <td>36.0</td>\n",
              "      <td>33.3</td>\n",
              "      <td>100.0</td>\n",
              "      <td>29.67</td>\n",
              "      <td>10.0</td>\n",
              "      <td>SW</td>\n",
              "      <td>3.5</td>\n",
              "      <td>NaN</td>\n",
              "      <td>Overcast</td>\n",
              "      <td>False</td>\n",
              "      <td>False</td>\n",
              "      <td>False</td>\n",
              "      <td>False</td>\n",
              "      <td>False</td>\n",
              "      <td>False</td>\n",
              "      <td>False</td>\n",
              "      <td>False</td>\n",
              "      <td>False</td>\n",
              "      <td>False</td>\n",
              "      <td>False</td>\n",
              "      <td>True</td>\n",
              "      <td>False</td>\n",
              "      <td>Night</td>\n",
              "      <td>Night</td>\n",
              "      <td>Day</td>\n",
              "      <td>Day</td>\n",
              "    </tr>\n",
              "    <tr>\n",
              "      <th>3</th>\n",
              "      <td>A-4</td>\n",
              "      <td>MapQuest</td>\n",
              "      <td>201.0</td>\n",
              "      <td>3</td>\n",
              "      <td>2016-02-08 07:23:34</td>\n",
              "      <td>2016-02-08 07:53:34</td>\n",
              "      <td>39.747753</td>\n",
              "      <td>-84.205582</td>\n",
              "      <td>NaN</td>\n",
              "      <td>NaN</td>\n",
              "      <td>0.01</td>\n",
              "      <td>Accident on I-75 Southbound at Exits 52 52B US-35. Expect delays.</td>\n",
              "      <td>NaN</td>\n",
              "      <td>I-75 S</td>\n",
              "      <td>R</td>\n",
              "      <td>Dayton</td>\n",
              "      <td>Montgomery</td>\n",
              "      <td>OH</td>\n",
              "      <td>45417</td>\n",
              "      <td>US</td>\n",
              "      <td>US/Eastern</td>\n",
              "      <td>KDAY</td>\n",
              "      <td>2016-02-08 07:38:00</td>\n",
              "      <td>35.1</td>\n",
              "      <td>31.0</td>\n",
              "      <td>96.0</td>\n",
              "      <td>29.64</td>\n",
              "      <td>9.0</td>\n",
              "      <td>SW</td>\n",
              "      <td>4.6</td>\n",
              "      <td>NaN</td>\n",
              "      <td>Mostly Cloudy</td>\n",
              "      <td>False</td>\n",
              "      <td>False</td>\n",
              "      <td>False</td>\n",
              "      <td>False</td>\n",
              "      <td>False</td>\n",
              "      <td>False</td>\n",
              "      <td>False</td>\n",
              "      <td>False</td>\n",
              "      <td>False</td>\n",
              "      <td>False</td>\n",
              "      <td>False</td>\n",
              "      <td>False</td>\n",
              "      <td>False</td>\n",
              "      <td>Night</td>\n",
              "      <td>Day</td>\n",
              "      <td>Day</td>\n",
              "      <td>Day</td>\n",
              "    </tr>\n",
              "    <tr>\n",
              "      <th>4</th>\n",
              "      <td>A-5</td>\n",
              "      <td>MapQuest</td>\n",
              "      <td>201.0</td>\n",
              "      <td>2</td>\n",
              "      <td>2016-02-08 07:39:07</td>\n",
              "      <td>2016-02-08 08:09:07</td>\n",
              "      <td>39.627781</td>\n",
              "      <td>-84.188354</td>\n",
              "      <td>NaN</td>\n",
              "      <td>NaN</td>\n",
              "      <td>0.01</td>\n",
              "      <td>Accident on McEwen Rd at OH-725 Miamisburg Centerville Rd. Expect delays.</td>\n",
              "      <td>NaN</td>\n",
              "      <td>Miamisburg Centerville Rd</td>\n",
              "      <td>R</td>\n",
              "      <td>Dayton</td>\n",
              "      <td>Montgomery</td>\n",
              "      <td>OH</td>\n",
              "      <td>45459</td>\n",
              "      <td>US</td>\n",
              "      <td>US/Eastern</td>\n",
              "      <td>KMGY</td>\n",
              "      <td>2016-02-08 07:53:00</td>\n",
              "      <td>36.0</td>\n",
              "      <td>33.3</td>\n",
              "      <td>89.0</td>\n",
              "      <td>29.65</td>\n",
              "      <td>6.0</td>\n",
              "      <td>SW</td>\n",
              "      <td>3.5</td>\n",
              "      <td>NaN</td>\n",
              "      <td>Mostly Cloudy</td>\n",
              "      <td>False</td>\n",
              "      <td>False</td>\n",
              "      <td>False</td>\n",
              "      <td>False</td>\n",
              "      <td>False</td>\n",
              "      <td>False</td>\n",
              "      <td>False</td>\n",
              "      <td>False</td>\n",
              "      <td>False</td>\n",
              "      <td>False</td>\n",
              "      <td>False</td>\n",
              "      <td>True</td>\n",
              "      <td>False</td>\n",
              "      <td>Day</td>\n",
              "      <td>Day</td>\n",
              "      <td>Day</td>\n",
              "      <td>Day</td>\n",
              "    </tr>\n",
              "  </tbody>\n",
              "</table>\n",
              "</div>"
            ],
            "text/plain": [
              "    ID    Source    TMC  ...  Civil_Twilight Nautical_Twilight Astronomical_Twilight\n",
              "0  A-1  MapQuest  201.0  ...           Night             Night                 Night\n",
              "1  A-2  MapQuest  201.0  ...           Night             Night                   Day\n",
              "2  A-3  MapQuest  201.0  ...           Night               Day                   Day\n",
              "3  A-4  MapQuest  201.0  ...             Day               Day                   Day\n",
              "4  A-5  MapQuest  201.0  ...             Day               Day                   Day\n",
              "\n",
              "[5 rows x 49 columns]"
            ]
          },
          "metadata": {
            "tags": []
          },
          "execution_count": 61
        }
      ]
    },
    {
      "cell_type": "code",
      "metadata": {
        "id": "6fHFJ4ay8p57",
        "colab_type": "code",
        "colab": {
          "base_uri": "https://localhost:8080/",
          "height": 119
        },
        "outputId": "9f82815e-43e1-467b-ef9c-e7a1412b3b45"
      },
      "source": [
        "# ... the distribution of severity labels ...\n",
        "\n",
        "gb = data.groupby(['Severity']).count()\n",
        "gb['ID']"
      ],
      "execution_count": 62,
      "outputs": [
        {
          "output_type": "execute_result",
          "data": {
            "text/plain": [
              "Severity\n",
              "1        968\n",
              "2    1993410\n",
              "3     887620\n",
              "4      92337\n",
              "Name: ID, dtype: int64"
            ]
          },
          "metadata": {
            "tags": []
          },
          "execution_count": 62
        }
      ]
    },
    {
      "cell_type": "code",
      "metadata": {
        "id": "spGqoyjQb_It",
        "colab_type": "code",
        "colab": {
          "base_uri": "https://localhost:8080/",
          "height": 285
        },
        "outputId": "6c72fce7-693e-4eb2-dc54-51da8e543e31"
      },
      "source": [
        "sns.barplot(x=gb.index.values, y=gb['ID'] / data.shape[0])"
      ],
      "execution_count": 63,
      "outputs": [
        {
          "output_type": "execute_result",
          "data": {
            "text/plain": [
              "<matplotlib.axes._subplots.AxesSubplot at 0x7f2a4d4b20f0>"
            ]
          },
          "metadata": {
            "tags": []
          },
          "execution_count": 63
        },
        {
          "output_type": "display_data",
          "data": {
            "image/png": "[encoded data removed]",
            "text/plain": [
              "<Figure size 432x288 with 1 Axes>"
            ]
          },
          "metadata": {
            "tags": [],
            "needs_background": "light"
          }
        }
      ]
    },
    {
      "cell_type": "markdown",
      "metadata": {
        "id": "3mYzo19SAgfv",
        "colab_type": "text"
      },
      "source": [
        "Note that our data is disproportionately labeled with over 60% of the having traffic severity 2. We will have to keep this in mind going forward. "
      ]
    },
    {
      "cell_type": "code",
      "metadata": {
        "id": "0wSNe8mQTy2N",
        "colab_type": "code",
        "colab": {
          "base_uri": "https://localhost:8080/",
          "height": 34
        },
        "outputId": "54e95abd-566a-490b-c325-c59e0fea5b56"
      },
      "source": [
        "# ... the shape of the data ...\n",
        "\n",
        "data.shape"
      ],
      "execution_count": 64,
      "outputs": [
        {
          "output_type": "execute_result",
          "data": {
            "text/plain": [
              "(2974335, 49)"
            ]
          },
          "metadata": {
            "tags": []
          },
          "execution_count": 64
        }
      ]
    },
    {
      "cell_type": "code",
      "metadata": {
        "id": "CsSod4fyT0rm",
        "colab_type": "code",
        "colab": {
          "base_uri": "https://localhost:8080/",
          "height": 221
        },
        "outputId": "ab56d322-860b-4152-9bff-9cf724f9287e"
      },
      "source": [
        "# ... the names of the columns in the data ...\n",
        "\n",
        "data.columns"
      ],
      "execution_count": 65,
      "outputs": [
        {
          "output_type": "execute_result",
          "data": {
            "text/plain": [
              "Index(['ID', 'Source', 'TMC', 'Severity', 'Start_Time', 'End_Time',\n",
              "       'Start_Lat', 'Start_Lng', 'End_Lat', 'End_Lng', 'Distance(mi)',\n",
              "       'Description', 'Number', 'Street', 'Side', 'City', 'County', 'State',\n",
              "       'Zipcode', 'Country', 'Timezone', 'Airport_Code', 'Weather_Timestamp',\n",
              "       'Temperature(F)', 'Wind_Chill(F)', 'Humidity(%)', 'Pressure(in)',\n",
              "       'Visibility(mi)', 'Wind_Direction', 'Wind_Speed(mph)',\n",
              "       'Precipitation(in)', 'Weather_Condition', 'Amenity', 'Bump', 'Crossing',\n",
              "       'Give_Way', 'Junction', 'No_Exit', 'Railway', 'Roundabout', 'Station',\n",
              "       'Stop', 'Traffic_Calming', 'Traffic_Signal', 'Turning_Loop',\n",
              "       'Sunrise_Sunset', 'Civil_Twilight', 'Nautical_Twilight',\n",
              "       'Astronomical_Twilight'],\n",
              "      dtype='object')"
            ]
          },
          "metadata": {
            "tags": []
          },
          "execution_count": 65
        }
      ]
    },
    {
      "cell_type": "code",
      "metadata": {
        "id": "K_oXHR-5T3CT",
        "colab_type": "code",
        "colab": {
          "base_uri": "https://localhost:8080/",
          "height": 317
        },
        "outputId": "478900ec-fbf0-4246-9ed4-c56bf5bc9c36"
      },
      "source": [
        "# ... the distribution of the numerical data ...\n",
        "\n",
        "data.describe()"
      ],
      "execution_count": 66,
      "outputs": [
        {
          "output_type": "execute_result",
          "data": {
            "text/html": [
              "<div>\n",
              "<style scoped>\n",
              "    .dataframe tbody tr th:only-of-type {\n",
              "        vertical-align: middle;\n",
              "    }\n",
              "\n",
              "    .dataframe tbody tr th {\n",
              "        vertical-align: top;\n",
              "    }\n",
              "\n",
              "    .dataframe thead th {\n",
              "        text-align: right;\n",
              "    }\n",
              "</style>\n",
              "<table border=\"1\" class=\"dataframe\">\n",
              "  <thead>\n",
              "    <tr style=\"text-align: right;\">\n",
              "      <th></th>\n",
              "      <th>TMC</th>\n",
              "      <th>Severity</th>\n",
              "      <th>Start_Lat</th>\n",
              "      <th>Start_Lng</th>\n",
              "      <th>End_Lat</th>\n",
              "      <th>End_Lng</th>\n",
              "      <th>Distance(mi)</th>\n",
              "      <th>Number</th>\n",
              "      <th>Temperature(F)</th>\n",
              "      <th>Wind_Chill(F)</th>\n",
              "      <th>Humidity(%)</th>\n",
              "      <th>Pressure(in)</th>\n",
              "      <th>Visibility(mi)</th>\n",
              "      <th>Wind_Speed(mph)</th>\n",
              "      <th>Precipitation(in)</th>\n",
              "    </tr>\n",
              "  </thead>\n",
              "  <tbody>\n",
              "    <tr>\n",
              "      <th>count</th>\n",
              "      <td>2.246264e+06</td>\n",
              "      <td>2.974335e+06</td>\n",
              "      <td>2.974335e+06</td>\n",
              "      <td>2.974335e+06</td>\n",
              "      <td>728071.000000</td>\n",
              "      <td>728071.000000</td>\n",
              "      <td>2.974335e+06</td>\n",
              "      <td>1.056730e+06</td>\n",
              "      <td>2.918272e+06</td>\n",
              "      <td>1.121712e+06</td>\n",
              "      <td>2.915162e+06</td>\n",
              "      <td>2.926193e+06</td>\n",
              "      <td>2.908644e+06</td>\n",
              "      <td>2.533495e+06</td>\n",
              "      <td>975977.000000</td>\n",
              "    </tr>\n",
              "    <tr>\n",
              "      <th>mean</th>\n",
              "      <td>2.078316e+02</td>\n",
              "      <td>2.360190e+00</td>\n",
              "      <td>3.649361e+01</td>\n",
              "      <td>-9.542625e+01</td>\n",
              "      <td>37.580871</td>\n",
              "      <td>-99.976032</td>\n",
              "      <td>2.855654e-01</td>\n",
              "      <td>5.837004e+03</td>\n",
              "      <td>6.235120e+01</td>\n",
              "      <td>5.132685e+01</td>\n",
              "      <td>6.540542e+01</td>\n",
              "      <td>2.983190e+01</td>\n",
              "      <td>9.150770e+00</td>\n",
              "      <td>8.298064e+00</td>\n",
              "      <td>0.020495</td>\n",
              "    </tr>\n",
              "    <tr>\n",
              "      <th>std</th>\n",
              "      <td>2.032959e+01</td>\n",
              "      <td>5.414733e-01</td>\n",
              "      <td>4.918849e+00</td>\n",
              "      <td>1.721881e+01</td>\n",
              "      <td>5.004757</td>\n",
              "      <td>18.416647</td>\n",
              "      <td>1.548392e+00</td>\n",
              "      <td>1.515928e+04</td>\n",
              "      <td>1.878855e+01</td>\n",
              "      <td>2.519127e+01</td>\n",
              "      <td>2.255676e+01</td>\n",
              "      <td>7.213808e-01</td>\n",
              "      <td>2.892114e+00</td>\n",
              "      <td>5.138546e+00</td>\n",
              "      <td>0.235770</td>\n",
              "    </tr>\n",
              "    <tr>\n",
              "      <th>min</th>\n",
              "      <td>2.000000e+02</td>\n",
              "      <td>1.000000e+00</td>\n",
              "      <td>2.455527e+01</td>\n",
              "      <td>-1.246238e+02</td>\n",
              "      <td>24.570110</td>\n",
              "      <td>-124.497829</td>\n",
              "      <td>0.000000e+00</td>\n",
              "      <td>0.000000e+00</td>\n",
              "      <td>-7.780000e+01</td>\n",
              "      <td>-6.590000e+01</td>\n",
              "      <td>1.000000e+00</td>\n",
              "      <td>0.000000e+00</td>\n",
              "      <td>0.000000e+00</td>\n",
              "      <td>0.000000e+00</td>\n",
              "      <td>0.000000</td>\n",
              "    </tr>\n",
              "    <tr>\n",
              "      <th>25%</th>\n",
              "      <td>2.010000e+02</td>\n",
              "      <td>2.000000e+00</td>\n",
              "      <td>3.355040e+01</td>\n",
              "      <td>-1.172920e+02</td>\n",
              "      <td>33.957554</td>\n",
              "      <td>-118.286610</td>\n",
              "      <td>0.000000e+00</td>\n",
              "      <td>8.370000e+02</td>\n",
              "      <td>5.000000e+01</td>\n",
              "      <td>3.200000e+01</td>\n",
              "      <td>4.900000e+01</td>\n",
              "      <td>2.982000e+01</td>\n",
              "      <td>1.000000e+01</td>\n",
              "      <td>4.600000e+00</td>\n",
              "      <td>0.000000</td>\n",
              "    </tr>\n",
              "    <tr>\n",
              "      <th>50%</th>\n",
              "      <td>2.010000e+02</td>\n",
              "      <td>2.000000e+00</td>\n",
              "      <td>3.584969e+01</td>\n",
              "      <td>-9.025083e+01</td>\n",
              "      <td>37.903670</td>\n",
              "      <td>-96.631690</td>\n",
              "      <td>0.000000e+00</td>\n",
              "      <td>2.717000e+03</td>\n",
              "      <td>6.440000e+01</td>\n",
              "      <td>5.400000e+01</td>\n",
              "      <td>6.700000e+01</td>\n",
              "      <td>2.998000e+01</td>\n",
              "      <td>1.000000e+01</td>\n",
              "      <td>7.000000e+00</td>\n",
              "      <td>0.000000</td>\n",
              "    </tr>\n",
              "    <tr>\n",
              "      <th>75%</th>\n",
              "      <td>2.010000e+02</td>\n",
              "      <td>3.000000e+00</td>\n",
              "      <td>4.037026e+01</td>\n",
              "      <td>-8.091891e+01</td>\n",
              "      <td>41.372630</td>\n",
              "      <td>-82.323850</td>\n",
              "      <td>1.000000e-02</td>\n",
              "      <td>7.000000e+03</td>\n",
              "      <td>7.600000e+01</td>\n",
              "      <td>7.300000e+01</td>\n",
              "      <td>8.400000e+01</td>\n",
              "      <td>3.011000e+01</td>\n",
              "      <td>1.000000e+01</td>\n",
              "      <td>1.040000e+01</td>\n",
              "      <td>0.000000</td>\n",
              "    </tr>\n",
              "    <tr>\n",
              "      <th>max</th>\n",
              "      <td>4.060000e+02</td>\n",
              "      <td>4.000000e+00</td>\n",
              "      <td>4.900220e+01</td>\n",
              "      <td>-6.711317e+01</td>\n",
              "      <td>49.075000</td>\n",
              "      <td>-67.109242</td>\n",
              "      <td>3.336300e+02</td>\n",
              "      <td>9.999997e+06</td>\n",
              "      <td>1.706000e+02</td>\n",
              "      <td>1.150000e+02</td>\n",
              "      <td>1.000000e+02</td>\n",
              "      <td>3.304000e+01</td>\n",
              "      <td>1.400000e+02</td>\n",
              "      <td>8.228000e+02</td>\n",
              "      <td>25.000000</td>\n",
              "    </tr>\n",
              "  </tbody>\n",
              "</table>\n",
              "</div>"
            ],
            "text/plain": [
              "                TMC      Severity  ...  Wind_Speed(mph)  Precipitation(in)\n",
              "count  2.246264e+06  2.974335e+06  ...     2.533495e+06      975977.000000\n",
              "mean   2.078316e+02  2.360190e+00  ...     8.298064e+00           0.020495\n",
              "std    2.032959e+01  5.414733e-01  ...     5.138546e+00           0.235770\n",
              "min    2.000000e+02  1.000000e+00  ...     0.000000e+00           0.000000\n",
              "25%    2.010000e+02  2.000000e+00  ...     4.600000e+00           0.000000\n",
              "50%    2.010000e+02  2.000000e+00  ...     7.000000e+00           0.000000\n",
              "75%    2.010000e+02  3.000000e+00  ...     1.040000e+01           0.000000\n",
              "max    4.060000e+02  4.000000e+00  ...     8.228000e+02          25.000000\n",
              "\n",
              "[8 rows x 15 columns]"
            ]
          },
          "metadata": {
            "tags": []
          },
          "execution_count": 66
        }
      ]
    },
    {
      "cell_type": "code",
      "metadata": {
        "id": "Z1jSAC69VGRs",
        "colab_type": "code",
        "colab": {
          "base_uri": "https://localhost:8080/",
          "height": 867
        },
        "outputId": "10ca2ea0-3709-4596-bbf8-f495eea96323"
      },
      "source": [
        "# ... and the types of the data.\n",
        "\n",
        "data.dtypes"
      ],
      "execution_count": 67,
      "outputs": [
        {
          "output_type": "execute_result",
          "data": {
            "text/plain": [
              "ID                        object\n",
              "Source                    object\n",
              "TMC                      float64\n",
              "Severity                   int64\n",
              "Start_Time                object\n",
              "End_Time                  object\n",
              "Start_Lat                float64\n",
              "Start_Lng                float64\n",
              "End_Lat                  float64\n",
              "End_Lng                  float64\n",
              "Distance(mi)             float64\n",
              "Description               object\n",
              "Number                   float64\n",
              "Street                    object\n",
              "Side                      object\n",
              "City                      object\n",
              "County                    object\n",
              "State                     object\n",
              "Zipcode                   object\n",
              "Country                   object\n",
              "Timezone                  object\n",
              "Airport_Code              object\n",
              "Weather_Timestamp         object\n",
              "Temperature(F)           float64\n",
              "Wind_Chill(F)            float64\n",
              "Humidity(%)              float64\n",
              "Pressure(in)             float64\n",
              "Visibility(mi)           float64\n",
              "Wind_Direction            object\n",
              "Wind_Speed(mph)          float64\n",
              "Precipitation(in)        float64\n",
              "Weather_Condition         object\n",
              "Amenity                     bool\n",
              "Bump                        bool\n",
              "Crossing                    bool\n",
              "Give_Way                    bool\n",
              "Junction                    bool\n",
              "No_Exit                     bool\n",
              "Railway                     bool\n",
              "Roundabout                  bool\n",
              "Station                     bool\n",
              "Stop                        bool\n",
              "Traffic_Calming             bool\n",
              "Traffic_Signal              bool\n",
              "Turning_Loop                bool\n",
              "Sunrise_Sunset            object\n",
              "Civil_Twilight            object\n",
              "Nautical_Twilight         object\n",
              "Astronomical_Twilight     object\n",
              "dtype: object"
            ]
          },
          "metadata": {
            "tags": []
          },
          "execution_count": 67
        }
      ]
    },
    {
      "cell_type": "markdown",
      "metadata": {
        "id": "o_C8MqNGUcdO",
        "colab_type": "text"
      },
      "source": [
        "Right off the bat, I'm going to be taking a look at the information that's relevant for my model. For example, a column like source is probably not going to have a significant impact on the traffic severity of a given accident. I'm going to look to take out columns which don't convey a lot of meaningful information and further process columns which do."
      ]
    },
    {
      "cell_type": "markdown",
      "metadata": {
        "id": "qWr2MGYCVN0E",
        "colab_type": "text"
      },
      "source": [
        "Next, I'll look at the initial correlation of the columns and determine if something like PCA would be helpful."
      ]
    },
    {
      "cell_type": "code",
      "metadata": {
        "id": "BN-q8h-6VVYn",
        "colab_type": "code",
        "colab": {
          "base_uri": "https://localhost:8080/",
          "height": 694
        },
        "outputId": "d1aa1faa-6c42-4d76-f502-387a724502cb"
      },
      "source": [
        "# and correlation between the current numerical columns.\n",
        "\n",
        "corr = data.corr()\n",
        "plt.figure(figsize=(10, 10))\n",
        "sns.heatmap(corr, xticklabels=corr.columns, yticklabels=corr.columns)"
      ],
      "execution_count": 68,
      "outputs": [
        {
          "output_type": "execute_result",
          "data": {
            "text/plain": [
              "<matplotlib.axes._subplots.AxesSubplot at 0x7f2a4e971b70>"
            ]
          },
          "metadata": {
            "tags": []
          },
          "execution_count": 68
        },
        {
          "output_type": "display_data",
          "data": {
            "image/png": "[encoded data removed]",
            "text/plain": [
              "<Figure size 720x720 with 2 Axes>"
            ]
          },
          "metadata": {
            "tags": [],
            "needs_background": "light"
          }
        }
      ]
    },
    {
      "cell_type": "markdown",
      "metadata": {
        "id": "peYZ9hngVckG",
        "colab_type": "text"
      },
      "source": [
        "Many of the strong correlations in this matrix have to do with the general weather conditions, so not things that I'm extemely interested in if I'm looking to predict severity. For example, temperature and wind chill seem to be correlated with visibility,and although that is interesting, it doesn't give me strong information about the severity of an accident based on the visibility at the scene. \n",
        "\n",
        "Furthermore, it looks like there aren't very many strong correlations among the initial numerical data. If this also the case after processing the text into tf-idf rankings, it might not be worth it to do PCA. This is because PCA will reduce the number of total features, but make them dense, which might actually increase the complexity of the dataset.\n",
        "\n",
        "There does look to be some promising information though, as there are some columns which have a weak correlation with severity (such as distance).\n",
        "\n",
        "Next, I'm going to take a deeper look at some columns that I'm interested in processing further."
      ]
    },
    {
      "cell_type": "markdown",
      "metadata": {
        "id": "LWn3RNdnbdZ_",
        "colab_type": "text"
      },
      "source": [
        "## Description"
      ]
    },
    {
      "cell_type": "code",
      "metadata": {
        "id": "9Vd-m-u6Zyoc",
        "colab_type": "code",
        "colab": {
          "base_uri": "https://localhost:8080/",
          "height": 204
        },
        "outputId": "5f03c0a9-605b-42e2-da38-c53555bd5989"
      },
      "source": [
        "data[['Severity', 'Description']].head(5)"
      ],
      "execution_count": 69,
      "outputs": [
        {
          "output_type": "execute_result",
          "data": {
            "text/html": [
              "<div>\n",
              "<style scoped>\n",
              "    .dataframe tbody tr th:only-of-type {\n",
              "        vertical-align: middle;\n",
              "    }\n",
              "\n",
              "    .dataframe tbody tr th {\n",
              "        vertical-align: top;\n",
              "    }\n",
              "\n",
              "    .dataframe thead th {\n",
              "        text-align: right;\n",
              "    }\n",
              "</style>\n",
              "<table border=\"1\" class=\"dataframe\">\n",
              "  <thead>\n",
              "    <tr style=\"text-align: right;\">\n",
              "      <th></th>\n",
              "      <th>Severity</th>\n",
              "      <th>Description</th>\n",
              "    </tr>\n",
              "  </thead>\n",
              "  <tbody>\n",
              "    <tr>\n",
              "      <th>0</th>\n",
              "      <td>3</td>\n",
              "      <td>Right lane blocked due to accident on I-70 Eastbound at Exit 41 OH-235 State Route 4.</td>\n",
              "    </tr>\n",
              "    <tr>\n",
              "      <th>1</th>\n",
              "      <td>2</td>\n",
              "      <td>Accident on Brice Rd at Tussing Rd. Expect delays.</td>\n",
              "    </tr>\n",
              "    <tr>\n",
              "      <th>2</th>\n",
              "      <td>2</td>\n",
              "      <td>Accident on OH-32 State Route 32 Westbound at Dela Palma Rd. Expect delays.</td>\n",
              "    </tr>\n",
              "    <tr>\n",
              "      <th>3</th>\n",
              "      <td>3</td>\n",
              "      <td>Accident on I-75 Southbound at Exits 52 52B US-35. Expect delays.</td>\n",
              "    </tr>\n",
              "    <tr>\n",
              "      <th>4</th>\n",
              "      <td>2</td>\n",
              "      <td>Accident on McEwen Rd at OH-725 Miamisburg Centerville Rd. Expect delays.</td>\n",
              "    </tr>\n",
              "  </tbody>\n",
              "</table>\n",
              "</div>"
            ],
            "text/plain": [
              "   Severity                                                                            Description\n",
              "0         3  Right lane blocked due to accident on I-70 Eastbound at Exit 41 OH-235 State Route 4.\n",
              "1         2                                     Accident on Brice Rd at Tussing Rd. Expect delays.\n",
              "2         2            Accident on OH-32 State Route 32 Westbound at Dela Palma Rd. Expect delays.\n",
              "3         3                      Accident on I-75 Southbound at Exits 52 52B US-35. Expect delays.\n",
              "4         2              Accident on McEwen Rd at OH-725 Miamisburg Centerville Rd. Expect delays."
            ]
          },
          "metadata": {
            "tags": []
          },
          "execution_count": 69
        }
      ]
    },
    {
      "cell_type": "markdown",
      "metadata": {
        "id": "pXhGPB48aINJ",
        "colab_type": "text"
      },
      "source": [
        "Looks like pretty formulaic descriptions of the accidents. If they include more information about the conditions for the more severe accidents, this could be vital in predicting the severity."
      ]
    },
    {
      "cell_type": "markdown",
      "metadata": {
        "id": "BP7KNpk9aWol",
        "colab_type": "text"
      },
      "source": [
        "I'm now going to scan through a sample of each severity level and see if there are any trends that are immediately obvious."
      ]
    },
    {
      "cell_type": "code",
      "metadata": {
        "id": "7qJCxpEeajIF",
        "colab_type": "code",
        "colab": {
          "base_uri": "https://localhost:8080/",
          "height": 204
        },
        "outputId": "6f98e313-97bf-40a7-f6c5-4cd1ca12b3e9"
      },
      "source": [
        "data[data['Severity'] == 1][['Severity', 'Description']].head(5)"
      ],
      "execution_count": 70,
      "outputs": [
        {
          "output_type": "execute_result",
          "data": {
            "text/html": [
              "<div>\n",
              "<style scoped>\n",
              "    .dataframe tbody tr th:only-of-type {\n",
              "        vertical-align: middle;\n",
              "    }\n",
              "\n",
              "    .dataframe tbody tr th {\n",
              "        vertical-align: top;\n",
              "    }\n",
              "\n",
              "    .dataframe thead th {\n",
              "        text-align: right;\n",
              "    }\n",
              "</style>\n",
              "<table border=\"1\" class=\"dataframe\">\n",
              "  <thead>\n",
              "    <tr style=\"text-align: right;\">\n",
              "      <th></th>\n",
              "      <th>Severity</th>\n",
              "      <th>Description</th>\n",
              "    </tr>\n",
              "  </thead>\n",
              "  <tbody>\n",
              "    <tr>\n",
              "      <th>163</th>\n",
              "      <td>1</td>\n",
              "      <td>Accident on Westlawn Dr at Holly Dr.</td>\n",
              "    </tr>\n",
              "    <tr>\n",
              "      <th>374</th>\n",
              "      <td>1</td>\n",
              "      <td>Accident on North Ave at Old Byesville Rd.</td>\n",
              "    </tr>\n",
              "    <tr>\n",
              "      <th>960</th>\n",
              "      <td>1</td>\n",
              "      <td>Accident on Banta Rd at Brichetto Rd.</td>\n",
              "    </tr>\n",
              "    <tr>\n",
              "      <th>1390</th>\n",
              "      <td>1</td>\n",
              "      <td>Accident on Union Rd near Access Rd.</td>\n",
              "    </tr>\n",
              "    <tr>\n",
              "      <th>7851</th>\n",
              "      <td>1</td>\n",
              "      <td>Accident on CA-49 Southbound near CA-16.</td>\n",
              "    </tr>\n",
              "  </tbody>\n",
              "</table>\n",
              "</div>"
            ],
            "text/plain": [
              "      Severity                                 Description\n",
              "163          1        Accident on Westlawn Dr at Holly Dr.\n",
              "374          1  Accident on North Ave at Old Byesville Rd.\n",
              "960          1       Accident on Banta Rd at Brichetto Rd.\n",
              "1390         1        Accident on Union Rd near Access Rd.\n",
              "7851         1    Accident on CA-49 Southbound near CA-16."
            ]
          },
          "metadata": {
            "tags": []
          },
          "execution_count": 70
        }
      ]
    },
    {
      "cell_type": "code",
      "metadata": {
        "id": "SH25y_kmawld",
        "colab_type": "code",
        "colab": {
          "base_uri": "https://localhost:8080/",
          "height": 204
        },
        "outputId": "25bc1976-1e68-4c4b-bc5f-edd0550c2829"
      },
      "source": [
        "data[data['Severity'] == 2][['Severity', 'Description']].head(5)"
      ],
      "execution_count": 71,
      "outputs": [
        {
          "output_type": "execute_result",
          "data": {
            "text/html": [
              "<div>\n",
              "<style scoped>\n",
              "    .dataframe tbody tr th:only-of-type {\n",
              "        vertical-align: middle;\n",
              "    }\n",
              "\n",
              "    .dataframe tbody tr th {\n",
              "        vertical-align: top;\n",
              "    }\n",
              "\n",
              "    .dataframe thead th {\n",
              "        text-align: right;\n",
              "    }\n",
              "</style>\n",
              "<table border=\"1\" class=\"dataframe\">\n",
              "  <thead>\n",
              "    <tr style=\"text-align: right;\">\n",
              "      <th></th>\n",
              "      <th>Severity</th>\n",
              "      <th>Description</th>\n",
              "    </tr>\n",
              "  </thead>\n",
              "  <tbody>\n",
              "    <tr>\n",
              "      <th>1</th>\n",
              "      <td>2</td>\n",
              "      <td>Accident on Brice Rd at Tussing Rd. Expect delays.</td>\n",
              "    </tr>\n",
              "    <tr>\n",
              "      <th>2</th>\n",
              "      <td>2</td>\n",
              "      <td>Accident on OH-32 State Route 32 Westbound at Dela Palma Rd. Expect delays.</td>\n",
              "    </tr>\n",
              "    <tr>\n",
              "      <th>4</th>\n",
              "      <td>2</td>\n",
              "      <td>Accident on McEwen Rd at OH-725 Miamisburg Centerville Rd. Expect delays.</td>\n",
              "    </tr>\n",
              "    <tr>\n",
              "      <th>6</th>\n",
              "      <td>2</td>\n",
              "      <td>Accident on Oakridge Dr at Woodward Ave. Expect delays.</td>\n",
              "    </tr>\n",
              "    <tr>\n",
              "      <th>8</th>\n",
              "      <td>2</td>\n",
              "      <td>Accident on Notre Dame Ave at Warner Ave. Expect delays.</td>\n",
              "    </tr>\n",
              "  </tbody>\n",
              "</table>\n",
              "</div>"
            ],
            "text/plain": [
              "   Severity                                                                  Description\n",
              "1         2                           Accident on Brice Rd at Tussing Rd. Expect delays.\n",
              "2         2  Accident on OH-32 State Route 32 Westbound at Dela Palma Rd. Expect delays.\n",
              "4         2    Accident on McEwen Rd at OH-725 Miamisburg Centerville Rd. Expect delays.\n",
              "6         2                      Accident on Oakridge Dr at Woodward Ave. Expect delays.\n",
              "8         2                     Accident on Notre Dame Ave at Warner Ave. Expect delays."
            ]
          },
          "metadata": {
            "tags": []
          },
          "execution_count": 71
        }
      ]
    },
    {
      "cell_type": "code",
      "metadata": {
        "id": "6GiaLYOKaygI",
        "colab_type": "code",
        "colab": {
          "base_uri": "https://localhost:8080/",
          "height": 204
        },
        "outputId": "b523f67c-576e-4bbc-ce04-fb89332e342c"
      },
      "source": [
        "data[data['Severity'] == 3][['Severity', 'Description']].head(5)"
      ],
      "execution_count": 72,
      "outputs": [
        {
          "output_type": "execute_result",
          "data": {
            "text/html": [
              "<div>\n",
              "<style scoped>\n",
              "    .dataframe tbody tr th:only-of-type {\n",
              "        vertical-align: middle;\n",
              "    }\n",
              "\n",
              "    .dataframe tbody tr th {\n",
              "        vertical-align: top;\n",
              "    }\n",
              "\n",
              "    .dataframe thead th {\n",
              "        text-align: right;\n",
              "    }\n",
              "</style>\n",
              "<table border=\"1\" class=\"dataframe\">\n",
              "  <thead>\n",
              "    <tr style=\"text-align: right;\">\n",
              "      <th></th>\n",
              "      <th>Severity</th>\n",
              "      <th>Description</th>\n",
              "    </tr>\n",
              "  </thead>\n",
              "  <tbody>\n",
              "    <tr>\n",
              "      <th>0</th>\n",
              "      <td>3</td>\n",
              "      <td>Right lane blocked due to accident on I-70 Eastbound at Exit 41 OH-235 State Route 4.</td>\n",
              "    </tr>\n",
              "    <tr>\n",
              "      <th>3</th>\n",
              "      <td>3</td>\n",
              "      <td>Accident on I-75 Southbound at Exits 52 52B US-35. Expect delays.</td>\n",
              "    </tr>\n",
              "    <tr>\n",
              "      <th>5</th>\n",
              "      <td>3</td>\n",
              "      <td>Accident on I-270 Outerbelt Northbound near Exit 29 OH-3 State St. Expect delays.</td>\n",
              "    </tr>\n",
              "    <tr>\n",
              "      <th>7</th>\n",
              "      <td>3</td>\n",
              "      <td>Accident on I-75 Southbound at Exit 54B Grand Ave. Expect delays.</td>\n",
              "    </tr>\n",
              "    <tr>\n",
              "      <th>9</th>\n",
              "      <td>3</td>\n",
              "      <td>Right hand shoulder blocked due to accident on I-270 Outerbelt Westbound at Exit 29 OH-3 State St.</td>\n",
              "    </tr>\n",
              "  </tbody>\n",
              "</table>\n",
              "</div>"
            ],
            "text/plain": [
              "   Severity                                                                                         Description\n",
              "0         3               Right lane blocked due to accident on I-70 Eastbound at Exit 41 OH-235 State Route 4.\n",
              "3         3                                   Accident on I-75 Southbound at Exits 52 52B US-35. Expect delays.\n",
              "5         3                   Accident on I-270 Outerbelt Northbound near Exit 29 OH-3 State St. Expect delays.\n",
              "7         3                                   Accident on I-75 Southbound at Exit 54B Grand Ave. Expect delays.\n",
              "9         3  Right hand shoulder blocked due to accident on I-270 Outerbelt Westbound at Exit 29 OH-3 State St."
            ]
          },
          "metadata": {
            "tags": []
          },
          "execution_count": 72
        }
      ]
    },
    {
      "cell_type": "code",
      "metadata": {
        "id": "snazJqDEa0gK",
        "colab_type": "code",
        "colab": {
          "base_uri": "https://localhost:8080/",
          "height": 204
        },
        "outputId": "790848a1-d0cb-4582-d7b4-8ca499b73786"
      },
      "source": [
        "data[data['Severity'] == 4][['Severity', 'Description']].head(5)"
      ],
      "execution_count": 73,
      "outputs": [
        {
          "output_type": "execute_result",
          "data": {
            "text/html": [
              "<div>\n",
              "<style scoped>\n",
              "    .dataframe tbody tr th:only-of-type {\n",
              "        vertical-align: middle;\n",
              "    }\n",
              "\n",
              "    .dataframe tbody tr th {\n",
              "        vertical-align: top;\n",
              "    }\n",
              "\n",
              "    .dataframe thead th {\n",
              "        text-align: right;\n",
              "    }\n",
              "</style>\n",
              "<table border=\"1\" class=\"dataframe\">\n",
              "  <thead>\n",
              "    <tr style=\"text-align: right;\">\n",
              "      <th></th>\n",
              "      <th>Severity</th>\n",
              "      <th>Description</th>\n",
              "    </tr>\n",
              "  </thead>\n",
              "  <tbody>\n",
              "    <tr>\n",
              "      <th>619</th>\n",
              "      <td>4</td>\n",
              "      <td>Entry ramp closed due to accident on OH-104 Frank Rd Northbound at I-71.</td>\n",
              "    </tr>\n",
              "    <tr>\n",
              "      <th>1197</th>\n",
              "      <td>4</td>\n",
              "      <td>Accident on I-280 Southbound at Exits 3A 3B Bird Ave.</td>\n",
              "    </tr>\n",
              "    <tr>\n",
              "      <th>1901</th>\n",
              "      <td>4</td>\n",
              "      <td>Accident on I-280 Southbound before Exits 43A 43B I-380. On the median.</td>\n",
              "    </tr>\n",
              "    <tr>\n",
              "      <th>4143</th>\n",
              "      <td>4</td>\n",
              "      <td>Right lane blocked and queueing traffic due to accident on I-680 Southbound before Exit 1A US-101. On the median.</td>\n",
              "    </tr>\n",
              "    <tr>\n",
              "      <th>4964</th>\n",
              "      <td>4</td>\n",
              "      <td>All lane blocked due to accident on I-880 Southbound at Marina Blvd.</td>\n",
              "    </tr>\n",
              "  </tbody>\n",
              "</table>\n",
              "</div>"
            ],
            "text/plain": [
              "      Severity                                                                                                        Description\n",
              "619          4                                           Entry ramp closed due to accident on OH-104 Frank Rd Northbound at I-71.\n",
              "1197         4                                                              Accident on I-280 Southbound at Exits 3A 3B Bird Ave.\n",
              "1901         4                                            Accident on I-280 Southbound before Exits 43A 43B I-380. On the median.\n",
              "4143         4  Right lane blocked and queueing traffic due to accident on I-680 Southbound before Exit 1A US-101. On the median.\n",
              "4964         4                                               All lane blocked due to accident on I-880 Southbound at Marina Blvd."
            ]
          },
          "metadata": {
            "tags": []
          },
          "execution_count": 73
        }
      ]
    },
    {
      "cell_type": "markdown",
      "metadata": {
        "id": "vdmJkd6ka3jW",
        "colab_type": "text"
      },
      "source": [
        "So there actually looks to be a ton of information here! First, note that the severity 1 accidents don't seem to have descriptions which say to \"expect delays\". As the severity increases, it seems like the roads that they are occuring on are becoming state routes and eventually interstates. Additionally, the severity 4 accidents seem to have closed lanes or be on the median. If the model picks these words up from the td-idf representation, it might have a pretty good chance at determining the severity."
      ]
    },
    {
      "cell_type": "markdown",
      "metadata": {
        "id": "2rbbgtefbmZs",
        "colab_type": "text"
      },
      "source": [
        "## TMC Codes\n",
        "\n",
        "TMC Codes provide another additional description of the accident and might provide additional useful information. They are integers which can be decoded using a code list such as [this one](https://wiki.openstreetmap.org/wiki/TMC/Event_Code_List). I'm going to explore the TMC Codes in the data to determine if I want to one-hot-encode the codes for the model. If there is some sort of correlation with TMC code and the severity numerically, this might not be worth it. On the other hand, if there are few TMC codes which strongly correlate with severity, it definitely might make sense to decode that information."
      ]
    },
    {
      "cell_type": "code",
      "metadata": {
        "id": "fFijvkqWcO0_",
        "colab_type": "code",
        "colab": {
          "base_uri": "https://localhost:8080/",
          "height": 34
        },
        "outputId": "3d31bd08-e53a-4bff-f150-df762e1f2851"
      },
      "source": [
        "# The correlation between severity and the numerical value of the TMC Code\n",
        "\n",
        "data['TMC'].corr(data['Severity'])"
      ],
      "execution_count": 74,
      "outputs": [
        {
          "output_type": "execute_result",
          "data": {
            "text/plain": [
              "0.17773884643289664"
            ]
          },
          "metadata": {
            "tags": []
          },
          "execution_count": 74
        }
      ]
    },
    {
      "cell_type": "markdown",
      "metadata": {
        "id": "3Oq4MvFVc1-x",
        "colab_type": "text"
      },
      "source": [
        "Looks like there's a weak correlation there. I'm going to one hot encode the values and take another look."
      ]
    },
    {
      "cell_type": "code",
      "metadata": {
        "id": "34Ws-PWFdAkq",
        "colab_type": "code",
        "colab": {}
      },
      "source": [
        "TMC_data = pd.concat([data['Severity'], pd.get_dummies(data['TMC'])], axis=1)\n",
        "corr = TMC_data.corr()"
      ],
      "execution_count": 0,
      "outputs": []
    },
    {
      "cell_type": "markdown",
      "metadata": {
        "id": "2tHzMXsmdPxM",
        "colab_type": "text"
      },
      "source": [
        "And plotting it..."
      ]
    },
    {
      "cell_type": "code",
      "metadata": {
        "id": "NLOzGbj_dPFq",
        "colab_type": "code",
        "colab": {
          "base_uri": "https://localhost:8080/",
          "height": 644
        },
        "outputId": "bdf8efd3-4f07-4dc2-d6c4-bc8b6150ca2c"
      },
      "source": [
        "plt.figure(figsize=(10, 10))\n",
        "sns.heatmap(corr, xticklabels=corr.columns, yticklabels=corr.columns)"
      ],
      "execution_count": 76,
      "outputs": [
        {
          "output_type": "execute_result",
          "data": {
            "text/plain": [
              "<matplotlib.axes._subplots.AxesSubplot at 0x7f2a169281d0>"
            ]
          },
          "metadata": {
            "tags": []
          },
          "execution_count": 76
        },
        {
          "output_type": "display_data",
          "data": {
            "image/png": "[encoded data removed]",
            "text/plain": [
              "<Figure size 720x720 with 2 Axes>"
            ]
          },
          "metadata": {
            "tags": [],
            "needs_background": "light"
          }
        }
      ]
    },
    {
      "cell_type": "code",
      "metadata": {
        "id": "8BWnTxaqd7ze",
        "colab_type": "code",
        "colab": {
          "base_uri": "https://localhost:8080/",
          "height": 34
        },
        "outputId": "1ac5ed99-c0ba-428e-ac99-9e9effc0b67d"
      },
      "source": [
        "corr.shape"
      ],
      "execution_count": 77,
      "outputs": [
        {
          "output_type": "execute_result",
          "data": {
            "text/plain": [
              "(22, 22)"
            ]
          },
          "metadata": {
            "tags": []
          },
          "execution_count": 77
        }
      ]
    },
    {
      "cell_type": "markdown",
      "metadata": {
        "id": "zmukaN2sdkKH",
        "colab_type": "text"
      },
      "source": [
        "So not too many correlations here (the row corresponding to Severity has mostly purple values). However, it looks like there are a few values which correlate with the severity, so I'm going to add this one hot encoding to the original dataset. From looking at the shape of the correlation matrix, it looks like there's actually only 21 distinct TMC values. This is definitely worth leaving in, especially if these one hot encodings can be put into a sparse format."
      ]
    },
    {
      "cell_type": "markdown",
      "metadata": {
        "id": "FM93Z5wneuIU",
        "colab_type": "text"
      },
      "source": [
        "# Processing"
      ]
    },
    {
      "cell_type": "code",
      "metadata": {
        "id": "ODPjU4ImevIv",
        "colab_type": "code",
        "colab": {
          "base_uri": "https://localhost:8080/",
          "height": 34
        },
        "outputId": "7806bcca-0474-4b67-f1c3-acf595c66cf1"
      },
      "source": [
        "data.shape"
      ],
      "execution_count": 78,
      "outputs": [
        {
          "output_type": "execute_result",
          "data": {
            "text/plain": [
              "(2974335, 49)"
            ]
          },
          "metadata": {
            "tags": []
          },
          "execution_count": 78
        }
      ]
    },
    {
      "cell_type": "markdown",
      "metadata": {
        "id": "W5HN-nhgizFy",
        "colab_type": "text"
      },
      "source": [
        "We're starting out with a little under 3 million accident records and 49 data points about each. At the end of this section, we'll have narrowed that down to about 2 million accidents and expanded the feature set to ~650 features per accident."
      ]
    },
    {
      "cell_type": "markdown",
      "metadata": {
        "id": "CxCOHz_gjDIq",
        "colab_type": "text"
      },
      "source": [
        "## Removing invalid and irrelevant data\n",
        "\n",
        "First, we're going to remove columns that aren't helpful to the task at hand: predicting severity. For example, we aren't going to be doing any sort of prediction using the location of the accident, so columns involving location can be dropped. Plus, we can get general information about the type of road the accident occurred on from the description (\"...accident on I-95... \"), which will be more helpful for the analysis.\n",
        "\n",
        "As revealed by the EDA, we only have ~900 accidents with label 1. This poses a significant problem to the model as the \"signal\" from the other three labels are orders of magnitude larger than for label one. As a result, this class might be completely ignored in even well tuned models. While there are some approaches to alleviate class imbalances such as over- and under-sampling, the imbalance is so large there that it would be extremely difficult to appropriately represent the \"1\" label in the dataset. Consequently, we are going to remove the label from the dataset and continue analysis."
      ]
    },
    {
      "cell_type": "code",
      "metadata": {
        "id": "zg7uC7hQcc-Q",
        "colab_type": "code",
        "colab": {}
      },
      "source": [
        "processed_data = data[data['Severity'] != 1]"
      ],
      "execution_count": 0,
      "outputs": []
    },
    {
      "cell_type": "code",
      "metadata": {
        "id": "a_qPEK28jHx-",
        "colab_type": "code",
        "colab": {}
      },
      "source": [
        "processed_data = processed_data.drop(['Start_Lat', 'End_Lat', 'Start_Lng', \n",
        "                                      'End_Lng', 'Number', 'Street', 'City', \n",
        "                                      'County', 'State', 'Zipcode', 'Country', \n",
        "                                      'Timezone', 'Airport_Code'], axis=1)"
      ],
      "execution_count": 0,
      "outputs": []
    },
    {
      "cell_type": "markdown",
      "metadata": {
        "id": "iICtd-SBjdJP",
        "colab_type": "text"
      },
      "source": [
        "I'm also going to drop many of the weather columns. In doing so I hope to reduce the number of rows overall that need to be dropped because of null values. I'm going to keep around Weather Condiiton, Visibility, and Temperature as general indicators of the weather at the accident. Finally, many of the day/night fields contain very similar data, so I'm going to keep one column and drop the rest."
      ]
    },
    {
      "cell_type": "code",
      "metadata": {
        "id": "GtQ2_4ONjkK0",
        "colab_type": "code",
        "colab": {}
      },
      "source": [
        "processed_data = processed_data.drop(['Weather_Timestamp', 'Wind_Chill(F)', \n",
        "                                      'Humidity(%)', 'Pressure(in)', \n",
        "                                      'Wind_Direction', 'Wind_Speed(mph)',\n",
        "                                      'Precipitation(in)', 'Civil_Twilight',\n",
        "                                      'Nautical_Twilight',\n",
        "                                      'Astronomical_Twilight'], axis=1)"
      ],
      "execution_count": 0,
      "outputs": []
    },
    {
      "cell_type": "markdown",
      "metadata": {
        "id": "4H_lPpn6jt1B",
        "colab_type": "text"
      },
      "source": [
        "Additionally, the ID column is not useful to us since pandas maintains its own separate id system."
      ]
    },
    {
      "cell_type": "code",
      "metadata": {
        "id": "QSPcFJz2jv72",
        "colab_type": "code",
        "colab": {}
      },
      "source": [
        "processed_data = processed_data.drop(['ID'], axis=1)"
      ],
      "execution_count": 0,
      "outputs": []
    },
    {
      "cell_type": "markdown",
      "metadata": {
        "id": "Zw1WzwqhkDPT",
        "colab_type": "text"
      },
      "source": [
        "Now taking a look at the nulls per column..."
      ]
    },
    {
      "cell_type": "code",
      "metadata": {
        "id": "uuayancmkGYd",
        "colab_type": "code",
        "colab": {
          "base_uri": "https://localhost:8080/",
          "height": 459
        },
        "outputId": "6b835df0-0537-403b-c9d9-3d537d6a1d12"
      },
      "source": [
        "processed_data.isnull().sum(axis=0)"
      ],
      "execution_count": 83,
      "outputs": [
        {
          "output_type": "execute_result",
          "data": {
            "text/plain": [
              "Source                    0\n",
              "TMC                  728071\n",
              "Severity                  0\n",
              "Start_Time                0\n",
              "End_Time                  0\n",
              "Distance(mi)              0\n",
              "Description               1\n",
              "Side                      0\n",
              "Temperature(F)        56047\n",
              "Visibility(mi)        65670\n",
              "Weather_Condition     65911\n",
              "Amenity                   0\n",
              "Bump                      0\n",
              "Crossing                  0\n",
              "Give_Way                  0\n",
              "Junction                  0\n",
              "No_Exit                   0\n",
              "Railway                   0\n",
              "Roundabout                0\n",
              "Station                   0\n",
              "Stop                      0\n",
              "Traffic_Calming           0\n",
              "Traffic_Signal            0\n",
              "Turning_Loop              0\n",
              "Sunrise_Sunset           93\n",
              "dtype: int64"
            ]
          },
          "metadata": {
            "tags": []
          },
          "execution_count": 83
        }
      ]
    },
    {
      "cell_type": "markdown",
      "metadata": {
        "id": "4kGRtxCIkHbn",
        "colab_type": "text"
      },
      "source": [
        "Although TMC has over 700k null values, it is a necessary part of our analysis. This was definitely a tough decision to make, but I'm going to drop rows which do not include it."
      ]
    },
    {
      "cell_type": "code",
      "metadata": {
        "id": "9ctCfq2NkcnQ",
        "colab_type": "code",
        "colab": {}
      },
      "source": [
        "# Dropping all rows will null values\n",
        "\n",
        "processed_data = processed_data.dropna()"
      ],
      "execution_count": 0,
      "outputs": []
    },
    {
      "cell_type": "markdown",
      "metadata": {
        "id": "GEf9ik-OlqW2",
        "colab_type": "text"
      },
      "source": [
        "## General data processing\n",
        "\n",
        "In this section, I'm going to tackle:\n",
        "- converting accident start and end times to an accident duration\n",
        "- one hot encoding categorical data\n",
        "- converting all bools to ints for scipy matrices"
      ]
    },
    {
      "cell_type": "code",
      "metadata": {
        "id": "3cSbMSzsl5Qc",
        "colab_type": "code",
        "colab": {}
      },
      "source": [
        "# Processing Start Time and End Time\n",
        "\n",
        "df = pd.DataFrame()\n",
        "\n",
        "df['Start_Time'] = pd.to_datetime(processed_data['Start_Time'])\n",
        "df['End_Time'] = pd.to_datetime(processed_data['End_Time'])\n",
        "\n",
        "df['Duration(s)'] = df['Start_Time'] - df['End_Time']\n",
        "processed_data['Duration(s)'] = df['Duration(s)'].dt.seconds\n",
        "processed_data = processed_data.drop(['Start_Time', 'End_Time'], axis=1)"
      ],
      "execution_count": 0,
      "outputs": []
    },
    {
      "cell_type": "code",
      "metadata": {
        "id": "lv-Ie11dmE8y",
        "colab_type": "code",
        "colab": {
          "base_uri": "https://localhost:8080/",
          "height": 221
        },
        "outputId": "763d8b51-7031-4a9b-dbdd-956df65d760e"
      },
      "source": [
        "processed_data['Duration(s)']"
      ],
      "execution_count": 86,
      "outputs": [
        {
          "output_type": "execute_result",
          "data": {
            "text/plain": [
              "0          67560\n",
              "1          84600\n",
              "2          84600\n",
              "3          84600\n",
              "4          84600\n",
              "           ...  \n",
              "2246259    84623\n",
              "2246260    84665\n",
              "2246261    84701\n",
              "2246262    84661\n",
              "2246263    84600\n",
              "Name: Duration(s), Length: 2187739, dtype: int64"
            ]
          },
          "metadata": {
            "tags": []
          },
          "execution_count": 86
        }
      ]
    },
    {
      "cell_type": "code",
      "metadata": {
        "id": "CZ-irQYOmyIm",
        "colab_type": "code",
        "colab": {}
      },
      "source": [
        "# One hot encoding categorical data\n",
        "\n",
        "processed_data = \\\n",
        "  pd.concat([processed_data.drop(['Source'], axis=1), \n",
        "             pd.get_dummies(processed_data['Source'], \n",
        "             sparse=True)], axis=1)\n",
        "\n",
        "processed_data = \\\n",
        "  pd.concat([processed_data.drop(['Side'], axis=1), \n",
        "             pd.get_dummies(processed_data['Side'],\n",
        "             sparse=True)], axis=1)\n",
        "\n",
        "processed_data = \\\n",
        "  pd.concat([processed_data.drop(['Weather_Condition'], axis=1),\n",
        "             pd.get_dummies(processed_data['Weather_Condition'], \n",
        "             sparse=True)], axis=1)\n",
        "  \n",
        "processed_data = \\\n",
        "  pd.concat([processed_data.drop(['Sunrise_Sunset'], axis=1),\n",
        "             pd.get_dummies(processed_data['Sunrise_Sunset'], \n",
        "             sparse=True)], axis=1);\n",
        "\n",
        "processed_data = \\\n",
        "  pd.concat([processed_data.drop(['TMC'], axis=1),\n",
        "             pd.get_dummies(processed_data['TMC'], \n",
        "             sparse=True)], axis=1);"
      ],
      "execution_count": 0,
      "outputs": []
    },
    {
      "cell_type": "code",
      "metadata": {
        "id": "D-2jBrvorzdf",
        "colab_type": "code",
        "colab": {}
      },
      "source": [
        "# Boolean features to ints\n",
        "\n",
        "processed_data[\"Amenity\"] = processed_data[\"Amenity\"].astype(int)\n",
        "processed_data[\"Bump\"] = processed_data[\"Bump\"].astype(int)\n",
        "processed_data[\"Crossing\"] = processed_data[\"Crossing\"].astype(int)\n",
        "processed_data[\"Give_Way\"] = processed_data[\"Give_Way\"].astype(int)\n",
        "processed_data[\"Junction\"] = processed_data[\"Junction\"].astype(int)\n",
        "processed_data[\"No_Exit\"] = processed_data[\"No_Exit\"].astype(int)\n",
        "processed_data[\"Railway\"] = processed_data[\"Railway\"].astype(int)\n",
        "processed_data[\"Roundabout\"] = processed_data[\"Roundabout\"].astype(int)\n",
        "processed_data[\"Station\"] = processed_data[\"Station\"].astype(int)\n",
        "processed_data[\"Stop\"] = processed_data[\"Stop\"].astype(int)\n",
        "processed_data[\"Traffic_Calming\"] = processed_data[\"Traffic_Calming\"].astype(int)\n",
        "processed_data[\"Traffic_Signal\"] = processed_data[\"Traffic_Signal\"].astype(int)\n",
        "processed_data[\"Turning_Loop\"] = processed_data[\"Turning_Loop\"].astype(int)"
      ],
      "execution_count": 0,
      "outputs": []
    },
    {
      "cell_type": "markdown",
      "metadata": {
        "id": "34kkRI_bsA5c",
        "colab_type": "text"
      },
      "source": [
        "## Description and TF-IDF"
      ]
    },
    {
      "cell_type": "markdown",
      "metadata": {
        "id": "_hY7_JmDn9Xu",
        "colab_type": "text"
      },
      "source": [
        "In this section, I'm going to be calculating TF-IDF scores for each document. TF-IDF is a way to assign weights to words in a record which correspond to their \"uniqueness\". TF-IDF looks at Term Frequency and Inverse Document Frequency - the higher the TF-IDF score is, the more important that word is to that document. More about TF-IDF can be read about [here](https://en.wikipedia.org/wiki/Tf%E2%80%93idf).\n",
        "\n",
        "In order to prepare the description field for TF-IDF, I'm going to be processing it further. I'm going to remove convert all text to lowercase, remove stop words, stem the words, and remove all punctuation. I'll explain as I go along."
      ]
    },
    {
      "cell_type": "code",
      "metadata": {
        "id": "cfxNYGxctbNw",
        "colab_type": "code",
        "colab": {
          "base_uri": "https://localhost:8080/",
          "height": 119
        },
        "outputId": "f7bac221-217c-45bd-fd40-5a3f941681f4"
      },
      "source": [
        "processed_data['Description'].head()"
      ],
      "execution_count": 89,
      "outputs": [
        {
          "output_type": "execute_result",
          "data": {
            "text/plain": [
              "0    Right lane blocked due to accident on I-70 Eastbound at Exit 41 OH-235 State Route 4.\n",
              "1                                       Accident on Brice Rd at Tussing Rd. Expect delays.\n",
              "2              Accident on OH-32 State Route 32 Westbound at Dela Palma Rd. Expect delays.\n",
              "3                        Accident on I-75 Southbound at Exits 52 52B US-35. Expect delays.\n",
              "4                Accident on McEwen Rd at OH-725 Miamisburg Centerville Rd. Expect delays.\n",
              "Name: Description, dtype: object"
            ]
          },
          "metadata": {
            "tags": []
          },
          "execution_count": 89
        }
      ]
    },
    {
      "cell_type": "code",
      "metadata": {
        "id": "zxqb3c_ksDis",
        "colab_type": "code",
        "colab": {}
      },
      "source": [
        "# Convert to lowercase\n",
        "\n",
        "processed_data['Description'] = (processed_data['Description']\n",
        "                                   .apply(lambda x: x.lower())) "
      ],
      "execution_count": 0,
      "outputs": []
    },
    {
      "cell_type": "code",
      "metadata": {
        "id": "gNzwwszXpOxL",
        "colab_type": "code",
        "colab": {
          "base_uri": "https://localhost:8080/",
          "height": 119
        },
        "outputId": "c2e3fac1-625f-437f-97b3-e36c709562c1"
      },
      "source": [
        "processed_data['Description'].head()"
      ],
      "execution_count": 91,
      "outputs": [
        {
          "output_type": "execute_result",
          "data": {
            "text/plain": [
              "0    right lane blocked due to accident on i-70 eastbound at exit 41 oh-235 state route 4.\n",
              "1                                       accident on brice rd at tussing rd. expect delays.\n",
              "2              accident on oh-32 state route 32 westbound at dela palma rd. expect delays.\n",
              "3                        accident on i-75 southbound at exits 52 52b us-35. expect delays.\n",
              "4                accident on mcewen rd at oh-725 miamisburg centerville rd. expect delays.\n",
              "Name: Description, dtype: object"
            ]
          },
          "metadata": {
            "tags": []
          },
          "execution_count": 91
        }
      ]
    },
    {
      "cell_type": "code",
      "metadata": {
        "id": "n0bxaswRpVTD",
        "colab_type": "code",
        "colab": {
          "base_uri": "https://localhost:8080/",
          "height": 119
        },
        "outputId": "a6051086-ce4a-44bf-c45d-75f9dc1e9c80"
      },
      "source": [
        "# Remove punctuation\n",
        "\n",
        "def remove_punctuation(string):\n",
        "  # Dashes in Interstate names were causing them to be removed, so I'm replacing\n",
        "  # them with spaces.\n",
        "  string = string.replace('-', ' ')\n",
        "  words = nltk.word_tokenize(string)\n",
        "  new_words = [word for word in words if word.isalnum()]\n",
        "  return \" \".join(new_words)\n",
        "\n",
        "processed_data['Description'] = (processed_data['Description']\n",
        "                                   .apply(lambda x: remove_punctuation(x)))\n",
        "\n",
        "processed_data['Description'].head()"
      ],
      "execution_count": 92,
      "outputs": [
        {
          "output_type": "execute_result",
          "data": {
            "text/plain": [
              "0    right lane blocked due to accident on i 70 eastbound at exit 41 oh 235 state route 4\n",
              "1                                        accident on brice rd at tussing rd expect delays\n",
              "2               accident on oh 32 state route 32 westbound at dela palma rd expect delays\n",
              "3                            accident on i 75 southbound at exits 52 52b us expect delays\n",
              "4                 accident on mcewen rd at oh 725 miamisburg centerville rd expect delays\n",
              "Name: Description, dtype: object"
            ]
          },
          "metadata": {
            "tags": []
          },
          "execution_count": 92
        }
      ]
    },
    {
      "cell_type": "markdown",
      "metadata": {
        "id": "grjn8fxZpobT",
        "colab_type": "text"
      },
      "source": [
        "Stop words are commonly used words in a language. It is helpful for us to remove them here to reduce the amount of clutter in the TF-IDF representation. Without removing all stop words in the sentences, it is likely that the total number of features would be much higher (by virtue of having a greater number of distinct words). Without performing analysis on the structure of the sentences, stop words are likely to be useless to the model. Thus, we will remove them."
      ]
    },
    {
      "cell_type": "code",
      "metadata": {
        "id": "CGBgHyi8pk5a",
        "colab_type": "code",
        "colab": {
          "base_uri": "https://localhost:8080/",
          "height": 153
        },
        "outputId": "bc4e32da-fec4-4ae4-8832-2d929283e115"
      },
      "source": [
        "# Take out stop words\n",
        "\n",
        "nltk.download('stopwords')\n",
        "from nltk.corpus import stopwords\n",
        "stop = set(stopwords.words('english'))\n",
        "\n",
        "def remove_stop_words(string):\n",
        "  # We want to maintain interstate information, so I'm keeping the I\n",
        "  words = nltk.word_tokenize(string)\n",
        "  new_words = [word for word in words if (word not in stop or word is \"i\") ]\n",
        "  return \" \".join(new_words)\n",
        "\n",
        "processed_data['Description'] = (processed_data['Description']\n",
        "                                   .apply(lambda x: remove_stop_words(x)))\n",
        "\n",
        "processed_data['Description'].head()"
      ],
      "execution_count": 93,
      "outputs": [
        {
          "output_type": "stream",
          "text": [
            "[nltk_data] Downloading package stopwords to /root/nltk_data...\n",
            "[nltk_data]   Package stopwords is already up-to-date!\n"
          ],
          "name": "stdout"
        },
        {
          "output_type": "execute_result",
          "data": {
            "text/plain": [
              "0    right lane blocked due accident i 70 eastbound exit 41 oh 235 state route 4\n",
              "1                                     accident brice rd tussing rd expect delays\n",
              "2            accident oh 32 state route 32 westbound dela palma rd expect delays\n",
              "3                         accident i 75 southbound exits 52 52b us expect delays\n",
              "4              accident mcewen rd oh 725 miamisburg centerville rd expect delays\n",
              "Name: Description, dtype: object"
            ]
          },
          "metadata": {
            "tags": []
          },
          "execution_count": 93
        }
      ]
    },
    {
      "cell_type": "markdown",
      "metadata": {
        "id": "OZ2w5Ts2qSTL",
        "colab_type": "text"
      },
      "source": [
        "To stem words means to remove the conjugation of tokens in your dataset. For example, to stem the word \"running\" means to convert it to \"run\". This is useful again because it reduces the number of total features in the TF-IDF representation while simplifying the sentences in the dataset. Stemming verbs allows the ML model to understand that \"blocking\" and \"blocked\" (stemmed to block) are likely to mean the same thing in two different descriptions."
      ]
    },
    {
      "cell_type": "code",
      "metadata": {
        "id": "J3wE-bJqqPlo",
        "colab_type": "code",
        "colab": {
          "base_uri": "https://localhost:8080/",
          "height": 119
        },
        "outputId": "ffbd4603-169c-4091-abd6-2435e7447593"
      },
      "source": [
        "# Stemming verbs\n",
        "\n",
        "from nltk.stem.snowball import SnowballStemmer\n",
        "stemmer = SnowballStemmer(\"english\")\n",
        "\n",
        "def stem(string):\n",
        "  words = nltk.word_tokenize(string)\n",
        "  new_words = [stemmer.stem(word) for word in words]\n",
        "  return \" \".join(new_words)\n",
        "\n",
        "processed_data['Description'] = (processed_data['Description']\n",
        "                                   .apply(lambda x: stem(x)))\n",
        "\n",
        "processed_data['Description'].head()"
      ],
      "execution_count": 94,
      "outputs": [
        {
          "output_type": "execute_result",
          "data": {
            "text/plain": [
              "0    right lane block due accid i 70 eastbound exit 41 oh 235 state rout 4\n",
              "1                                      accid brice rd tuss rd expect delay\n",
              "2           accid oh 32 state rout 32 westbound dela palma rd expect delay\n",
              "3                        accid i 75 southbound exit 52 52b us expect delay\n",
              "4             accid mcewen rd oh 725 miamisburg centervill rd expect delay\n",
              "Name: Description, dtype: object"
            ]
          },
          "metadata": {
            "tags": []
          },
          "execution_count": 94
        }
      ]
    },
    {
      "cell_type": "markdown",
      "metadata": {
        "id": "80iRdo8DrtA9",
        "colab_type": "text"
      },
      "source": [
        "Now, on to calculating TF-IDF. I'm going to compute TF-IDF and vary the hyperparameters to result in a vocabulary that is appropriately sized. The hyperparameters to consider here are:\n",
        "- min_df: the number (if an int is passed in) or percentage of documents a term must appear in to be placed in the vocabulary\n",
        "- max_df: the number (if an int is passed in) or percentage of documents a term must not appear in to be placed in the vocabulary\n",
        "  - This is to take out terms like \"the\", which might be so common that they do not give us any information on the document\n",
        "- ngram_range: the range of words that are allowed in one term in the vocab\n",
        "  - For example, \"the quick\" with an ngram_range of (1, 2) would return \"the\", \"quick\", \"the quick\"\n"
      ]
    },
    {
      "cell_type": "code",
      "metadata": {
        "id": "eiSMnMs9r1Qs",
        "colab_type": "code",
        "colab": {}
      },
      "source": [
        "from sklearn.feature_extraction.text import TfidfVectorizer\n",
        "\n",
        "tvec = TfidfVectorizer(min_df=.0025, max_df=.1, ngram_range=(1, 2))\n",
        "tvec.fit(processed_data['Description'])\n",
        "tvec_weights = tvec.transform(processed_data['Description'])"
      ],
      "execution_count": 0,
      "outputs": []
    },
    {
      "cell_type": "markdown",
      "metadata": {
        "id": "g1VG9EEqtpqO",
        "colab_type": "text"
      },
      "source": [
        "And just to visualize the most important terms in the first document:"
      ]
    },
    {
      "cell_type": "code",
      "metadata": {
        "id": "yVmHiXzbts6u",
        "colab_type": "code",
        "colab": {
          "base_uri": "https://localhost:8080/",
          "height": 204
        },
        "outputId": "8f1df07f-abb7-4f1a-97bb-721c835c246c"
      },
      "source": [
        "def top_tfidf_feats(row, features, top_n=25):\n",
        "    ''' Get top n tfidf values in row and return them with their corresponding feature names.'''\n",
        "    topn_ids = np.argsort(row)[::-1][:top_n]\n",
        "    top_feats = [(features[i], row[i]) for i in topn_ids]\n",
        "    df = pd.DataFrame(top_feats)\n",
        "    df.columns = ['feature', 'tfidf']\n",
        "    return df\n",
        "\n",
        "def top_feats_in_doc(Xtr, features, row_id, top_n=25):\n",
        "  ''' Top tfidf features in specific document (matrix row) '''\n",
        "  row = np.squeeze(Xtr[row_id].toarray())\n",
        "  return top_tfidf_feats(row, features, top_n)\n",
        "\n",
        "features = tvec.get_feature_names()\n",
        "\n",
        "top_feats_in_doc(tvec_weights, features, 0, top_n=5)"
      ],
      "execution_count": 96,
      "outputs": [
        {
          "output_type": "execute_result",
          "data": {
            "text/html": [
              "<div>\n",
              "<style scoped>\n",
              "    .dataframe tbody tr th:only-of-type {\n",
              "        vertical-align: middle;\n",
              "    }\n",
              "\n",
              "    .dataframe tbody tr th {\n",
              "        vertical-align: top;\n",
              "    }\n",
              "\n",
              "    .dataframe thead th {\n",
              "        text-align: right;\n",
              "    }\n",
              "</style>\n",
              "<table border=\"1\" class=\"dataframe\">\n",
              "  <thead>\n",
              "    <tr style=\"text-align: right;\">\n",
              "      <th></th>\n",
              "      <th>feature</th>\n",
              "      <th>tfidf</th>\n",
              "    </tr>\n",
              "  </thead>\n",
              "  <tbody>\n",
              "    <tr>\n",
              "      <th>0</th>\n",
              "      <td>70 eastbound</td>\n",
              "      <td>0.439299</td>\n",
              "    </tr>\n",
              "    <tr>\n",
              "      <th>1</th>\n",
              "      <td>accid 70</td>\n",
              "      <td>0.402940</td>\n",
              "    </tr>\n",
              "    <tr>\n",
              "      <th>2</th>\n",
              "      <td>oh</td>\n",
              "      <td>0.394324</td>\n",
              "    </tr>\n",
              "    <tr>\n",
              "      <th>3</th>\n",
              "      <td>41</td>\n",
              "      <td>0.358399</td>\n",
              "    </tr>\n",
              "    <tr>\n",
              "      <th>4</th>\n",
              "      <td>state</td>\n",
              "      <td>0.353221</td>\n",
              "    </tr>\n",
              "  </tbody>\n",
              "</table>\n",
              "</div>"
            ],
            "text/plain": [
              "        feature     tfidf\n",
              "0  70 eastbound  0.439299\n",
              "1      accid 70  0.402940\n",
              "2            oh  0.394324\n",
              "3            41  0.358399\n",
              "4         state  0.353221"
            ]
          },
          "metadata": {
            "tags": []
          },
          "execution_count": 96
        }
      ]
    },
    {
      "cell_type": "markdown",
      "metadata": {
        "id": "czHu42Pqw9m5",
        "colab_type": "text"
      },
      "source": [
        "Finally, dropping the description column..."
      ]
    },
    {
      "cell_type": "code",
      "metadata": {
        "id": "GQImHVc8xAjY",
        "colab_type": "code",
        "colab": {}
      },
      "source": [
        "processed_data = processed_data.drop(['Description'], axis=1)"
      ],
      "execution_count": 0,
      "outputs": []
    },
    {
      "cell_type": "code",
      "metadata": {
        "id": "eogdiUN-v5BA",
        "colab_type": "code",
        "colab": {
          "base_uri": "https://localhost:8080/",
          "height": 34
        },
        "outputId": "163dd1f6-6861-4ecb-c0fe-f0b4f8e0557a"
      },
      "source": [
        "tvec_weights.shape"
      ],
      "execution_count": 98,
      "outputs": [
        {
          "output_type": "execute_result",
          "data": {
            "text/plain": [
              "(2187739, 513)"
            ]
          },
          "metadata": {
            "tags": []
          },
          "execution_count": 98
        }
      ]
    },
    {
      "cell_type": "code",
      "metadata": {
        "id": "rjMXDlPQwYhg",
        "colab_type": "code",
        "colab": {
          "base_uri": "https://localhost:8080/",
          "height": 34
        },
        "outputId": "20409771-c396-44ca-b1bf-0e5c455b32b9"
      },
      "source": [
        "processed_data.shape"
      ],
      "execution_count": 99,
      "outputs": [
        {
          "output_type": "execute_result",
          "data": {
            "text/plain": [
              "(2187739, 162)"
            ]
          },
          "metadata": {
            "tags": []
          },
          "execution_count": 99
        }
      ]
    },
    {
      "cell_type": "markdown",
      "metadata": {
        "id": "8LrJ5dJNwVr4",
        "colab_type": "text"
      },
      "source": [
        "I will construct the final processed data so that the original features are to the left of the TF-IDF scores. After converting to a scipy sparse matrix, I'm going to lose the labels on the array, so moving forward I need to note to get the labels on the original data I can consult processed_data for rows 0 through 163, and features (the tvec_weights feature names) for anything higher than that."
      ]
    },
    {
      "cell_type": "markdown",
      "metadata": {
        "id": "-1kFUkzZv5de",
        "colab_type": "text"
      },
      "source": [
        "Now, combining the TF-IDF horizontally with the original dataframe. The original dataframe will be to the left. Note that I am going to be using a scipy sparse matrix moving forward instead of a pandas DataFrame since it allows me to compress the data significantly and improve computation times.\n",
        "\n",
        "Additionally, I'm going to remove the labels and put them in a separate DataFrame y. This separation of data and label is for the next section, modeling."
      ]
    },
    {
      "cell_type": "code",
      "metadata": {
        "id": "cl7LgmEbxk8S",
        "colab_type": "code",
        "colab": {}
      },
      "source": [
        "y = processed_data['Severity']"
      ],
      "execution_count": 0,
      "outputs": []
    },
    {
      "cell_type": "code",
      "metadata": {
        "id": "8DdpiNF8yKHo",
        "colab_type": "code",
        "colab": {}
      },
      "source": [
        "X = scipy.sparse.hstack(\n",
        "    [scipy.sparse.csr_matrix(\n",
        "      processed_data.drop(['Severity'], axis=1)\n",
        "      .values.astype(np.float))\n",
        "    , tvec_weights])"
      ],
      "execution_count": 0,
      "outputs": []
    },
    {
      "cell_type": "markdown",
      "metadata": {
        "id": "hIKukO8IzAg9",
        "colab_type": "text"
      },
      "source": [
        "# Modeling\n",
        "\n",
        "For the purposes of modeling, since there are many more accidents with label 2 than the other labels, we will look out for false negatives on the 3 and 4 labels. \n",
        "\n",
        "It is better for accidents to be labeled as having a higher traffic severity impact than a lower one - considering users looking at traffic data and deciding when to leave. It is better for them to leave earlier than they need to and arrive early than for them to leave when they think they need to and end up late. Thus, it is better for the model to err on the side of having a higher traffic prediction."
      ]
    },
    {
      "cell_type": "markdown",
      "metadata": {
        "id": "fwZEDbikzQBk",
        "colab_type": "text"
      },
      "source": [
        "## Normalization and Train-Test Split"
      ]
    },
    {
      "cell_type": "markdown",
      "metadata": {
        "id": "3dw_KXC0zSKl",
        "colab_type": "text"
      },
      "source": [
        "In this section, I'm going to scale the data and split it for modeling using a decision tree, random forest, and logistic regression."
      ]
    },
    {
      "cell_type": "code",
      "metadata": {
        "id": "lzB_US1GzBN_",
        "colab_type": "code",
        "colab": {}
      },
      "source": [
        "from sklearn.preprocessing import StandardScaler\n",
        "from sklearn.model_selection import train_test_split\n",
        "\n",
        "# Standardizing the features based on unit variance\n",
        "X = StandardScaler(with_mean=False).fit_transform(X)\n",
        "\n",
        "# Splitting into training and testing sets\n",
        "X_train, X_test, y_train, y_test = train_test_split(\\\n",
        "  X, y, test_size=0.20, random_state=42)"
      ],
      "execution_count": 0,
      "outputs": []
    },
    {
      "cell_type": "markdown",
      "metadata": {
        "id": "EuxJHKdn8gv9",
        "colab_type": "text"
      },
      "source": [
        "## Decision Tree Classifier"
      ]
    },
    {
      "cell_type": "markdown",
      "metadata": {
        "id": "zrv92zt75p13",
        "colab_type": "text"
      },
      "source": [
        "First, I am going to implement a simple decision tree as a baseline for modeling. Sklearn's default decision tree has no max depth and splits on entropy, so it is likely that this tree will overfit to the training dataset."
      ]
    },
    {
      "cell_type": "code",
      "metadata": {
        "id": "Dc-RzfRs8839",
        "colab_type": "code",
        "colab": {}
      },
      "source": [
        "# Fitting the model on the training set\n",
        "\n",
        "dt = tree.DecisionTreeClassifier(criterion=\"entropy\")\n",
        "dt = dt.fit(X_train,y_train)\n",
        "\n",
        "# Making a prediction on the test set\n",
        "\n",
        "prediction = dt.predict(X_test)"
      ],
      "execution_count": 0,
      "outputs": []
    },
    {
      "cell_type": "code",
      "metadata": {
        "id": "ObYIqKxF8_e0",
        "colab_type": "code",
        "colab": {
          "base_uri": "https://localhost:8080/",
          "height": 34
        },
        "outputId": "8980e09e-7d1d-4c68-ec09-ba666b8e70b6"
      },
      "source": [
        "accuracy = sklearn.metrics.accuracy_score(y_true = y_test, y_pred = prediction)\n",
        "print(\"Accuracy: %.1f%%\"% (accuracy*100))"
      ],
      "execution_count": 104,
      "outputs": [
        {
          "output_type": "stream",
          "text": [
            "Accuracy: 92.6%\n"
          ],
          "name": "stdout"
        }
      ]
    },
    {
      "cell_type": "markdown",
      "metadata": {
        "id": "EPZSX38356Tc",
        "colab_type": "text"
      },
      "source": [
        "This is a time where it is important to remember that our dataset has a class imbalance. The 92.6% accuracy measurement alone is not sufficient to determine model success, as the model can simply label the entire dataset as the majority class and get away with a naive-but-correct classficiation. Thus, we will further examine model metrics to get a better sense of the success of this algorithm."
      ]
    },
    {
      "cell_type": "markdown",
      "metadata": {
        "id": "Dv19gfak7b1f",
        "colab_type": "text"
      },
      "source": [
        "Sklearn provides a few other model evaluation metrics - one that is pertinent here is balanced_accuracy, which is an average of the recall over the different classes. It is designed to be a stronger metric for class-imbalanced datasets than the standard accuracy measure."
      ]
    },
    {
      "cell_type": "code",
      "metadata": {
        "id": "7DUvMuUYDtHI",
        "colab_type": "code",
        "colab": {
          "base_uri": "https://localhost:8080/",
          "height": 34
        },
        "outputId": "f0957163-71a7-418d-8a34-548c7dc63fc4"
      },
      "source": [
        "accuracy = sklearn.metrics.balanced_accuracy_score(y_true = y_test, \n",
        "                                                   y_pred = prediction)\n",
        "print(\"Balanced Accuracy: %.1f%%\"% (accuracy*100))"
      ],
      "execution_count": 105,
      "outputs": [
        {
          "output_type": "stream",
          "text": [
            "Balanced Accuracy: 69.8%\n"
          ],
          "name": "stdout"
        }
      ]
    },
    {
      "cell_type": "markdown",
      "metadata": {
        "id": "Hxsucg6e7uny",
        "colab_type": "text"
      },
      "source": [
        "As you can see, the balanced accuracy is a bit less impressive. This is a baseline that we will be trying to improve on. Let's dive in a little deeper to the class specifics here."
      ]
    },
    {
      "cell_type": "code",
      "metadata": {
        "id": "ivWmKQN7D8v9",
        "colab_type": "code",
        "colab": {
          "base_uri": "https://localhost:8080/",
          "height": 187
        },
        "outputId": "28284a0d-32be-4552-ba2e-d58c24e46655"
      },
      "source": [
        "classification_report = sklearn.metrics.classification_report(y_true = y_test, \n",
        "                                                              y_pred = prediction)\n",
        "print(classification_report)"
      ],
      "execution_count": 106,
      "outputs": [
        {
          "output_type": "stream",
          "text": [
            "              precision    recall  f1-score   support\n",
            "\n",
            "           2       0.95      0.94      0.95    287185\n",
            "           3       0.89      0.90      0.89    149388\n",
            "           4       0.32      0.26      0.28       975\n",
            "\n",
            "    accuracy                           0.93    437548\n",
            "   macro avg       0.72      0.70      0.71    437548\n",
            "weighted avg       0.93      0.93      0.93    437548\n",
            "\n"
          ],
          "name": "stdout"
        }
      ]
    },
    {
      "cell_type": "markdown",
      "metadata": {
        "id": "ZHLbZ-CR78U-",
        "colab_type": "text"
      },
      "source": [
        "As you can see, the recall for class 4 is significantly lower than the other two classes, which is probably a result of the class imbalance being biased toward classes 2 and 3. To tie these metrics back to the orignial purpose of the analysis, this model would under-classify 0.84 of the most traffic-severe class of accidents. This performance would be unacceptable if the model were used as part of a system to provide conservative travel estimates as the few accidents which have tremendous traffic impact are being missed.\n",
        "\n",
        "Thus, this will be the baseline recall for class 4 that we will look to increase."
      ]
    },
    {
      "cell_type": "code",
      "metadata": {
        "id": "TByFyxiA9A4M",
        "colab_type": "code",
        "colab": {
          "base_uri": "https://localhost:8080/",
          "height": 575
        },
        "outputId": "80d7879a-1c41-4d16-8523-8b75b4772e9e"
      },
      "source": [
        "plt.figure(figsize=(10, 10))\n",
        "sklearn.tree.plot_tree(dt, max_depth=2, fontsize=12)\n",
        "plt.show()"
      ],
      "execution_count": 108,
      "outputs": [
        {
          "output_type": "display_data",
          "data": {
            "image/png": "[encoded data removed]",
            "text/plain": [
              "<Figure size 720x720 with 1 Axes>"
            ]
          },
          "metadata": {
            "tags": [],
            "needs_background": "light"
          }
        }
      ]
    },
    {
      "cell_type": "markdown",
      "metadata": {
        "id": "lesHELlY9J0s",
        "colab_type": "text"
      },
      "source": [
        "It looks like there is significant entropy associated with splitting feature 20, which indicates that it is important in deciding the class label of the accident. This diagram shows the top of the decision tree, and the features that were split on for each node."
      ]
    },
    {
      "cell_type": "markdown",
      "metadata": {
        "id": "egJeltMhDQuS",
        "colab_type": "text"
      },
      "source": [
        "## Logistic Regression"
      ]
    },
    {
      "cell_type": "markdown",
      "metadata": {
        "id": "gaTDbGS-91cF",
        "colab_type": "text"
      },
      "source": [
        "Next, I'm going to implement a logistic regression. Here, I added the class_weight='balanced' parameter. This parameter is one way to account for imbalanced classes in datasets. Essentially, it assigns greater weights to the records from under-represented classes to make the minority classes have the same total weight as the larger classes. This should significantly improve our balanced accuracy metric."
      ]
    },
    {
      "cell_type": "code",
      "metadata": {
        "id": "2nPTd1SpDTBp",
        "colab_type": "code",
        "colab": {
          "base_uri": "https://localhost:8080/",
          "height": 153
        },
        "outputId": "9d78d986-565f-460b-92b3-7081e67b6f2f"
      },
      "source": [
        "# Fitting the model on the training set\n",
        "\n",
        "lr = sklearn.linear_model.LogisticRegression(class_weight='balanced')\n",
        "lr = lr.fit(X_train,y_train)\n",
        "\n",
        "# Making a prediction on the test set\n",
        "\n",
        "prediction = lr.predict(X_test)"
      ],
      "execution_count": 109,
      "outputs": [
        {
          "output_type": "stream",
          "text": [
            "/usr/local/lib/python3.6/dist-packages/sklearn/linear_model/_logistic.py:940: ConvergenceWarning: lbfgs failed to converge (status=1):\n",
            "STOP: TOTAL NO. of ITERATIONS REACHED LIMIT.\n",
            "\n",
            "Increase the number of iterations (max_iter) or scale the data as shown in:\n",
            "    https://scikit-learn.org/stable/modules/preprocessing.html\n",
            "Please also refer to the documentation for alternative solver options:\n",
            "    https://scikit-learn.org/stable/modules/linear_model.html#logistic-regression\n",
            "  extra_warning_msg=_LOGISTIC_SOLVER_CONVERGENCE_MSG)\n"
          ],
          "name": "stderr"
        }
      ]
    },
    {
      "cell_type": "code",
      "metadata": {
        "id": "R7Lu_oJ5EwA2",
        "colab_type": "code",
        "colab": {
          "base_uri": "https://localhost:8080/",
          "height": 34
        },
        "outputId": "e5642a8c-3455-4514-a110-a9f12ad16af5"
      },
      "source": [
        "accuracy = sklearn.metrics.accuracy_score(y_test, prediction)\n",
        "print(\"Accuracy: %.1f%%\"% (accuracy*100))"
      ],
      "execution_count": 110,
      "outputs": [
        {
          "output_type": "stream",
          "text": [
            "Accuracy: 91.4%\n"
          ],
          "name": "stdout"
        }
      ]
    },
    {
      "cell_type": "code",
      "metadata": {
        "colab_type": "code",
        "id": "HNliRU94E-Z6",
        "colab": {
          "base_uri": "https://localhost:8080/",
          "height": 34
        },
        "outputId": "b9b14285-951e-4e9c-932a-ce3f0cddd650"
      },
      "source": [
        "accuracy = sklearn.metrics.balanced_accuracy_score(y_test, prediction)\n",
        "print(\"Balanced Accuracy: %.1f%%\"% (accuracy*100))"
      ],
      "execution_count": 111,
      "outputs": [
        {
          "output_type": "stream",
          "text": [
            "Balanced Accuracy: 87.3%\n"
          ],
          "name": "stdout"
        }
      ]
    },
    {
      "cell_type": "code",
      "metadata": {
        "colab_type": "code",
        "id": "c0iEpktzE-Z_",
        "colab": {
          "base_uri": "https://localhost:8080/",
          "height": 187
        },
        "outputId": "43f1c3a1-aa69-4776-e56c-acff969ef7a0"
      },
      "source": [
        "classification_report = sklearn.metrics.classification_report(y_test, prediction)\n",
        "print(classification_report)"
      ],
      "execution_count": 112,
      "outputs": [
        {
          "output_type": "stream",
          "text": [
            "              precision    recall  f1-score   support\n",
            "\n",
            "           2       0.97      0.94      0.95    287185\n",
            "           3       0.89      0.87      0.88    149388\n",
            "           4       0.05      0.81      0.10       975\n",
            "\n",
            "    accuracy                           0.91    437548\n",
            "   macro avg       0.64      0.87      0.64    437548\n",
            "weighted avg       0.94      0.91      0.93    437548\n",
            "\n"
          ],
          "name": "stdout"
        }
      ]
    },
    {
      "cell_type": "markdown",
      "metadata": {
        "id": "Tzw3Dn4G-JM3",
        "colab_type": "text"
      },
      "source": [
        "While the logistic regression with class balance has a slightly lower total accuracy, it has a much higher balanced accuracy than our baseline. Additionally, note that the recall for class 4 is now at 0.81, a significant improvement from the baseline. Since it looks like the recall for class 3 went down, it looks like the model might be correctly classifying accidents at the cost of misclassifying class 3 accidents as class 4. This is also evident by the extremely low precision score for class 4.\n",
        "\n",
        "Despite the low precision, this model is a big improvement over our baseline. Here it is not important that our precision for class 4 is so low, since we would rather over-classify accident traffic impact than under-classify it in the use case of generating conservative travel time estimates."
      ]
    },
    {
      "cell_type": "markdown",
      "metadata": {
        "id": "6EnT1SV4Smwg",
        "colab_type": "text"
      },
      "source": [
        "## Random Forest"
      ]
    },
    {
      "cell_type": "markdown",
      "metadata": {
        "id": "Q8VpqKuy_1wl",
        "colab_type": "text"
      },
      "source": [
        "And now, a random forest with the class_weight balanced flag. The hope here is that by introducing a greater number of estimators, there will be a few which specialize to deciding between class 3 and class 4 accidents, improving the precision and recall of both classes."
      ]
    },
    {
      "cell_type": "code",
      "metadata": {
        "id": "vlcsaPJeSoVk",
        "colab_type": "code",
        "colab": {}
      },
      "source": [
        "# Fitting the model on the training set\n",
        "\n",
        "rf = sklearn.ensemble.RandomForestClassifier(n_estimators=50, max_depth=10, \n",
        "                                             class_weight='balanced')\n",
        "rf = rf.fit(X_train,y_train)\n",
        "\n",
        "# Making a prediction on the test set\n",
        "\n",
        "prediction = rf.predict(X_test)"
      ],
      "execution_count": 0,
      "outputs": []
    },
    {
      "cell_type": "code",
      "metadata": {
        "colab_type": "code",
        "id": "boSwK_-zS3Fe",
        "colab": {
          "base_uri": "https://localhost:8080/",
          "height": 34
        },
        "outputId": "846854b1-41b3-44e7-e180-956f39803122"
      },
      "source": [
        "accuracy = sklearn.metrics.accuracy_score(y_test, prediction)\n",
        "print(\"Accuracy: %.1f%%\"% (accuracy*100))"
      ],
      "execution_count": 114,
      "outputs": [
        {
          "output_type": "stream",
          "text": [
            "Accuracy: 85.4%\n"
          ],
          "name": "stdout"
        }
      ]
    },
    {
      "cell_type": "code",
      "metadata": {
        "colab_type": "code",
        "id": "wXHVHovQS3Fk",
        "colab": {
          "base_uri": "https://localhost:8080/",
          "height": 34
        },
        "outputId": "68a43608-d76e-4f93-86ab-da5448203682"
      },
      "source": [
        "accuracy = sklearn.metrics.balanced_accuracy_score(y_test, prediction)\n",
        "print(\"Balanced Accuracy: %.1f%%\"% (accuracy*100))"
      ],
      "execution_count": 115,
      "outputs": [
        {
          "output_type": "stream",
          "text": [
            "Balanced Accuracy: 85.3%\n"
          ],
          "name": "stdout"
        }
      ]
    },
    {
      "cell_type": "code",
      "metadata": {
        "colab_type": "code",
        "id": "gHSkPMZfS3Fm",
        "colab": {
          "base_uri": "https://localhost:8080/",
          "height": 187
        },
        "outputId": "ff8fd83d-f00a-419c-8832-ca0fb9400544"
      },
      "source": [
        "classification_report = sklearn.metrics.classification_report(y_test, prediction)\n",
        "print(classification_report)"
      ],
      "execution_count": 116,
      "outputs": [
        {
          "output_type": "stream",
          "text": [
            "              precision    recall  f1-score   support\n",
            "\n",
            "           2       0.95      0.87      0.90    287185\n",
            "           3       0.78      0.83      0.81    149388\n",
            "           4       0.05      0.86      0.10       975\n",
            "\n",
            "    accuracy                           0.85    437548\n",
            "   macro avg       0.59      0.85      0.60    437548\n",
            "weighted avg       0.89      0.85      0.87    437548\n",
            "\n"
          ],
          "name": "stdout"
        }
      ]
    },
    {
      "cell_type": "markdown",
      "metadata": {
        "id": "z28QwCrqZVOb",
        "colab_type": "text"
      },
      "source": [
        "Looks like precision took a bit of a hit across the board, but recall for class 4 is up slightly. The balanced accuracy and accuracy are also a bit lower than the logistic regression as well, indicating that it might be a better model for this specific dataset."
      ]
    },
    {
      "cell_type": "markdown",
      "metadata": {
        "id": "a7SwVTkzAhhp",
        "colab_type": "text"
      },
      "source": [
        "# Conclusion"
      ]
    },
    {
      "cell_type": "markdown",
      "metadata": {
        "id": "UOUlIaqjAkph",
        "colab_type": "text"
      },
      "source": [
        "## Difficulties\n",
        "\n",
        "A lot of the difficulty about this project definitely had to do with the size of the dataset, which began at ~3 million records. Sklearn's PCA outputs in a dense format, which made the data very hard to deal with afterwards. As a result of having to use almost all components to represent 0.9 explained variance and dense-output problem, I decided to forego PCA in this analysis and stick with the sparse scipy matrix format. This definitely made modeling more feasible in Colab. \n",
        "\n",
        "Nevertheless, the size of the dataset posed another problem when it came to modeling. I was unable to get meaningful results from a GridSeachCV (iterating over hyperparams to select optimal combinations) as training a model for every combination of hyperparameters pushed the limits of both Colab and my patience. As a result, I adopted more of a \"guess and check\" approach, iterating through parameters until I found ones that worked for my models. "
      ]
    },
    {
      "cell_type": "markdown",
      "metadata": {
        "id": "XKjxB1jvDf-U",
        "colab_type": "text"
      },
      "source": [
        "## Moving forward\n",
        "\n",
        "If I had to do this analysis again, I would definitely consider using Spark and EMR. Although there is a bit more overhead with distributed computing, I think that being able to properly search for hyperparameters and use more complex models would definitely open more doors for analysis with this dataset. It seemed that TF-IDF for this dataset was appropriate because most of the descriptions seemed to be similar in format and thus the words themselves were good indicators of the content of the descriptions, but I would love the opportunity to perform more in-depth analysis on longer and more complex descriptions."
      ]
    }
  ]
}